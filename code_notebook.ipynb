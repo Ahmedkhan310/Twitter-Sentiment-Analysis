{
  "nbformat": 4,
  "nbformat_minor": 0,
  "metadata": {
    "colab": {
      "provenance": [],
      "gpuType": "T4"
    },
    "kernelspec": {
      "name": "python3",
      "display_name": "Python 3"
    },
    "language_info": {
      "name": "python"
    },
    "accelerator": "GPU"
  },
  "cells": [
    {
      "cell_type": "markdown",
      "source": [
        "# **Install and Load Required Libraries**"
      ],
      "metadata": {
        "id": "rQoDYZDWI0XK"
      }
    },
    {
      "cell_type": "code",
      "source": [
        "!pip install bertopic"
      ],
      "metadata": {
        "id": "E88rqUuK1nli"
      },
      "execution_count": null,
      "outputs": []
    },
    {
      "cell_type": "code",
      "source": [
        "!pip install sentence-transformers"
      ],
      "metadata": {
        "collapsed": true,
        "id": "xkQqRGVt0-th"
      },
      "execution_count": null,
      "outputs": []
    },
    {
      "cell_type": "code",
      "source": [
        "from bertopic import BERTopic"
      ],
      "metadata": {
        "id": "s9lJ0mQr1Uet"
      },
      "execution_count": 24,
      "outputs": []
    },
    {
      "cell_type": "code",
      "source": [
        "from sentence_transformers import SentenceTransformer"
      ],
      "metadata": {
        "id": "lzfZgWKs08b9"
      },
      "execution_count": 18,
      "outputs": []
    },
    {
      "cell_type": "code",
      "execution_count": 1,
      "metadata": {
        "id": "iQFO39aVm4P1"
      },
      "outputs": [],
      "source": [
        "import pandas as pd"
      ]
    },
    {
      "cell_type": "markdown",
      "source": [
        "# **Load and Interpret Dataset**\n",
        "\n",
        "Dataset Kaggle Link: https://www.kaggle.com/datasets/edqian/twitter-climate-change-sentiment-dataset/data"
      ],
      "metadata": {
        "id": "I0S2KNf-I6Kd"
      }
    },
    {
      "cell_type": "code",
      "source": [
        "tweets_df = pd.read_csv(\"/content/drive/MyDrive/ict-606-aliasghar-2/twitter_sentiment_data.csv\")"
      ],
      "metadata": {
        "id": "x8-WBOhnyZS_"
      },
      "execution_count": 6,
      "outputs": []
    },
    {
      "cell_type": "code",
      "source": [
        "tweets_df.head()"
      ],
      "metadata": {
        "colab": {
          "base_uri": "https://localhost:8080/",
          "height": 295
        },
        "id": "9ob9Wb3JykyE",
        "outputId": "d3299121-3221-42fa-9ffc-8cc1d67b6900"
      },
      "execution_count": 7,
      "outputs": [
        {
          "output_type": "execute_result",
          "data": {
            "text/plain": [
              "   sentiment                                            message  \\\n",
              "0         -1  @tiniebeany climate change is an interesting h...   \n",
              "1          1  RT @NatGeoChannel: Watch #BeforeTheFlood right...   \n",
              "2          1  Fabulous! Leonardo #DiCaprio's film on #climat...   \n",
              "3          1  RT @Mick_Fanning: Just watched this amazing do...   \n",
              "4          2  RT @cnalive: Pranita Biswasi, a Lutheran from ...   \n",
              "\n",
              "              tweetid  \n",
              "0  792927353886371840  \n",
              "1  793124211518832641  \n",
              "2  793124402388832256  \n",
              "3  793124635873275904  \n",
              "4  793125156185137153  "
            ],
            "text/html": [
              "\n",
              "  <div id=\"df-6894a4b5-7ed2-4380-9ed7-6efb3749196c\" class=\"colab-df-container\">\n",
              "    <div>\n",
              "<style scoped>\n",
              "    .dataframe tbody tr th:only-of-type {\n",
              "        vertical-align: middle;\n",
              "    }\n",
              "\n",
              "    .dataframe tbody tr th {\n",
              "        vertical-align: top;\n",
              "    }\n",
              "\n",
              "    .dataframe thead th {\n",
              "        text-align: right;\n",
              "    }\n",
              "</style>\n",
              "<table border=\"1\" class=\"dataframe\">\n",
              "  <thead>\n",
              "    <tr style=\"text-align: right;\">\n",
              "      <th></th>\n",
              "      <th>sentiment</th>\n",
              "      <th>message</th>\n",
              "      <th>tweetid</th>\n",
              "    </tr>\n",
              "  </thead>\n",
              "  <tbody>\n",
              "    <tr>\n",
              "      <th>0</th>\n",
              "      <td>-1</td>\n",
              "      <td>@tiniebeany climate change is an interesting h...</td>\n",
              "      <td>792927353886371840</td>\n",
              "    </tr>\n",
              "    <tr>\n",
              "      <th>1</th>\n",
              "      <td>1</td>\n",
              "      <td>RT @NatGeoChannel: Watch #BeforeTheFlood right...</td>\n",
              "      <td>793124211518832641</td>\n",
              "    </tr>\n",
              "    <tr>\n",
              "      <th>2</th>\n",
              "      <td>1</td>\n",
              "      <td>Fabulous! Leonardo #DiCaprio's film on #climat...</td>\n",
              "      <td>793124402388832256</td>\n",
              "    </tr>\n",
              "    <tr>\n",
              "      <th>3</th>\n",
              "      <td>1</td>\n",
              "      <td>RT @Mick_Fanning: Just watched this amazing do...</td>\n",
              "      <td>793124635873275904</td>\n",
              "    </tr>\n",
              "    <tr>\n",
              "      <th>4</th>\n",
              "      <td>2</td>\n",
              "      <td>RT @cnalive: Pranita Biswasi, a Lutheran from ...</td>\n",
              "      <td>793125156185137153</td>\n",
              "    </tr>\n",
              "  </tbody>\n",
              "</table>\n",
              "</div>\n",
              "    <div class=\"colab-df-buttons\">\n",
              "\n",
              "  <div class=\"colab-df-container\">\n",
              "    <button class=\"colab-df-convert\" onclick=\"convertToInteractive('df-6894a4b5-7ed2-4380-9ed7-6efb3749196c')\"\n",
              "            title=\"Convert this dataframe to an interactive table.\"\n",
              "            style=\"display:none;\">\n",
              "\n",
              "  <svg xmlns=\"http://www.w3.org/2000/svg\" height=\"24px\" viewBox=\"0 -960 960 960\">\n",
              "    <path d=\"M120-120v-720h720v720H120Zm60-500h600v-160H180v160Zm220 220h160v-160H400v160Zm0 220h160v-160H400v160ZM180-400h160v-160H180v160Zm440 0h160v-160H620v160ZM180-180h160v-160H180v160Zm440 0h160v-160H620v160Z\"/>\n",
              "  </svg>\n",
              "    </button>\n",
              "\n",
              "  <style>\n",
              "    .colab-df-container {\n",
              "      display:flex;\n",
              "      gap: 12px;\n",
              "    }\n",
              "\n",
              "    .colab-df-convert {\n",
              "      background-color: #E8F0FE;\n",
              "      border: none;\n",
              "      border-radius: 50%;\n",
              "      cursor: pointer;\n",
              "      display: none;\n",
              "      fill: #1967D2;\n",
              "      height: 32px;\n",
              "      padding: 0 0 0 0;\n",
              "      width: 32px;\n",
              "    }\n",
              "\n",
              "    .colab-df-convert:hover {\n",
              "      background-color: #E2EBFA;\n",
              "      box-shadow: 0px 1px 2px rgba(60, 64, 67, 0.3), 0px 1px 3px 1px rgba(60, 64, 67, 0.15);\n",
              "      fill: #174EA6;\n",
              "    }\n",
              "\n",
              "    .colab-df-buttons div {\n",
              "      margin-bottom: 4px;\n",
              "    }\n",
              "\n",
              "    [theme=dark] .colab-df-convert {\n",
              "      background-color: #3B4455;\n",
              "      fill: #D2E3FC;\n",
              "    }\n",
              "\n",
              "    [theme=dark] .colab-df-convert:hover {\n",
              "      background-color: #434B5C;\n",
              "      box-shadow: 0px 1px 3px 1px rgba(0, 0, 0, 0.15);\n",
              "      filter: drop-shadow(0px 1px 2px rgba(0, 0, 0, 0.3));\n",
              "      fill: #FFFFFF;\n",
              "    }\n",
              "  </style>\n",
              "\n",
              "    <script>\n",
              "      const buttonEl =\n",
              "        document.querySelector('#df-6894a4b5-7ed2-4380-9ed7-6efb3749196c button.colab-df-convert');\n",
              "      buttonEl.style.display =\n",
              "        google.colab.kernel.accessAllowed ? 'block' : 'none';\n",
              "\n",
              "      async function convertToInteractive(key) {\n",
              "        const element = document.querySelector('#df-6894a4b5-7ed2-4380-9ed7-6efb3749196c');\n",
              "        const dataTable =\n",
              "          await google.colab.kernel.invokeFunction('convertToInteractive',\n",
              "                                                    [key], {});\n",
              "        if (!dataTable) return;\n",
              "\n",
              "        const docLinkHtml = 'Like what you see? Visit the ' +\n",
              "          '<a target=\"_blank\" href=https://colab.research.google.com/notebooks/data_table.ipynb>data table notebook</a>'\n",
              "          + ' to learn more about interactive tables.';\n",
              "        element.innerHTML = '';\n",
              "        dataTable['output_type'] = 'display_data';\n",
              "        await google.colab.output.renderOutput(dataTable, element);\n",
              "        const docLink = document.createElement('div');\n",
              "        docLink.innerHTML = docLinkHtml;\n",
              "        element.appendChild(docLink);\n",
              "      }\n",
              "    </script>\n",
              "  </div>\n",
              "\n",
              "\n",
              "<div id=\"df-b222d2d7-c151-4583-8887-09a782b80ead\">\n",
              "  <button class=\"colab-df-quickchart\" onclick=\"quickchart('df-b222d2d7-c151-4583-8887-09a782b80ead')\"\n",
              "            title=\"Suggest charts\"\n",
              "            style=\"display:none;\">\n",
              "\n",
              "<svg xmlns=\"http://www.w3.org/2000/svg\" height=\"24px\"viewBox=\"0 0 24 24\"\n",
              "     width=\"24px\">\n",
              "    <g>\n",
              "        <path d=\"M19 3H5c-1.1 0-2 .9-2 2v14c0 1.1.9 2 2 2h14c1.1 0 2-.9 2-2V5c0-1.1-.9-2-2-2zM9 17H7v-7h2v7zm4 0h-2V7h2v10zm4 0h-2v-4h2v4z\"/>\n",
              "    </g>\n",
              "</svg>\n",
              "  </button>\n",
              "\n",
              "<style>\n",
              "  .colab-df-quickchart {\n",
              "      --bg-color: #E8F0FE;\n",
              "      --fill-color: #1967D2;\n",
              "      --hover-bg-color: #E2EBFA;\n",
              "      --hover-fill-color: #174EA6;\n",
              "      --disabled-fill-color: #AAA;\n",
              "      --disabled-bg-color: #DDD;\n",
              "  }\n",
              "\n",
              "  [theme=dark] .colab-df-quickchart {\n",
              "      --bg-color: #3B4455;\n",
              "      --fill-color: #D2E3FC;\n",
              "      --hover-bg-color: #434B5C;\n",
              "      --hover-fill-color: #FFFFFF;\n",
              "      --disabled-bg-color: #3B4455;\n",
              "      --disabled-fill-color: #666;\n",
              "  }\n",
              "\n",
              "  .colab-df-quickchart {\n",
              "    background-color: var(--bg-color);\n",
              "    border: none;\n",
              "    border-radius: 50%;\n",
              "    cursor: pointer;\n",
              "    display: none;\n",
              "    fill: var(--fill-color);\n",
              "    height: 32px;\n",
              "    padding: 0;\n",
              "    width: 32px;\n",
              "  }\n",
              "\n",
              "  .colab-df-quickchart:hover {\n",
              "    background-color: var(--hover-bg-color);\n",
              "    box-shadow: 0 1px 2px rgba(60, 64, 67, 0.3), 0 1px 3px 1px rgba(60, 64, 67, 0.15);\n",
              "    fill: var(--button-hover-fill-color);\n",
              "  }\n",
              "\n",
              "  .colab-df-quickchart-complete:disabled,\n",
              "  .colab-df-quickchart-complete:disabled:hover {\n",
              "    background-color: var(--disabled-bg-color);\n",
              "    fill: var(--disabled-fill-color);\n",
              "    box-shadow: none;\n",
              "  }\n",
              "\n",
              "  .colab-df-spinner {\n",
              "    border: 2px solid var(--fill-color);\n",
              "    border-color: transparent;\n",
              "    border-bottom-color: var(--fill-color);\n",
              "    animation:\n",
              "      spin 1s steps(1) infinite;\n",
              "  }\n",
              "\n",
              "  @keyframes spin {\n",
              "    0% {\n",
              "      border-color: transparent;\n",
              "      border-bottom-color: var(--fill-color);\n",
              "      border-left-color: var(--fill-color);\n",
              "    }\n",
              "    20% {\n",
              "      border-color: transparent;\n",
              "      border-left-color: var(--fill-color);\n",
              "      border-top-color: var(--fill-color);\n",
              "    }\n",
              "    30% {\n",
              "      border-color: transparent;\n",
              "      border-left-color: var(--fill-color);\n",
              "      border-top-color: var(--fill-color);\n",
              "      border-right-color: var(--fill-color);\n",
              "    }\n",
              "    40% {\n",
              "      border-color: transparent;\n",
              "      border-right-color: var(--fill-color);\n",
              "      border-top-color: var(--fill-color);\n",
              "    }\n",
              "    60% {\n",
              "      border-color: transparent;\n",
              "      border-right-color: var(--fill-color);\n",
              "    }\n",
              "    80% {\n",
              "      border-color: transparent;\n",
              "      border-right-color: var(--fill-color);\n",
              "      border-bottom-color: var(--fill-color);\n",
              "    }\n",
              "    90% {\n",
              "      border-color: transparent;\n",
              "      border-bottom-color: var(--fill-color);\n",
              "    }\n",
              "  }\n",
              "</style>\n",
              "\n",
              "  <script>\n",
              "    async function quickchart(key) {\n",
              "      const quickchartButtonEl =\n",
              "        document.querySelector('#' + key + ' button');\n",
              "      quickchartButtonEl.disabled = true;  // To prevent multiple clicks.\n",
              "      quickchartButtonEl.classList.add('colab-df-spinner');\n",
              "      try {\n",
              "        const charts = await google.colab.kernel.invokeFunction(\n",
              "            'suggestCharts', [key], {});\n",
              "      } catch (error) {\n",
              "        console.error('Error during call to suggestCharts:', error);\n",
              "      }\n",
              "      quickchartButtonEl.classList.remove('colab-df-spinner');\n",
              "      quickchartButtonEl.classList.add('colab-df-quickchart-complete');\n",
              "    }\n",
              "    (() => {\n",
              "      let quickchartButtonEl =\n",
              "        document.querySelector('#df-b222d2d7-c151-4583-8887-09a782b80ead button');\n",
              "      quickchartButtonEl.style.display =\n",
              "        google.colab.kernel.accessAllowed ? 'block' : 'none';\n",
              "    })();\n",
              "  </script>\n",
              "</div>\n",
              "\n",
              "    </div>\n",
              "  </div>\n"
            ],
            "application/vnd.google.colaboratory.intrinsic+json": {
              "type": "dataframe",
              "variable_name": "tweets_df",
              "summary": "{\n  \"name\": \"tweets_df\",\n  \"rows\": 43943,\n  \"fields\": [\n    {\n      \"column\": \"sentiment\",\n      \"properties\": {\n        \"dtype\": \"number\",\n        \"std\": 0,\n        \"min\": -1,\n        \"max\": 2,\n        \"num_unique_values\": 4,\n        \"samples\": [\n          1,\n          0,\n          -1\n        ],\n        \"semantic_type\": \"\",\n        \"description\": \"\"\n      }\n    },\n    {\n      \"column\": \"message\",\n      \"properties\": {\n        \"dtype\": \"string\",\n        \"num_unique_values\": 41033,\n        \"samples\": [\n          \"RT @AP: The Latest: President Trump to announce the US is withdrawing from the Paris climate change accord. https://t.co/f5RvFQzARj\",\n          \"RT @morten: @realDonaldTrump This is climate change, Mr. President. It affects us all whether or not you believe in it.\",\n          \"RT @amayawful: this is called 'climate change' or aka 'our planet is dying hastily' https://t.co/OX4WbkM15V\"\n        ],\n        \"semantic_type\": \"\",\n        \"description\": \"\"\n      }\n    },\n    {\n      \"column\": \"tweetid\",\n      \"properties\": {\n        \"dtype\": \"number\",\n        \"std\": 85685059334745584,\n        \"min\": 592633384804966400,\n        \"max\": 966702372134293504,\n        \"num_unique_values\": 43943,\n        \"samples\": [\n          955713180684177408,\n          861896636313817089,\n          839961977766178817\n        ],\n        \"semantic_type\": \"\",\n        \"description\": \"\"\n      }\n    }\n  ]\n}"
            }
          },
          "metadata": {},
          "execution_count": 7
        }
      ]
    },
    {
      "cell_type": "code",
      "source": [
        "tweets_df.info()"
      ],
      "metadata": {
        "colab": {
          "base_uri": "https://localhost:8080/"
        },
        "id": "6Rbp08KLypRr",
        "outputId": "65e797d7-f1a1-4bb6-97b8-a6dbf6bdd935"
      },
      "execution_count": 8,
      "outputs": [
        {
          "output_type": "stream",
          "name": "stdout",
          "text": [
            "<class 'pandas.core.frame.DataFrame'>\n",
            "RangeIndex: 43943 entries, 0 to 43942\n",
            "Data columns (total 3 columns):\n",
            " #   Column     Non-Null Count  Dtype \n",
            "---  ------     --------------  ----- \n",
            " 0   sentiment  43943 non-null  int64 \n",
            " 1   message    43943 non-null  object\n",
            " 2   tweetid    43943 non-null  int64 \n",
            "dtypes: int64(2), object(1)\n",
            "memory usage: 1.0+ MB\n"
          ]
        }
      ]
    },
    {
      "cell_type": "code",
      "source": [
        "tweets_df['sentiment'].value_counts()"
      ],
      "metadata": {
        "colab": {
          "base_uri": "https://localhost:8080/"
        },
        "id": "IRiKpOIFyyfC",
        "outputId": "c81613da-843c-4b7b-bb90-a32662a05514"
      },
      "execution_count": 9,
      "outputs": [
        {
          "output_type": "execute_result",
          "data": {
            "text/plain": [
              "sentiment\n",
              " 1    22962\n",
              " 2     9276\n",
              " 0     7715\n",
              "-1     3990\n",
              "Name: count, dtype: int64"
            ]
          },
          "metadata": {},
          "execution_count": 9
        }
      ]
    },
    {
      "cell_type": "code",
      "source": [
        "# Select a balanced subset of 500 samples per sentiment\n",
        "balanced_data = tweets_df.groupby('sentiment', group_keys=False).apply(lambda x: x.sample(min(len(x), 600), random_state=42))"
      ],
      "metadata": {
        "id": "WjgGeEw6y2Wn"
      },
      "execution_count": 11,
      "outputs": []
    },
    {
      "cell_type": "code",
      "source": [
        "balanced_data['sentiment'].value_counts()"
      ],
      "metadata": {
        "colab": {
          "base_uri": "https://localhost:8080/"
        },
        "id": "OuZvS9W8z81P",
        "outputId": "363de1ad-3adc-449c-c58b-741153a87753"
      },
      "execution_count": 12,
      "outputs": [
        {
          "output_type": "execute_result",
          "data": {
            "text/plain": [
              "sentiment\n",
              "-1    600\n",
              " 0    600\n",
              " 1    600\n",
              " 2    600\n",
              "Name: count, dtype: int64"
            ]
          },
          "metadata": {},
          "execution_count": 12
        }
      ]
    },
    {
      "cell_type": "markdown",
      "source": [
        "# **Data Preprocessing**"
      ],
      "metadata": {
        "id": "Jt8_5JiPI-7H"
      }
    },
    {
      "cell_type": "code",
      "source": [
        "# Remove URLs\n",
        "balanced_data['message'] = balanced_data['message'].str.replace(r\"http\\S+\", \"\", regex=True)\n",
        "# Remove mentions\n",
        "balanced_data['message'] = balanced_data['message'].str.replace(r\"@\\S+\", \"\", regex=True)\n",
        "# Remove special characters\n",
        "balanced_data['message'] = balanced_data['message'].str.replace(r\"[^A-Za-z0-9\\s]\", \" \", regex=True)\n",
        "# Remove leading and trailing spaces\n",
        "balanced_data['message'] = balanced_data['message'].str.strip()\n",
        "\n",
        "# convert to lowercase\n",
        "balanced_data['message'] = balanced_data['message'].str.lower()"
      ],
      "metadata": {
        "id": "td-fgVdE0En3"
      },
      "execution_count": 14,
      "outputs": []
    },
    {
      "cell_type": "code",
      "source": [
        "balanced_data.head()"
      ],
      "metadata": {
        "colab": {
          "base_uri": "https://localhost:8080/",
          "height": 206
        },
        "id": "YYcsyMuj0Xss",
        "outputId": "d1c1953b-e6a7-4a59-b713-523cde520e81"
      },
      "execution_count": 15,
      "outputs": [
        {
          "output_type": "execute_result",
          "data": {
            "text/plain": [
              "       sentiment                                            message  \\\n",
              "19851         -1  rt  bill nye whines at cnn for having actual s...   \n",
              "25261         -1  rt  dr  roger pielke jr    the science ain t t...   \n",
              "22078         -1  rt  how bout you refund the billions you ve st...   \n",
              "12604         -1      can t tax us for this it s not climate change   \n",
              "22463         -1  rt  celebrities who couldn t drag hillary s bl...   \n",
              "\n",
              "                  tweetid  \n",
              "19851  856190440516857856  \n",
              "25261  895910415435268096  \n",
              "22078  870499885174243328  \n",
              "12604  827495307885805569  \n",
              "22463  871391633585000448  "
            ],
            "text/html": [
              "\n",
              "  <div id=\"df-d828fd98-9b69-49ad-8f25-6402b682e21a\" class=\"colab-df-container\">\n",
              "    <div>\n",
              "<style scoped>\n",
              "    .dataframe tbody tr th:only-of-type {\n",
              "        vertical-align: middle;\n",
              "    }\n",
              "\n",
              "    .dataframe tbody tr th {\n",
              "        vertical-align: top;\n",
              "    }\n",
              "\n",
              "    .dataframe thead th {\n",
              "        text-align: right;\n",
              "    }\n",
              "</style>\n",
              "<table border=\"1\" class=\"dataframe\">\n",
              "  <thead>\n",
              "    <tr style=\"text-align: right;\">\n",
              "      <th></th>\n",
              "      <th>sentiment</th>\n",
              "      <th>message</th>\n",
              "      <th>tweetid</th>\n",
              "    </tr>\n",
              "  </thead>\n",
              "  <tbody>\n",
              "    <tr>\n",
              "      <th>19851</th>\n",
              "      <td>-1</td>\n",
              "      <td>rt  bill nye whines at cnn for having actual s...</td>\n",
              "      <td>856190440516857856</td>\n",
              "    </tr>\n",
              "    <tr>\n",
              "      <th>25261</th>\n",
              "      <td>-1</td>\n",
              "      <td>rt  dr  roger pielke jr    the science ain t t...</td>\n",
              "      <td>895910415435268096</td>\n",
              "    </tr>\n",
              "    <tr>\n",
              "      <th>22078</th>\n",
              "      <td>-1</td>\n",
              "      <td>rt  how bout you refund the billions you ve st...</td>\n",
              "      <td>870499885174243328</td>\n",
              "    </tr>\n",
              "    <tr>\n",
              "      <th>12604</th>\n",
              "      <td>-1</td>\n",
              "      <td>can t tax us for this it s not climate change</td>\n",
              "      <td>827495307885805569</td>\n",
              "    </tr>\n",
              "    <tr>\n",
              "      <th>22463</th>\n",
              "      <td>-1</td>\n",
              "      <td>rt  celebrities who couldn t drag hillary s bl...</td>\n",
              "      <td>871391633585000448</td>\n",
              "    </tr>\n",
              "  </tbody>\n",
              "</table>\n",
              "</div>\n",
              "    <div class=\"colab-df-buttons\">\n",
              "\n",
              "  <div class=\"colab-df-container\">\n",
              "    <button class=\"colab-df-convert\" onclick=\"convertToInteractive('df-d828fd98-9b69-49ad-8f25-6402b682e21a')\"\n",
              "            title=\"Convert this dataframe to an interactive table.\"\n",
              "            style=\"display:none;\">\n",
              "\n",
              "  <svg xmlns=\"http://www.w3.org/2000/svg\" height=\"24px\" viewBox=\"0 -960 960 960\">\n",
              "    <path d=\"M120-120v-720h720v720H120Zm60-500h600v-160H180v160Zm220 220h160v-160H400v160Zm0 220h160v-160H400v160ZM180-400h160v-160H180v160Zm440 0h160v-160H620v160ZM180-180h160v-160H180v160Zm440 0h160v-160H620v160Z\"/>\n",
              "  </svg>\n",
              "    </button>\n",
              "\n",
              "  <style>\n",
              "    .colab-df-container {\n",
              "      display:flex;\n",
              "      gap: 12px;\n",
              "    }\n",
              "\n",
              "    .colab-df-convert {\n",
              "      background-color: #E8F0FE;\n",
              "      border: none;\n",
              "      border-radius: 50%;\n",
              "      cursor: pointer;\n",
              "      display: none;\n",
              "      fill: #1967D2;\n",
              "      height: 32px;\n",
              "      padding: 0 0 0 0;\n",
              "      width: 32px;\n",
              "    }\n",
              "\n",
              "    .colab-df-convert:hover {\n",
              "      background-color: #E2EBFA;\n",
              "      box-shadow: 0px 1px 2px rgba(60, 64, 67, 0.3), 0px 1px 3px 1px rgba(60, 64, 67, 0.15);\n",
              "      fill: #174EA6;\n",
              "    }\n",
              "\n",
              "    .colab-df-buttons div {\n",
              "      margin-bottom: 4px;\n",
              "    }\n",
              "\n",
              "    [theme=dark] .colab-df-convert {\n",
              "      background-color: #3B4455;\n",
              "      fill: #D2E3FC;\n",
              "    }\n",
              "\n",
              "    [theme=dark] .colab-df-convert:hover {\n",
              "      background-color: #434B5C;\n",
              "      box-shadow: 0px 1px 3px 1px rgba(0, 0, 0, 0.15);\n",
              "      filter: drop-shadow(0px 1px 2px rgba(0, 0, 0, 0.3));\n",
              "      fill: #FFFFFF;\n",
              "    }\n",
              "  </style>\n",
              "\n",
              "    <script>\n",
              "      const buttonEl =\n",
              "        document.querySelector('#df-d828fd98-9b69-49ad-8f25-6402b682e21a button.colab-df-convert');\n",
              "      buttonEl.style.display =\n",
              "        google.colab.kernel.accessAllowed ? 'block' : 'none';\n",
              "\n",
              "      async function convertToInteractive(key) {\n",
              "        const element = document.querySelector('#df-d828fd98-9b69-49ad-8f25-6402b682e21a');\n",
              "        const dataTable =\n",
              "          await google.colab.kernel.invokeFunction('convertToInteractive',\n",
              "                                                    [key], {});\n",
              "        if (!dataTable) return;\n",
              "\n",
              "        const docLinkHtml = 'Like what you see? Visit the ' +\n",
              "          '<a target=\"_blank\" href=https://colab.research.google.com/notebooks/data_table.ipynb>data table notebook</a>'\n",
              "          + ' to learn more about interactive tables.';\n",
              "        element.innerHTML = '';\n",
              "        dataTable['output_type'] = 'display_data';\n",
              "        await google.colab.output.renderOutput(dataTable, element);\n",
              "        const docLink = document.createElement('div');\n",
              "        docLink.innerHTML = docLinkHtml;\n",
              "        element.appendChild(docLink);\n",
              "      }\n",
              "    </script>\n",
              "  </div>\n",
              "\n",
              "\n",
              "<div id=\"df-3961809b-3eb1-4c2f-a22d-f5cb8489a73f\">\n",
              "  <button class=\"colab-df-quickchart\" onclick=\"quickchart('df-3961809b-3eb1-4c2f-a22d-f5cb8489a73f')\"\n",
              "            title=\"Suggest charts\"\n",
              "            style=\"display:none;\">\n",
              "\n",
              "<svg xmlns=\"http://www.w3.org/2000/svg\" height=\"24px\"viewBox=\"0 0 24 24\"\n",
              "     width=\"24px\">\n",
              "    <g>\n",
              "        <path d=\"M19 3H5c-1.1 0-2 .9-2 2v14c0 1.1.9 2 2 2h14c1.1 0 2-.9 2-2V5c0-1.1-.9-2-2-2zM9 17H7v-7h2v7zm4 0h-2V7h2v10zm4 0h-2v-4h2v4z\"/>\n",
              "    </g>\n",
              "</svg>\n",
              "  </button>\n",
              "\n",
              "<style>\n",
              "  .colab-df-quickchart {\n",
              "      --bg-color: #E8F0FE;\n",
              "      --fill-color: #1967D2;\n",
              "      --hover-bg-color: #E2EBFA;\n",
              "      --hover-fill-color: #174EA6;\n",
              "      --disabled-fill-color: #AAA;\n",
              "      --disabled-bg-color: #DDD;\n",
              "  }\n",
              "\n",
              "  [theme=dark] .colab-df-quickchart {\n",
              "      --bg-color: #3B4455;\n",
              "      --fill-color: #D2E3FC;\n",
              "      --hover-bg-color: #434B5C;\n",
              "      --hover-fill-color: #FFFFFF;\n",
              "      --disabled-bg-color: #3B4455;\n",
              "      --disabled-fill-color: #666;\n",
              "  }\n",
              "\n",
              "  .colab-df-quickchart {\n",
              "    background-color: var(--bg-color);\n",
              "    border: none;\n",
              "    border-radius: 50%;\n",
              "    cursor: pointer;\n",
              "    display: none;\n",
              "    fill: var(--fill-color);\n",
              "    height: 32px;\n",
              "    padding: 0;\n",
              "    width: 32px;\n",
              "  }\n",
              "\n",
              "  .colab-df-quickchart:hover {\n",
              "    background-color: var(--hover-bg-color);\n",
              "    box-shadow: 0 1px 2px rgba(60, 64, 67, 0.3), 0 1px 3px 1px rgba(60, 64, 67, 0.15);\n",
              "    fill: var(--button-hover-fill-color);\n",
              "  }\n",
              "\n",
              "  .colab-df-quickchart-complete:disabled,\n",
              "  .colab-df-quickchart-complete:disabled:hover {\n",
              "    background-color: var(--disabled-bg-color);\n",
              "    fill: var(--disabled-fill-color);\n",
              "    box-shadow: none;\n",
              "  }\n",
              "\n",
              "  .colab-df-spinner {\n",
              "    border: 2px solid var(--fill-color);\n",
              "    border-color: transparent;\n",
              "    border-bottom-color: var(--fill-color);\n",
              "    animation:\n",
              "      spin 1s steps(1) infinite;\n",
              "  }\n",
              "\n",
              "  @keyframes spin {\n",
              "    0% {\n",
              "      border-color: transparent;\n",
              "      border-bottom-color: var(--fill-color);\n",
              "      border-left-color: var(--fill-color);\n",
              "    }\n",
              "    20% {\n",
              "      border-color: transparent;\n",
              "      border-left-color: var(--fill-color);\n",
              "      border-top-color: var(--fill-color);\n",
              "    }\n",
              "    30% {\n",
              "      border-color: transparent;\n",
              "      border-left-color: var(--fill-color);\n",
              "      border-top-color: var(--fill-color);\n",
              "      border-right-color: var(--fill-color);\n",
              "    }\n",
              "    40% {\n",
              "      border-color: transparent;\n",
              "      border-right-color: var(--fill-color);\n",
              "      border-top-color: var(--fill-color);\n",
              "    }\n",
              "    60% {\n",
              "      border-color: transparent;\n",
              "      border-right-color: var(--fill-color);\n",
              "    }\n",
              "    80% {\n",
              "      border-color: transparent;\n",
              "      border-right-color: var(--fill-color);\n",
              "      border-bottom-color: var(--fill-color);\n",
              "    }\n",
              "    90% {\n",
              "      border-color: transparent;\n",
              "      border-bottom-color: var(--fill-color);\n",
              "    }\n",
              "  }\n",
              "</style>\n",
              "\n",
              "  <script>\n",
              "    async function quickchart(key) {\n",
              "      const quickchartButtonEl =\n",
              "        document.querySelector('#' + key + ' button');\n",
              "      quickchartButtonEl.disabled = true;  // To prevent multiple clicks.\n",
              "      quickchartButtonEl.classList.add('colab-df-spinner');\n",
              "      try {\n",
              "        const charts = await google.colab.kernel.invokeFunction(\n",
              "            'suggestCharts', [key], {});\n",
              "      } catch (error) {\n",
              "        console.error('Error during call to suggestCharts:', error);\n",
              "      }\n",
              "      quickchartButtonEl.classList.remove('colab-df-spinner');\n",
              "      quickchartButtonEl.classList.add('colab-df-quickchart-complete');\n",
              "    }\n",
              "    (() => {\n",
              "      let quickchartButtonEl =\n",
              "        document.querySelector('#df-3961809b-3eb1-4c2f-a22d-f5cb8489a73f button');\n",
              "      quickchartButtonEl.style.display =\n",
              "        google.colab.kernel.accessAllowed ? 'block' : 'none';\n",
              "    })();\n",
              "  </script>\n",
              "</div>\n",
              "\n",
              "    </div>\n",
              "  </div>\n"
            ],
            "application/vnd.google.colaboratory.intrinsic+json": {
              "type": "dataframe",
              "variable_name": "balanced_data",
              "summary": "{\n  \"name\": \"balanced_data\",\n  \"rows\": 2400,\n  \"fields\": [\n    {\n      \"column\": \"sentiment\",\n      \"properties\": {\n        \"dtype\": \"number\",\n        \"std\": 1,\n        \"min\": -1,\n        \"max\": 2,\n        \"num_unique_values\": 4,\n        \"samples\": [\n          0,\n          2,\n          -1\n        ],\n        \"semantic_type\": \"\",\n        \"description\": \"\"\n      }\n    },\n    {\n      \"column\": \"message\",\n      \"properties\": {\n        \"dtype\": \"string\",\n        \"num_unique_values\": 2336,\n        \"samples\": [\n          \"do you believe in climate change  vote now i really need it s a big help  vote yes or no\",\n          \"west coast states to fight climate change even if  trump does not\",\n          \"rt  this tunnel is environment friendly and this tunnel will help in the fight against global warming  pm  \\n newinfr\"\n        ],\n        \"semantic_type\": \"\",\n        \"description\": \"\"\n      }\n    },\n    {\n      \"column\": \"tweetid\",\n      \"properties\": {\n        \"dtype\": \"number\",\n        \"std\": 87001996868400416,\n        \"min\": 592860482358345728,\n        \"max\": 966255700430278656,\n        \"num_unique_values\": 2400,\n        \"samples\": [\n          855187705856225280,\n          953355589761011712,\n          843289758189015040\n        ],\n        \"semantic_type\": \"\",\n        \"description\": \"\"\n      }\n    }\n  ]\n}"
            }
          },
          "metadata": {},
          "execution_count": 15
        }
      ]
    },
    {
      "cell_type": "markdown",
      "source": [
        "# **Topic Modeling - BERTopic**"
      ],
      "metadata": {
        "id": "gtvtjMlQJME0"
      }
    },
    {
      "cell_type": "code",
      "source": [
        "# Initialize BERTopic with a sentence transformer model\n",
        "topic_model = BERTopic(embedding_model='all-MiniLM-L6-v2', min_topic_size=10, nr_topics=\"auto\",calculate_probabilities=True)\n",
        "\n",
        "# Fit BERTopic to your text data\n",
        "topics, probabilities = topic_model.fit_transform(balanced_data['message'].tolist())\n"
      ],
      "metadata": {
        "id": "qDumOrg32ZCB"
      },
      "execution_count": 32,
      "outputs": []
    },
    {
      "cell_type": "code",
      "source": [
        "# Get an overview of the topics\n",
        "topic_info = topic_model.get_topic_info()\n",
        "print(topic_info.head())"
      ],
      "metadata": {
        "colab": {
          "base_uri": "https://localhost:8080/"
        },
        "id": "PnT7meFv2G0u",
        "outputId": "b22ac351-cac6-4a10-9a2b-fb4e5b2a3d77"
      },
      "execution_count": 33,
      "outputs": [
        {
          "output_type": "stream",
          "name": "stdout",
          "text": [
            "   Topic  Count                          Name  \\\n",
            "0     -1   1015      -1_climate_change_the_rt   \n",
            "1      0    172      0_real_climate_change_it   \n",
            "2      1    170         1_trump_he_to_climate   \n",
            "3      2     87     2_global_warming_hot_fuck   \n",
            "4      3     59  3_obama_executive_order_isis   \n",
            "\n",
            "                                      Representation  \\\n",
            "0  [climate, change, the, rt, of, to, global, war...   \n",
            "1  [real, climate, change, it, is, we, not, you, ...   \n",
            "2  [trump, he, to, climate, change, president, rt...   \n",
            "3  [global, warming, hot, fuck, weather, red, coo...   \n",
            "4  [obama, executive, order, isis, trump, to, syr...   \n",
            "\n",
            "                                 Representative_Docs  \n",
            "0  [rt  do you believe in climate change, climate...  \n",
            "1  [climate change isn t real, what are we going ...  \n",
            "2  [rt  trump has called climate change a hoax  n...  \n",
            "3  [that climate change   global warming is a b, ...  \n",
            "4  [rt  last night  president trump released an e...  \n"
          ]
        }
      ]
    },
    {
      "cell_type": "code",
      "source": [
        "# Explore individual topics\n",
        "for i in range(5):\n",
        "    print(f\"Topic {i}:\", topic_model.get_topic(i))"
      ],
      "metadata": {
        "colab": {
          "base_uri": "https://localhost:8080/"
        },
        "id": "YqxMcQmN2lx5",
        "outputId": "36b9ae56-da2b-47b4-c57a-2b9f097c8633"
      },
      "execution_count": 34,
      "outputs": [
        {
          "output_type": "stream",
          "name": "stdout",
          "text": [
            "Topic 0: [('real', 0.02477339767623893), ('climate', 0.021615504235810427), ('change', 0.02143747020237833), ('it', 0.020319995566850064), ('is', 0.02000298370945687), ('we', 0.016652212197140054), ('not', 0.01646317863146391), ('you', 0.01632666138402456), ('the', 0.016241056697253366), ('to', 0.015932880885697276)]\n",
            "Topic 1: [('trump', 0.05940216559486661), ('he', 0.02276523642200662), ('to', 0.020001845573727597), ('climate', 0.018218928320716504), ('change', 0.01783248376650648), ('president', 0.017762448869797956), ('rt', 0.015566496847908045), ('000', 0.014020010233764741), ('donald', 0.013435944981769598), ('the', 0.01342868733520537)]\n",
            "Topic 2: [('global', 0.06313962120743523), ('warming', 0.06195492811633997), ('hot', 0.026422282227018343), ('fuck', 0.02147023134341826), ('weather', 0.021245917695724488), ('red', 0.020773657870337105), ('cooling', 0.020683691559369582), ('rt', 0.020588763608265212), ('it', 0.019688892145581897), ('damn', 0.018838147698957114)]\n",
            "Topic 3: [('obama', 0.11549488931741766), ('executive', 0.04768533029996328), ('order', 0.04508657586400338), ('isis', 0.027189952389232164), ('trump', 0.02419193606647367), ('to', 0.024174892491987315), ('syrian', 0.023986849555317307), ('change', 0.021414770212130084), ('climate', 0.02133187470645044), ('on', 0.020458956831067146)]\n",
            "Topic 4: [('pruitt', 0.13083013896552823), ('scott', 0.10980395668750298), ('epa', 0.1047366155146678), ('co2', 0.07080653592116526), ('dioxide', 0.04468741192730021), ('chief', 0.04201163020566557), ('head', 0.040762669504281486), ('contributor', 0.036532782980054634), ('carbon', 0.03205337040722908), ('causes', 0.02968293431518649)]\n"
          ]
        }
      ]
    },
    {
      "cell_type": "markdown",
      "source": [
        "# **Visualizations**"
      ],
      "metadata": {
        "id": "r_lMecYNJR3z"
      }
    },
    {
      "cell_type": "code",
      "source": [
        "# Visualize topics\n",
        "topic_model.visualize_topics()"
      ],
      "metadata": {
        "colab": {
          "base_uri": "https://localhost:8080/",
          "height": 667
        },
        "id": "Wjok25jB2sH-",
        "outputId": "3bd9039c-f404-4478-e6c8-be4903783173"
      },
      "execution_count": 35,
      "outputs": [
        {
          "output_type": "display_data",
          "data": {
            "text/html": [
              "<html>\n",
              "<head><meta charset=\"utf-8\" /></head>\n",
              "<body>\n",
              "    <div>            <script src=\"https://cdnjs.cloudflare.com/ajax/libs/mathjax/2.7.5/MathJax.js?config=TeX-AMS-MML_SVG\"></script><script type=\"text/javascript\">if (window.MathJax && window.MathJax.Hub && window.MathJax.Hub.Config) {window.MathJax.Hub.Config({SVG: {font: \"STIX-Web\"}});}</script>                <script type=\"text/javascript\">window.PlotlyConfig = {MathJaxConfig: 'local'};</script>\n",
              "        <script charset=\"utf-8\" src=\"https://cdn.plot.ly/plotly-2.24.1.min.js\"></script>                <div id=\"7b3d10f5-ece2-42a2-9ffe-e844f8de10bc\" class=\"plotly-graph-div\" style=\"height:650px; width:650px;\"></div>            <script type=\"text/javascript\">                                    window.PLOTLYENV=window.PLOTLYENV || {};                                    if (document.getElementById(\"7b3d10f5-ece2-42a2-9ffe-e844f8de10bc\")) {                    Plotly.newPlot(                        \"7b3d10f5-ece2-42a2-9ffe-e844f8de10bc\",                        [{\"customdata\":[[0,\"real | climate | change | it | is\",172],[1,\"trump | he | to | climate | change\",170],[2,\"global | warming | hot | fuck | weather\",87],[3,\"obama | executive | order | isis | trump\",59],[4,\"pruitt | scott | epa | co2 | dioxide\",56],[5,\"carbon | money | tax | the | it\",52],[6,\"dicaprio | leonardo | watch | documentary | beforetheflood\",38],[7,\"amp | turnbull | malcolm | australia | energy\",35],[8,\"outside | it | freezing | snowed | hell\",32],[9,\"conservatives | liberals | republicans | qanda | liberal\",29],[10,\"zika | scifi | terrorist | author | warming\",26],[11,\"oil | exxon | companies | city | york\",24],[12,\"gore | al | fraud | margin | his\",24],[13,\"fiction | made | fact | man | facts\",24],[14,\"pope | francis | vatican | capitalism | mayors\",23],[15,\"study | case | scenarios | global | warming\",23],[16,\"women | gender | self | female | women4climate\",22],[17,\"terrorism | islam | islamic | threat | muslims\",22],[18,\"california | brown | jerry | fires | gov\",22],[19,\"chinese | hoax | china | thinks | trump\",22],[20,\"arctic | ice | reindeer | opening | uncontrollable\",21],[21,\"food | agriculture | security | biodiversity | farming\",21],[22,\"elect | president | have | mr | millions\",20],[23,\"hillary | clinton | her | she | imvotingbecause\",19],[24,\"india | modi | pm | narendra | challenges\",19],[25,\"cities | city | states | mayors | fight\",19],[26,\"ko | enna | rss | mereka | air\",19],[27,\"sea | oceans | level | rising | rise\",18],[28,\"religion | god | religious | nonsense | some\",18],[29,\"hurricanes | hurricane | season | between | harvey\",18],[30,\"china | exit | move | rare | pact\",17],[31,\"paris | countries | agreement | parisagreement | forward\",17],[32,\"kids | children | court | sue | case\",17],[33,\"she | husband | thinking | die | going\",16],[34,\"manipulated | data | duped | leaders | obama\",15],[35,\"scientists | about | have | research | last\",15],[36,\"antarctica | ice | antarctic | an | high\",15],[37,\"meat | eating | consumption | cheese | food\",14],[38,\"2016 | information | about | understanding | solving\",12],[39,\"penguin | club | down | shut | why\",11],[40,\"reef | barrier | great | coral | bleaching\",11],[41,\"weapons | nuclear | hands | should | crazy\",11],[42,\"story | schwartz | starts | bluehand | judith\",10],[43,\"channel | founder | cnn | coleman | weather\",10],[44,\"scam | before | jarrett | mansions | valarie\",10],[45,\"bears | polar | fueled | fro | lines\",10],[46,\"wildlife | animal | extinct | extinction | tfb\",10],[47,\"paris | accord | deal | bloomberg | trump\",10]],\"hovertemplate\":\"\\u003cb\\u003eTopic %{customdata[0]}\\u003c\\u002fb\\u003e\\u003cbr\\u003e%{customdata[1]}\\u003cbr\\u003eSize: %{customdata[2]}\",\"legendgroup\":\"\",\"marker\":{\"color\":\"#B0BEC5\",\"size\":[172,170,87,59,56,52,38,35,32,29,26,24,24,24,23,23,22,22,22,22,21,21,20,19,19,19,19,18,18,18,17,17,17,16,15,15,15,14,12,11,11,11,10,10,10,10,10,10],\"sizemode\":\"area\",\"sizeref\":0.1075,\"symbol\":\"circle\",\"line\":{\"color\":\"DarkSlateGrey\",\"width\":2}},\"mode\":\"markers\",\"name\":\"\",\"orientation\":\"v\",\"showlegend\":false,\"x\":[4.792148113250732,11.868274688720703,3.7144763469696045,12.033282279968262,11.635812759399414,4.868303298950195,4.932189464569092,4.360714912414551,3.5932226181030273,10.86436653137207,3.2916057109832764,4.864278316497803,6.527612686157227,6.316718578338623,5.868272304534912,3.8710756301879883,4.5280656814575195,5.880456924438477,4.106090545654297,13.77981948852539,-1.4914802312850952,-1.668739676475525,11.97098445892334,10.524677276611328,3.7550947666168213,11.573317527770996,3.6718170642852783,4.652517795562744,5.6095051765441895,4.7938103675842285,13.753779411315918,11.805785179138184,4.483868598937988,10.356253623962402,6.466041564941406,4.911617755889893,-1.4914833307266235,-1.8062002658843994,3.527949571609497,3.4018609523773193,4.715760707855225,3.6403403282165527,3.2380788326263428,6.55025577545166,6.734550952911377,3.8038980960845947,-1.6217175722122192,11.859539985656738],\"xaxis\":\"x\",\"y\":[3.5424108505249023,-5.165960788726807,0.2347451001405716,-5.087677955627441,-4.886475563049316,2.497361660003662,4.019176006317139,3.465423822402954,0.3960217833518982,-4.945350170135498,0.116549052298069,2.425597667694092,1.9021961688995361,2.057466983795166,3.818098545074463,0.10037544369697571,3.5400025844573975,3.962613105773926,3.7759664058685303,2.958678722381592,15.361942291259766,-2.5324151515960693,-4.799023151397705,-4.898690223693848,3.0891995429992676,-4.992855072021484,3.043449640274048,4.573875904083252,3.8416759967803955,3.8789749145507812,2.9310338497161865,-5.730330944061279,4.09583044052124,-4.801854610443115,2.297139883041382,3.46663761138916,15.361945152282715,-2.670213460922241,4.14768648147583,0.061154283583164215,4.713434219360352,-0.021791614592075348,4.332808494567871,2.2175848484039307,2.322105884552002,-0.3870850205421448,-2.485367774963379,-5.673623085021973],\"yaxis\":\"y\",\"type\":\"scatter\"}],                        {\"template\":{\"data\":{\"barpolar\":[{\"marker\":{\"line\":{\"color\":\"white\",\"width\":0.5},\"pattern\":{\"fillmode\":\"overlay\",\"size\":10,\"solidity\":0.2}},\"type\":\"barpolar\"}],\"bar\":[{\"error_x\":{\"color\":\"rgb(36,36,36)\"},\"error_y\":{\"color\":\"rgb(36,36,36)\"},\"marker\":{\"line\":{\"color\":\"white\",\"width\":0.5},\"pattern\":{\"fillmode\":\"overlay\",\"size\":10,\"solidity\":0.2}},\"type\":\"bar\"}],\"carpet\":[{\"aaxis\":{\"endlinecolor\":\"rgb(36,36,36)\",\"gridcolor\":\"white\",\"linecolor\":\"white\",\"minorgridcolor\":\"white\",\"startlinecolor\":\"rgb(36,36,36)\"},\"baxis\":{\"endlinecolor\":\"rgb(36,36,36)\",\"gridcolor\":\"white\",\"linecolor\":\"white\",\"minorgridcolor\":\"white\",\"startlinecolor\":\"rgb(36,36,36)\"},\"type\":\"carpet\"}],\"choropleth\":[{\"colorbar\":{\"outlinewidth\":1,\"tickcolor\":\"rgb(36,36,36)\",\"ticks\":\"outside\"},\"type\":\"choropleth\"}],\"contourcarpet\":[{\"colorbar\":{\"outlinewidth\":1,\"tickcolor\":\"rgb(36,36,36)\",\"ticks\":\"outside\"},\"type\":\"contourcarpet\"}],\"contour\":[{\"colorbar\":{\"outlinewidth\":1,\"tickcolor\":\"rgb(36,36,36)\",\"ticks\":\"outside\"},\"colorscale\":[[0.0,\"#440154\"],[0.1111111111111111,\"#482878\"],[0.2222222222222222,\"#3e4989\"],[0.3333333333333333,\"#31688e\"],[0.4444444444444444,\"#26828e\"],[0.5555555555555556,\"#1f9e89\"],[0.6666666666666666,\"#35b779\"],[0.7777777777777778,\"#6ece58\"],[0.8888888888888888,\"#b5de2b\"],[1.0,\"#fde725\"]],\"type\":\"contour\"}],\"heatmapgl\":[{\"colorbar\":{\"outlinewidth\":1,\"tickcolor\":\"rgb(36,36,36)\",\"ticks\":\"outside\"},\"colorscale\":[[0.0,\"#440154\"],[0.1111111111111111,\"#482878\"],[0.2222222222222222,\"#3e4989\"],[0.3333333333333333,\"#31688e\"],[0.4444444444444444,\"#26828e\"],[0.5555555555555556,\"#1f9e89\"],[0.6666666666666666,\"#35b779\"],[0.7777777777777778,\"#6ece58\"],[0.8888888888888888,\"#b5de2b\"],[1.0,\"#fde725\"]],\"type\":\"heatmapgl\"}],\"heatmap\":[{\"colorbar\":{\"outlinewidth\":1,\"tickcolor\":\"rgb(36,36,36)\",\"ticks\":\"outside\"},\"colorscale\":[[0.0,\"#440154\"],[0.1111111111111111,\"#482878\"],[0.2222222222222222,\"#3e4989\"],[0.3333333333333333,\"#31688e\"],[0.4444444444444444,\"#26828e\"],[0.5555555555555556,\"#1f9e89\"],[0.6666666666666666,\"#35b779\"],[0.7777777777777778,\"#6ece58\"],[0.8888888888888888,\"#b5de2b\"],[1.0,\"#fde725\"]],\"type\":\"heatmap\"}],\"histogram2dcontour\":[{\"colorbar\":{\"outlinewidth\":1,\"tickcolor\":\"rgb(36,36,36)\",\"ticks\":\"outside\"},\"colorscale\":[[0.0,\"#440154\"],[0.1111111111111111,\"#482878\"],[0.2222222222222222,\"#3e4989\"],[0.3333333333333333,\"#31688e\"],[0.4444444444444444,\"#26828e\"],[0.5555555555555556,\"#1f9e89\"],[0.6666666666666666,\"#35b779\"],[0.7777777777777778,\"#6ece58\"],[0.8888888888888888,\"#b5de2b\"],[1.0,\"#fde725\"]],\"type\":\"histogram2dcontour\"}],\"histogram2d\":[{\"colorbar\":{\"outlinewidth\":1,\"tickcolor\":\"rgb(36,36,36)\",\"ticks\":\"outside\"},\"colorscale\":[[0.0,\"#440154\"],[0.1111111111111111,\"#482878\"],[0.2222222222222222,\"#3e4989\"],[0.3333333333333333,\"#31688e\"],[0.4444444444444444,\"#26828e\"],[0.5555555555555556,\"#1f9e89\"],[0.6666666666666666,\"#35b779\"],[0.7777777777777778,\"#6ece58\"],[0.8888888888888888,\"#b5de2b\"],[1.0,\"#fde725\"]],\"type\":\"histogram2d\"}],\"histogram\":[{\"marker\":{\"line\":{\"color\":\"white\",\"width\":0.6}},\"type\":\"histogram\"}],\"mesh3d\":[{\"colorbar\":{\"outlinewidth\":1,\"tickcolor\":\"rgb(36,36,36)\",\"ticks\":\"outside\"},\"type\":\"mesh3d\"}],\"parcoords\":[{\"line\":{\"colorbar\":{\"outlinewidth\":1,\"tickcolor\":\"rgb(36,36,36)\",\"ticks\":\"outside\"}},\"type\":\"parcoords\"}],\"pie\":[{\"automargin\":true,\"type\":\"pie\"}],\"scatter3d\":[{\"line\":{\"colorbar\":{\"outlinewidth\":1,\"tickcolor\":\"rgb(36,36,36)\",\"ticks\":\"outside\"}},\"marker\":{\"colorbar\":{\"outlinewidth\":1,\"tickcolor\":\"rgb(36,36,36)\",\"ticks\":\"outside\"}},\"type\":\"scatter3d\"}],\"scattercarpet\":[{\"marker\":{\"colorbar\":{\"outlinewidth\":1,\"tickcolor\":\"rgb(36,36,36)\",\"ticks\":\"outside\"}},\"type\":\"scattercarpet\"}],\"scattergeo\":[{\"marker\":{\"colorbar\":{\"outlinewidth\":1,\"tickcolor\":\"rgb(36,36,36)\",\"ticks\":\"outside\"}},\"type\":\"scattergeo\"}],\"scattergl\":[{\"marker\":{\"colorbar\":{\"outlinewidth\":1,\"tickcolor\":\"rgb(36,36,36)\",\"ticks\":\"outside\"}},\"type\":\"scattergl\"}],\"scattermapbox\":[{\"marker\":{\"colorbar\":{\"outlinewidth\":1,\"tickcolor\":\"rgb(36,36,36)\",\"ticks\":\"outside\"}},\"type\":\"scattermapbox\"}],\"scatterpolargl\":[{\"marker\":{\"colorbar\":{\"outlinewidth\":1,\"tickcolor\":\"rgb(36,36,36)\",\"ticks\":\"outside\"}},\"type\":\"scatterpolargl\"}],\"scatterpolar\":[{\"marker\":{\"colorbar\":{\"outlinewidth\":1,\"tickcolor\":\"rgb(36,36,36)\",\"ticks\":\"outside\"}},\"type\":\"scatterpolar\"}],\"scatter\":[{\"fillpattern\":{\"fillmode\":\"overlay\",\"size\":10,\"solidity\":0.2},\"type\":\"scatter\"}],\"scatterternary\":[{\"marker\":{\"colorbar\":{\"outlinewidth\":1,\"tickcolor\":\"rgb(36,36,36)\",\"ticks\":\"outside\"}},\"type\":\"scatterternary\"}],\"surface\":[{\"colorbar\":{\"outlinewidth\":1,\"tickcolor\":\"rgb(36,36,36)\",\"ticks\":\"outside\"},\"colorscale\":[[0.0,\"#440154\"],[0.1111111111111111,\"#482878\"],[0.2222222222222222,\"#3e4989\"],[0.3333333333333333,\"#31688e\"],[0.4444444444444444,\"#26828e\"],[0.5555555555555556,\"#1f9e89\"],[0.6666666666666666,\"#35b779\"],[0.7777777777777778,\"#6ece58\"],[0.8888888888888888,\"#b5de2b\"],[1.0,\"#fde725\"]],\"type\":\"surface\"}],\"table\":[{\"cells\":{\"fill\":{\"color\":\"rgb(237,237,237)\"},\"line\":{\"color\":\"white\"}},\"header\":{\"fill\":{\"color\":\"rgb(217,217,217)\"},\"line\":{\"color\":\"white\"}},\"type\":\"table\"}]},\"layout\":{\"annotationdefaults\":{\"arrowhead\":0,\"arrowwidth\":1},\"autotypenumbers\":\"strict\",\"coloraxis\":{\"colorbar\":{\"outlinewidth\":1,\"tickcolor\":\"rgb(36,36,36)\",\"ticks\":\"outside\"}},\"colorscale\":{\"diverging\":[[0.0,\"rgb(103,0,31)\"],[0.1,\"rgb(178,24,43)\"],[0.2,\"rgb(214,96,77)\"],[0.3,\"rgb(244,165,130)\"],[0.4,\"rgb(253,219,199)\"],[0.5,\"rgb(247,247,247)\"],[0.6,\"rgb(209,229,240)\"],[0.7,\"rgb(146,197,222)\"],[0.8,\"rgb(67,147,195)\"],[0.9,\"rgb(33,102,172)\"],[1.0,\"rgb(5,48,97)\"]],\"sequential\":[[0.0,\"#440154\"],[0.1111111111111111,\"#482878\"],[0.2222222222222222,\"#3e4989\"],[0.3333333333333333,\"#31688e\"],[0.4444444444444444,\"#26828e\"],[0.5555555555555556,\"#1f9e89\"],[0.6666666666666666,\"#35b779\"],[0.7777777777777778,\"#6ece58\"],[0.8888888888888888,\"#b5de2b\"],[1.0,\"#fde725\"]],\"sequentialminus\":[[0.0,\"#440154\"],[0.1111111111111111,\"#482878\"],[0.2222222222222222,\"#3e4989\"],[0.3333333333333333,\"#31688e\"],[0.4444444444444444,\"#26828e\"],[0.5555555555555556,\"#1f9e89\"],[0.6666666666666666,\"#35b779\"],[0.7777777777777778,\"#6ece58\"],[0.8888888888888888,\"#b5de2b\"],[1.0,\"#fde725\"]]},\"colorway\":[\"#1F77B4\",\"#FF7F0E\",\"#2CA02C\",\"#D62728\",\"#9467BD\",\"#8C564B\",\"#E377C2\",\"#7F7F7F\",\"#BCBD22\",\"#17BECF\"],\"font\":{\"color\":\"rgb(36,36,36)\"},\"geo\":{\"bgcolor\":\"white\",\"lakecolor\":\"white\",\"landcolor\":\"white\",\"showlakes\":true,\"showland\":true,\"subunitcolor\":\"white\"},\"hoverlabel\":{\"align\":\"left\"},\"hovermode\":\"closest\",\"mapbox\":{\"style\":\"light\"},\"paper_bgcolor\":\"white\",\"plot_bgcolor\":\"white\",\"polar\":{\"angularaxis\":{\"gridcolor\":\"rgb(232,232,232)\",\"linecolor\":\"rgb(36,36,36)\",\"showgrid\":false,\"showline\":true,\"ticks\":\"outside\"},\"bgcolor\":\"white\",\"radialaxis\":{\"gridcolor\":\"rgb(232,232,232)\",\"linecolor\":\"rgb(36,36,36)\",\"showgrid\":false,\"showline\":true,\"ticks\":\"outside\"}},\"scene\":{\"xaxis\":{\"backgroundcolor\":\"white\",\"gridcolor\":\"rgb(232,232,232)\",\"gridwidth\":2,\"linecolor\":\"rgb(36,36,36)\",\"showbackground\":true,\"showgrid\":false,\"showline\":true,\"ticks\":\"outside\",\"zeroline\":false,\"zerolinecolor\":\"rgb(36,36,36)\"},\"yaxis\":{\"backgroundcolor\":\"white\",\"gridcolor\":\"rgb(232,232,232)\",\"gridwidth\":2,\"linecolor\":\"rgb(36,36,36)\",\"showbackground\":true,\"showgrid\":false,\"showline\":true,\"ticks\":\"outside\",\"zeroline\":false,\"zerolinecolor\":\"rgb(36,36,36)\"},\"zaxis\":{\"backgroundcolor\":\"white\",\"gridcolor\":\"rgb(232,232,232)\",\"gridwidth\":2,\"linecolor\":\"rgb(36,36,36)\",\"showbackground\":true,\"showgrid\":false,\"showline\":true,\"ticks\":\"outside\",\"zeroline\":false,\"zerolinecolor\":\"rgb(36,36,36)\"}},\"shapedefaults\":{\"fillcolor\":\"black\",\"line\":{\"width\":0},\"opacity\":0.3},\"ternary\":{\"aaxis\":{\"gridcolor\":\"rgb(232,232,232)\",\"linecolor\":\"rgb(36,36,36)\",\"showgrid\":false,\"showline\":true,\"ticks\":\"outside\"},\"baxis\":{\"gridcolor\":\"rgb(232,232,232)\",\"linecolor\":\"rgb(36,36,36)\",\"showgrid\":false,\"showline\":true,\"ticks\":\"outside\"},\"bgcolor\":\"white\",\"caxis\":{\"gridcolor\":\"rgb(232,232,232)\",\"linecolor\":\"rgb(36,36,36)\",\"showgrid\":false,\"showline\":true,\"ticks\":\"outside\"}},\"title\":{\"x\":0.05},\"xaxis\":{\"automargin\":true,\"gridcolor\":\"rgb(232,232,232)\",\"linecolor\":\"rgb(36,36,36)\",\"showgrid\":false,\"showline\":true,\"ticks\":\"outside\",\"title\":{\"standoff\":15},\"zeroline\":false,\"zerolinecolor\":\"rgb(36,36,36)\"},\"yaxis\":{\"automargin\":true,\"gridcolor\":\"rgb(232,232,232)\",\"linecolor\":\"rgb(36,36,36)\",\"showgrid\":false,\"showline\":true,\"ticks\":\"outside\",\"title\":{\"standoff\":15},\"zeroline\":false,\"zerolinecolor\":\"rgb(36,36,36)\"}}},\"xaxis\":{\"anchor\":\"y\",\"domain\":[0.0,1.0],\"title\":{\"text\":\"\"},\"visible\":false,\"range\":[-2.077130305767059,15.846792411804199]},\"yaxis\":{\"anchor\":\"x\",\"domain\":[0.0,1.0],\"title\":{\"text\":\"\"},\"visible\":false,\"range\":[-6.589880585670471,17.666236925125123]},\"legend\":{\"tracegroupgap\":0,\"itemsizing\":\"constant\"},\"margin\":{\"t\":60},\"title\":{\"font\":{\"size\":22,\"color\":\"Black\"},\"text\":\"\\u003cb\\u003eIntertopic Distance Map\\u003c\\u002fb\\u003e\",\"y\":0.95,\"x\":0.5,\"xanchor\":\"center\",\"yanchor\":\"top\"},\"hoverlabel\":{\"font\":{\"size\":16,\"family\":\"Rockwell\"},\"bgcolor\":\"white\"},\"width\":650,\"height\":650,\"sliders\":[{\"active\":0,\"pad\":{\"t\":50},\"steps\":[{\"args\":[{\"marker.color\":[[\"red\",\"#B0BEC5\",\"#B0BEC5\",\"#B0BEC5\",\"#B0BEC5\",\"#B0BEC5\",\"#B0BEC5\",\"#B0BEC5\",\"#B0BEC5\",\"#B0BEC5\",\"#B0BEC5\",\"#B0BEC5\",\"#B0BEC5\",\"#B0BEC5\",\"#B0BEC5\",\"#B0BEC5\",\"#B0BEC5\",\"#B0BEC5\",\"#B0BEC5\",\"#B0BEC5\",\"#B0BEC5\",\"#B0BEC5\",\"#B0BEC5\",\"#B0BEC5\",\"#B0BEC5\",\"#B0BEC5\",\"#B0BEC5\",\"#B0BEC5\",\"#B0BEC5\",\"#B0BEC5\",\"#B0BEC5\",\"#B0BEC5\",\"#B0BEC5\",\"#B0BEC5\",\"#B0BEC5\",\"#B0BEC5\",\"#B0BEC5\",\"#B0BEC5\",\"#B0BEC5\",\"#B0BEC5\",\"#B0BEC5\",\"#B0BEC5\",\"#B0BEC5\",\"#B0BEC5\",\"#B0BEC5\",\"#B0BEC5\",\"#B0BEC5\",\"#B0BEC5\"]]}],\"label\":\"Topic 0\",\"method\":\"update\"},{\"args\":[{\"marker.color\":[[\"#B0BEC5\",\"red\",\"#B0BEC5\",\"#B0BEC5\",\"#B0BEC5\",\"#B0BEC5\",\"#B0BEC5\",\"#B0BEC5\",\"#B0BEC5\",\"#B0BEC5\",\"#B0BEC5\",\"#B0BEC5\",\"#B0BEC5\",\"#B0BEC5\",\"#B0BEC5\",\"#B0BEC5\",\"#B0BEC5\",\"#B0BEC5\",\"#B0BEC5\",\"#B0BEC5\",\"#B0BEC5\",\"#B0BEC5\",\"#B0BEC5\",\"#B0BEC5\",\"#B0BEC5\",\"#B0BEC5\",\"#B0BEC5\",\"#B0BEC5\",\"#B0BEC5\",\"#B0BEC5\",\"#B0BEC5\",\"#B0BEC5\",\"#B0BEC5\",\"#B0BEC5\",\"#B0BEC5\",\"#B0BEC5\",\"#B0BEC5\",\"#B0BEC5\",\"#B0BEC5\",\"#B0BEC5\",\"#B0BEC5\",\"#B0BEC5\",\"#B0BEC5\",\"#B0BEC5\",\"#B0BEC5\",\"#B0BEC5\",\"#B0BEC5\",\"#B0BEC5\"]]}],\"label\":\"Topic 1\",\"method\":\"update\"},{\"args\":[{\"marker.color\":[[\"#B0BEC5\",\"#B0BEC5\",\"red\",\"#B0BEC5\",\"#B0BEC5\",\"#B0BEC5\",\"#B0BEC5\",\"#B0BEC5\",\"#B0BEC5\",\"#B0BEC5\",\"#B0BEC5\",\"#B0BEC5\",\"#B0BEC5\",\"#B0BEC5\",\"#B0BEC5\",\"#B0BEC5\",\"#B0BEC5\",\"#B0BEC5\",\"#B0BEC5\",\"#B0BEC5\",\"#B0BEC5\",\"#B0BEC5\",\"#B0BEC5\",\"#B0BEC5\",\"#B0BEC5\",\"#B0BEC5\",\"#B0BEC5\",\"#B0BEC5\",\"#B0BEC5\",\"#B0BEC5\",\"#B0BEC5\",\"#B0BEC5\",\"#B0BEC5\",\"#B0BEC5\",\"#B0BEC5\",\"#B0BEC5\",\"#B0BEC5\",\"#B0BEC5\",\"#B0BEC5\",\"#B0BEC5\",\"#B0BEC5\",\"#B0BEC5\",\"#B0BEC5\",\"#B0BEC5\",\"#B0BEC5\",\"#B0BEC5\",\"#B0BEC5\",\"#B0BEC5\"]]}],\"label\":\"Topic 2\",\"method\":\"update\"},{\"args\":[{\"marker.color\":[[\"#B0BEC5\",\"#B0BEC5\",\"#B0BEC5\",\"red\",\"#B0BEC5\",\"#B0BEC5\",\"#B0BEC5\",\"#B0BEC5\",\"#B0BEC5\",\"#B0BEC5\",\"#B0BEC5\",\"#B0BEC5\",\"#B0BEC5\",\"#B0BEC5\",\"#B0BEC5\",\"#B0BEC5\",\"#B0BEC5\",\"#B0BEC5\",\"#B0BEC5\",\"#B0BEC5\",\"#B0BEC5\",\"#B0BEC5\",\"#B0BEC5\",\"#B0BEC5\",\"#B0BEC5\",\"#B0BEC5\",\"#B0BEC5\",\"#B0BEC5\",\"#B0BEC5\",\"#B0BEC5\",\"#B0BEC5\",\"#B0BEC5\",\"#B0BEC5\",\"#B0BEC5\",\"#B0BEC5\",\"#B0BEC5\",\"#B0BEC5\",\"#B0BEC5\",\"#B0BEC5\",\"#B0BEC5\",\"#B0BEC5\",\"#B0BEC5\",\"#B0BEC5\",\"#B0BEC5\",\"#B0BEC5\",\"#B0BEC5\",\"#B0BEC5\",\"#B0BEC5\"]]}],\"label\":\"Topic 3\",\"method\":\"update\"},{\"args\":[{\"marker.color\":[[\"#B0BEC5\",\"#B0BEC5\",\"#B0BEC5\",\"#B0BEC5\",\"red\",\"#B0BEC5\",\"#B0BEC5\",\"#B0BEC5\",\"#B0BEC5\",\"#B0BEC5\",\"#B0BEC5\",\"#B0BEC5\",\"#B0BEC5\",\"#B0BEC5\",\"#B0BEC5\",\"#B0BEC5\",\"#B0BEC5\",\"#B0BEC5\",\"#B0BEC5\",\"#B0BEC5\",\"#B0BEC5\",\"#B0BEC5\",\"#B0BEC5\",\"#B0BEC5\",\"#B0BEC5\",\"#B0BEC5\",\"#B0BEC5\",\"#B0BEC5\",\"#B0BEC5\",\"#B0BEC5\",\"#B0BEC5\",\"#B0BEC5\",\"#B0BEC5\",\"#B0BEC5\",\"#B0BEC5\",\"#B0BEC5\",\"#B0BEC5\",\"#B0BEC5\",\"#B0BEC5\",\"#B0BEC5\",\"#B0BEC5\",\"#B0BEC5\",\"#B0BEC5\",\"#B0BEC5\",\"#B0BEC5\",\"#B0BEC5\",\"#B0BEC5\",\"#B0BEC5\"]]}],\"label\":\"Topic 4\",\"method\":\"update\"},{\"args\":[{\"marker.color\":[[\"#B0BEC5\",\"#B0BEC5\",\"#B0BEC5\",\"#B0BEC5\",\"#B0BEC5\",\"red\",\"#B0BEC5\",\"#B0BEC5\",\"#B0BEC5\",\"#B0BEC5\",\"#B0BEC5\",\"#B0BEC5\",\"#B0BEC5\",\"#B0BEC5\",\"#B0BEC5\",\"#B0BEC5\",\"#B0BEC5\",\"#B0BEC5\",\"#B0BEC5\",\"#B0BEC5\",\"#B0BEC5\",\"#B0BEC5\",\"#B0BEC5\",\"#B0BEC5\",\"#B0BEC5\",\"#B0BEC5\",\"#B0BEC5\",\"#B0BEC5\",\"#B0BEC5\",\"#B0BEC5\",\"#B0BEC5\",\"#B0BEC5\",\"#B0BEC5\",\"#B0BEC5\",\"#B0BEC5\",\"#B0BEC5\",\"#B0BEC5\",\"#B0BEC5\",\"#B0BEC5\",\"#B0BEC5\",\"#B0BEC5\",\"#B0BEC5\",\"#B0BEC5\",\"#B0BEC5\",\"#B0BEC5\",\"#B0BEC5\",\"#B0BEC5\",\"#B0BEC5\"]]}],\"label\":\"Topic 5\",\"method\":\"update\"},{\"args\":[{\"marker.color\":[[\"#B0BEC5\",\"#B0BEC5\",\"#B0BEC5\",\"#B0BEC5\",\"#B0BEC5\",\"#B0BEC5\",\"red\",\"#B0BEC5\",\"#B0BEC5\",\"#B0BEC5\",\"#B0BEC5\",\"#B0BEC5\",\"#B0BEC5\",\"#B0BEC5\",\"#B0BEC5\",\"#B0BEC5\",\"#B0BEC5\",\"#B0BEC5\",\"#B0BEC5\",\"#B0BEC5\",\"#B0BEC5\",\"#B0BEC5\",\"#B0BEC5\",\"#B0BEC5\",\"#B0BEC5\",\"#B0BEC5\",\"#B0BEC5\",\"#B0BEC5\",\"#B0BEC5\",\"#B0BEC5\",\"#B0BEC5\",\"#B0BEC5\",\"#B0BEC5\",\"#B0BEC5\",\"#B0BEC5\",\"#B0BEC5\",\"#B0BEC5\",\"#B0BEC5\",\"#B0BEC5\",\"#B0BEC5\",\"#B0BEC5\",\"#B0BEC5\",\"#B0BEC5\",\"#B0BEC5\",\"#B0BEC5\",\"#B0BEC5\",\"#B0BEC5\",\"#B0BEC5\"]]}],\"label\":\"Topic 6\",\"method\":\"update\"},{\"args\":[{\"marker.color\":[[\"#B0BEC5\",\"#B0BEC5\",\"#B0BEC5\",\"#B0BEC5\",\"#B0BEC5\",\"#B0BEC5\",\"#B0BEC5\",\"red\",\"#B0BEC5\",\"#B0BEC5\",\"#B0BEC5\",\"#B0BEC5\",\"#B0BEC5\",\"#B0BEC5\",\"#B0BEC5\",\"#B0BEC5\",\"#B0BEC5\",\"#B0BEC5\",\"#B0BEC5\",\"#B0BEC5\",\"#B0BEC5\",\"#B0BEC5\",\"#B0BEC5\",\"#B0BEC5\",\"#B0BEC5\",\"#B0BEC5\",\"#B0BEC5\",\"#B0BEC5\",\"#B0BEC5\",\"#B0BEC5\",\"#B0BEC5\",\"#B0BEC5\",\"#B0BEC5\",\"#B0BEC5\",\"#B0BEC5\",\"#B0BEC5\",\"#B0BEC5\",\"#B0BEC5\",\"#B0BEC5\",\"#B0BEC5\",\"#B0BEC5\",\"#B0BEC5\",\"#B0BEC5\",\"#B0BEC5\",\"#B0BEC5\",\"#B0BEC5\",\"#B0BEC5\",\"#B0BEC5\"]]}],\"label\":\"Topic 7\",\"method\":\"update\"},{\"args\":[{\"marker.color\":[[\"#B0BEC5\",\"#B0BEC5\",\"#B0BEC5\",\"#B0BEC5\",\"#B0BEC5\",\"#B0BEC5\",\"#B0BEC5\",\"#B0BEC5\",\"red\",\"#B0BEC5\",\"#B0BEC5\",\"#B0BEC5\",\"#B0BEC5\",\"#B0BEC5\",\"#B0BEC5\",\"#B0BEC5\",\"#B0BEC5\",\"#B0BEC5\",\"#B0BEC5\",\"#B0BEC5\",\"#B0BEC5\",\"#B0BEC5\",\"#B0BEC5\",\"#B0BEC5\",\"#B0BEC5\",\"#B0BEC5\",\"#B0BEC5\",\"#B0BEC5\",\"#B0BEC5\",\"#B0BEC5\",\"#B0BEC5\",\"#B0BEC5\",\"#B0BEC5\",\"#B0BEC5\",\"#B0BEC5\",\"#B0BEC5\",\"#B0BEC5\",\"#B0BEC5\",\"#B0BEC5\",\"#B0BEC5\",\"#B0BEC5\",\"#B0BEC5\",\"#B0BEC5\",\"#B0BEC5\",\"#B0BEC5\",\"#B0BEC5\",\"#B0BEC5\",\"#B0BEC5\"]]}],\"label\":\"Topic 8\",\"method\":\"update\"},{\"args\":[{\"marker.color\":[[\"#B0BEC5\",\"#B0BEC5\",\"#B0BEC5\",\"#B0BEC5\",\"#B0BEC5\",\"#B0BEC5\",\"#B0BEC5\",\"#B0BEC5\",\"#B0BEC5\",\"red\",\"#B0BEC5\",\"#B0BEC5\",\"#B0BEC5\",\"#B0BEC5\",\"#B0BEC5\",\"#B0BEC5\",\"#B0BEC5\",\"#B0BEC5\",\"#B0BEC5\",\"#B0BEC5\",\"#B0BEC5\",\"#B0BEC5\",\"#B0BEC5\",\"#B0BEC5\",\"#B0BEC5\",\"#B0BEC5\",\"#B0BEC5\",\"#B0BEC5\",\"#B0BEC5\",\"#B0BEC5\",\"#B0BEC5\",\"#B0BEC5\",\"#B0BEC5\",\"#B0BEC5\",\"#B0BEC5\",\"#B0BEC5\",\"#B0BEC5\",\"#B0BEC5\",\"#B0BEC5\",\"#B0BEC5\",\"#B0BEC5\",\"#B0BEC5\",\"#B0BEC5\",\"#B0BEC5\",\"#B0BEC5\",\"#B0BEC5\",\"#B0BEC5\",\"#B0BEC5\"]]}],\"label\":\"Topic 9\",\"method\":\"update\"},{\"args\":[{\"marker.color\":[[\"#B0BEC5\",\"#B0BEC5\",\"#B0BEC5\",\"#B0BEC5\",\"#B0BEC5\",\"#B0BEC5\",\"#B0BEC5\",\"#B0BEC5\",\"#B0BEC5\",\"#B0BEC5\",\"red\",\"#B0BEC5\",\"#B0BEC5\",\"#B0BEC5\",\"#B0BEC5\",\"#B0BEC5\",\"#B0BEC5\",\"#B0BEC5\",\"#B0BEC5\",\"#B0BEC5\",\"#B0BEC5\",\"#B0BEC5\",\"#B0BEC5\",\"#B0BEC5\",\"#B0BEC5\",\"#B0BEC5\",\"#B0BEC5\",\"#B0BEC5\",\"#B0BEC5\",\"#B0BEC5\",\"#B0BEC5\",\"#B0BEC5\",\"#B0BEC5\",\"#B0BEC5\",\"#B0BEC5\",\"#B0BEC5\",\"#B0BEC5\",\"#B0BEC5\",\"#B0BEC5\",\"#B0BEC5\",\"#B0BEC5\",\"#B0BEC5\",\"#B0BEC5\",\"#B0BEC5\",\"#B0BEC5\",\"#B0BEC5\",\"#B0BEC5\",\"#B0BEC5\"]]}],\"label\":\"Topic 10\",\"method\":\"update\"},{\"args\":[{\"marker.color\":[[\"#B0BEC5\",\"#B0BEC5\",\"#B0BEC5\",\"#B0BEC5\",\"#B0BEC5\",\"#B0BEC5\",\"#B0BEC5\",\"#B0BEC5\",\"#B0BEC5\",\"#B0BEC5\",\"#B0BEC5\",\"red\",\"#B0BEC5\",\"#B0BEC5\",\"#B0BEC5\",\"#B0BEC5\",\"#B0BEC5\",\"#B0BEC5\",\"#B0BEC5\",\"#B0BEC5\",\"#B0BEC5\",\"#B0BEC5\",\"#B0BEC5\",\"#B0BEC5\",\"#B0BEC5\",\"#B0BEC5\",\"#B0BEC5\",\"#B0BEC5\",\"#B0BEC5\",\"#B0BEC5\",\"#B0BEC5\",\"#B0BEC5\",\"#B0BEC5\",\"#B0BEC5\",\"#B0BEC5\",\"#B0BEC5\",\"#B0BEC5\",\"#B0BEC5\",\"#B0BEC5\",\"#B0BEC5\",\"#B0BEC5\",\"#B0BEC5\",\"#B0BEC5\",\"#B0BEC5\",\"#B0BEC5\",\"#B0BEC5\",\"#B0BEC5\",\"#B0BEC5\"]]}],\"label\":\"Topic 11\",\"method\":\"update\"},{\"args\":[{\"marker.color\":[[\"#B0BEC5\",\"#B0BEC5\",\"#B0BEC5\",\"#B0BEC5\",\"#B0BEC5\",\"#B0BEC5\",\"#B0BEC5\",\"#B0BEC5\",\"#B0BEC5\",\"#B0BEC5\",\"#B0BEC5\",\"#B0BEC5\",\"red\",\"#B0BEC5\",\"#B0BEC5\",\"#B0BEC5\",\"#B0BEC5\",\"#B0BEC5\",\"#B0BEC5\",\"#B0BEC5\",\"#B0BEC5\",\"#B0BEC5\",\"#B0BEC5\",\"#B0BEC5\",\"#B0BEC5\",\"#B0BEC5\",\"#B0BEC5\",\"#B0BEC5\",\"#B0BEC5\",\"#B0BEC5\",\"#B0BEC5\",\"#B0BEC5\",\"#B0BEC5\",\"#B0BEC5\",\"#B0BEC5\",\"#B0BEC5\",\"#B0BEC5\",\"#B0BEC5\",\"#B0BEC5\",\"#B0BEC5\",\"#B0BEC5\",\"#B0BEC5\",\"#B0BEC5\",\"#B0BEC5\",\"#B0BEC5\",\"#B0BEC5\",\"#B0BEC5\",\"#B0BEC5\"]]}],\"label\":\"Topic 12\",\"method\":\"update\"},{\"args\":[{\"marker.color\":[[\"#B0BEC5\",\"#B0BEC5\",\"#B0BEC5\",\"#B0BEC5\",\"#B0BEC5\",\"#B0BEC5\",\"#B0BEC5\",\"#B0BEC5\",\"#B0BEC5\",\"#B0BEC5\",\"#B0BEC5\",\"#B0BEC5\",\"#B0BEC5\",\"red\",\"#B0BEC5\",\"#B0BEC5\",\"#B0BEC5\",\"#B0BEC5\",\"#B0BEC5\",\"#B0BEC5\",\"#B0BEC5\",\"#B0BEC5\",\"#B0BEC5\",\"#B0BEC5\",\"#B0BEC5\",\"#B0BEC5\",\"#B0BEC5\",\"#B0BEC5\",\"#B0BEC5\",\"#B0BEC5\",\"#B0BEC5\",\"#B0BEC5\",\"#B0BEC5\",\"#B0BEC5\",\"#B0BEC5\",\"#B0BEC5\",\"#B0BEC5\",\"#B0BEC5\",\"#B0BEC5\",\"#B0BEC5\",\"#B0BEC5\",\"#B0BEC5\",\"#B0BEC5\",\"#B0BEC5\",\"#B0BEC5\",\"#B0BEC5\",\"#B0BEC5\",\"#B0BEC5\"]]}],\"label\":\"Topic 13\",\"method\":\"update\"},{\"args\":[{\"marker.color\":[[\"#B0BEC5\",\"#B0BEC5\",\"#B0BEC5\",\"#B0BEC5\",\"#B0BEC5\",\"#B0BEC5\",\"#B0BEC5\",\"#B0BEC5\",\"#B0BEC5\",\"#B0BEC5\",\"#B0BEC5\",\"#B0BEC5\",\"#B0BEC5\",\"#B0BEC5\",\"red\",\"#B0BEC5\",\"#B0BEC5\",\"#B0BEC5\",\"#B0BEC5\",\"#B0BEC5\",\"#B0BEC5\",\"#B0BEC5\",\"#B0BEC5\",\"#B0BEC5\",\"#B0BEC5\",\"#B0BEC5\",\"#B0BEC5\",\"#B0BEC5\",\"#B0BEC5\",\"#B0BEC5\",\"#B0BEC5\",\"#B0BEC5\",\"#B0BEC5\",\"#B0BEC5\",\"#B0BEC5\",\"#B0BEC5\",\"#B0BEC5\",\"#B0BEC5\",\"#B0BEC5\",\"#B0BEC5\",\"#B0BEC5\",\"#B0BEC5\",\"#B0BEC5\",\"#B0BEC5\",\"#B0BEC5\",\"#B0BEC5\",\"#B0BEC5\",\"#B0BEC5\"]]}],\"label\":\"Topic 14\",\"method\":\"update\"},{\"args\":[{\"marker.color\":[[\"#B0BEC5\",\"#B0BEC5\",\"#B0BEC5\",\"#B0BEC5\",\"#B0BEC5\",\"#B0BEC5\",\"#B0BEC5\",\"#B0BEC5\",\"#B0BEC5\",\"#B0BEC5\",\"#B0BEC5\",\"#B0BEC5\",\"#B0BEC5\",\"#B0BEC5\",\"#B0BEC5\",\"red\",\"#B0BEC5\",\"#B0BEC5\",\"#B0BEC5\",\"#B0BEC5\",\"#B0BEC5\",\"#B0BEC5\",\"#B0BEC5\",\"#B0BEC5\",\"#B0BEC5\",\"#B0BEC5\",\"#B0BEC5\",\"#B0BEC5\",\"#B0BEC5\",\"#B0BEC5\",\"#B0BEC5\",\"#B0BEC5\",\"#B0BEC5\",\"#B0BEC5\",\"#B0BEC5\",\"#B0BEC5\",\"#B0BEC5\",\"#B0BEC5\",\"#B0BEC5\",\"#B0BEC5\",\"#B0BEC5\",\"#B0BEC5\",\"#B0BEC5\",\"#B0BEC5\",\"#B0BEC5\",\"#B0BEC5\",\"#B0BEC5\",\"#B0BEC5\"]]}],\"label\":\"Topic 15\",\"method\":\"update\"},{\"args\":[{\"marker.color\":[[\"#B0BEC5\",\"#B0BEC5\",\"#B0BEC5\",\"#B0BEC5\",\"#B0BEC5\",\"#B0BEC5\",\"#B0BEC5\",\"#B0BEC5\",\"#B0BEC5\",\"#B0BEC5\",\"#B0BEC5\",\"#B0BEC5\",\"#B0BEC5\",\"#B0BEC5\",\"#B0BEC5\",\"#B0BEC5\",\"red\",\"#B0BEC5\",\"#B0BEC5\",\"#B0BEC5\",\"#B0BEC5\",\"#B0BEC5\",\"#B0BEC5\",\"#B0BEC5\",\"#B0BEC5\",\"#B0BEC5\",\"#B0BEC5\",\"#B0BEC5\",\"#B0BEC5\",\"#B0BEC5\",\"#B0BEC5\",\"#B0BEC5\",\"#B0BEC5\",\"#B0BEC5\",\"#B0BEC5\",\"#B0BEC5\",\"#B0BEC5\",\"#B0BEC5\",\"#B0BEC5\",\"#B0BEC5\",\"#B0BEC5\",\"#B0BEC5\",\"#B0BEC5\",\"#B0BEC5\",\"#B0BEC5\",\"#B0BEC5\",\"#B0BEC5\",\"#B0BEC5\"]]}],\"label\":\"Topic 16\",\"method\":\"update\"},{\"args\":[{\"marker.color\":[[\"#B0BEC5\",\"#B0BEC5\",\"#B0BEC5\",\"#B0BEC5\",\"#B0BEC5\",\"#B0BEC5\",\"#B0BEC5\",\"#B0BEC5\",\"#B0BEC5\",\"#B0BEC5\",\"#B0BEC5\",\"#B0BEC5\",\"#B0BEC5\",\"#B0BEC5\",\"#B0BEC5\",\"#B0BEC5\",\"#B0BEC5\",\"red\",\"#B0BEC5\",\"#B0BEC5\",\"#B0BEC5\",\"#B0BEC5\",\"#B0BEC5\",\"#B0BEC5\",\"#B0BEC5\",\"#B0BEC5\",\"#B0BEC5\",\"#B0BEC5\",\"#B0BEC5\",\"#B0BEC5\",\"#B0BEC5\",\"#B0BEC5\",\"#B0BEC5\",\"#B0BEC5\",\"#B0BEC5\",\"#B0BEC5\",\"#B0BEC5\",\"#B0BEC5\",\"#B0BEC5\",\"#B0BEC5\",\"#B0BEC5\",\"#B0BEC5\",\"#B0BEC5\",\"#B0BEC5\",\"#B0BEC5\",\"#B0BEC5\",\"#B0BEC5\",\"#B0BEC5\"]]}],\"label\":\"Topic 17\",\"method\":\"update\"},{\"args\":[{\"marker.color\":[[\"#B0BEC5\",\"#B0BEC5\",\"#B0BEC5\",\"#B0BEC5\",\"#B0BEC5\",\"#B0BEC5\",\"#B0BEC5\",\"#B0BEC5\",\"#B0BEC5\",\"#B0BEC5\",\"#B0BEC5\",\"#B0BEC5\",\"#B0BEC5\",\"#B0BEC5\",\"#B0BEC5\",\"#B0BEC5\",\"#B0BEC5\",\"#B0BEC5\",\"red\",\"#B0BEC5\",\"#B0BEC5\",\"#B0BEC5\",\"#B0BEC5\",\"#B0BEC5\",\"#B0BEC5\",\"#B0BEC5\",\"#B0BEC5\",\"#B0BEC5\",\"#B0BEC5\",\"#B0BEC5\",\"#B0BEC5\",\"#B0BEC5\",\"#B0BEC5\",\"#B0BEC5\",\"#B0BEC5\",\"#B0BEC5\",\"#B0BEC5\",\"#B0BEC5\",\"#B0BEC5\",\"#B0BEC5\",\"#B0BEC5\",\"#B0BEC5\",\"#B0BEC5\",\"#B0BEC5\",\"#B0BEC5\",\"#B0BEC5\",\"#B0BEC5\",\"#B0BEC5\"]]}],\"label\":\"Topic 18\",\"method\":\"update\"},{\"args\":[{\"marker.color\":[[\"#B0BEC5\",\"#B0BEC5\",\"#B0BEC5\",\"#B0BEC5\",\"#B0BEC5\",\"#B0BEC5\",\"#B0BEC5\",\"#B0BEC5\",\"#B0BEC5\",\"#B0BEC5\",\"#B0BEC5\",\"#B0BEC5\",\"#B0BEC5\",\"#B0BEC5\",\"#B0BEC5\",\"#B0BEC5\",\"#B0BEC5\",\"#B0BEC5\",\"#B0BEC5\",\"red\",\"#B0BEC5\",\"#B0BEC5\",\"#B0BEC5\",\"#B0BEC5\",\"#B0BEC5\",\"#B0BEC5\",\"#B0BEC5\",\"#B0BEC5\",\"#B0BEC5\",\"#B0BEC5\",\"#B0BEC5\",\"#B0BEC5\",\"#B0BEC5\",\"#B0BEC5\",\"#B0BEC5\",\"#B0BEC5\",\"#B0BEC5\",\"#B0BEC5\",\"#B0BEC5\",\"#B0BEC5\",\"#B0BEC5\",\"#B0BEC5\",\"#B0BEC5\",\"#B0BEC5\",\"#B0BEC5\",\"#B0BEC5\",\"#B0BEC5\",\"#B0BEC5\"]]}],\"label\":\"Topic 19\",\"method\":\"update\"},{\"args\":[{\"marker.color\":[[\"#B0BEC5\",\"#B0BEC5\",\"#B0BEC5\",\"#B0BEC5\",\"#B0BEC5\",\"#B0BEC5\",\"#B0BEC5\",\"#B0BEC5\",\"#B0BEC5\",\"#B0BEC5\",\"#B0BEC5\",\"#B0BEC5\",\"#B0BEC5\",\"#B0BEC5\",\"#B0BEC5\",\"#B0BEC5\",\"#B0BEC5\",\"#B0BEC5\",\"#B0BEC5\",\"#B0BEC5\",\"red\",\"#B0BEC5\",\"#B0BEC5\",\"#B0BEC5\",\"#B0BEC5\",\"#B0BEC5\",\"#B0BEC5\",\"#B0BEC5\",\"#B0BEC5\",\"#B0BEC5\",\"#B0BEC5\",\"#B0BEC5\",\"#B0BEC5\",\"#B0BEC5\",\"#B0BEC5\",\"#B0BEC5\",\"#B0BEC5\",\"#B0BEC5\",\"#B0BEC5\",\"#B0BEC5\",\"#B0BEC5\",\"#B0BEC5\",\"#B0BEC5\",\"#B0BEC5\",\"#B0BEC5\",\"#B0BEC5\",\"#B0BEC5\",\"#B0BEC5\"]]}],\"label\":\"Topic 20\",\"method\":\"update\"},{\"args\":[{\"marker.color\":[[\"#B0BEC5\",\"#B0BEC5\",\"#B0BEC5\",\"#B0BEC5\",\"#B0BEC5\",\"#B0BEC5\",\"#B0BEC5\",\"#B0BEC5\",\"#B0BEC5\",\"#B0BEC5\",\"#B0BEC5\",\"#B0BEC5\",\"#B0BEC5\",\"#B0BEC5\",\"#B0BEC5\",\"#B0BEC5\",\"#B0BEC5\",\"#B0BEC5\",\"#B0BEC5\",\"#B0BEC5\",\"#B0BEC5\",\"red\",\"#B0BEC5\",\"#B0BEC5\",\"#B0BEC5\",\"#B0BEC5\",\"#B0BEC5\",\"#B0BEC5\",\"#B0BEC5\",\"#B0BEC5\",\"#B0BEC5\",\"#B0BEC5\",\"#B0BEC5\",\"#B0BEC5\",\"#B0BEC5\",\"#B0BEC5\",\"#B0BEC5\",\"#B0BEC5\",\"#B0BEC5\",\"#B0BEC5\",\"#B0BEC5\",\"#B0BEC5\",\"#B0BEC5\",\"#B0BEC5\",\"#B0BEC5\",\"#B0BEC5\",\"#B0BEC5\",\"#B0BEC5\"]]}],\"label\":\"Topic 21\",\"method\":\"update\"},{\"args\":[{\"marker.color\":[[\"#B0BEC5\",\"#B0BEC5\",\"#B0BEC5\",\"#B0BEC5\",\"#B0BEC5\",\"#B0BEC5\",\"#B0BEC5\",\"#B0BEC5\",\"#B0BEC5\",\"#B0BEC5\",\"#B0BEC5\",\"#B0BEC5\",\"#B0BEC5\",\"#B0BEC5\",\"#B0BEC5\",\"#B0BEC5\",\"#B0BEC5\",\"#B0BEC5\",\"#B0BEC5\",\"#B0BEC5\",\"#B0BEC5\",\"#B0BEC5\",\"red\",\"#B0BEC5\",\"#B0BEC5\",\"#B0BEC5\",\"#B0BEC5\",\"#B0BEC5\",\"#B0BEC5\",\"#B0BEC5\",\"#B0BEC5\",\"#B0BEC5\",\"#B0BEC5\",\"#B0BEC5\",\"#B0BEC5\",\"#B0BEC5\",\"#B0BEC5\",\"#B0BEC5\",\"#B0BEC5\",\"#B0BEC5\",\"#B0BEC5\",\"#B0BEC5\",\"#B0BEC5\",\"#B0BEC5\",\"#B0BEC5\",\"#B0BEC5\",\"#B0BEC5\",\"#B0BEC5\"]]}],\"label\":\"Topic 22\",\"method\":\"update\"},{\"args\":[{\"marker.color\":[[\"#B0BEC5\",\"#B0BEC5\",\"#B0BEC5\",\"#B0BEC5\",\"#B0BEC5\",\"#B0BEC5\",\"#B0BEC5\",\"#B0BEC5\",\"#B0BEC5\",\"#B0BEC5\",\"#B0BEC5\",\"#B0BEC5\",\"#B0BEC5\",\"#B0BEC5\",\"#B0BEC5\",\"#B0BEC5\",\"#B0BEC5\",\"#B0BEC5\",\"#B0BEC5\",\"#B0BEC5\",\"#B0BEC5\",\"#B0BEC5\",\"#B0BEC5\",\"red\",\"#B0BEC5\",\"#B0BEC5\",\"#B0BEC5\",\"#B0BEC5\",\"#B0BEC5\",\"#B0BEC5\",\"#B0BEC5\",\"#B0BEC5\",\"#B0BEC5\",\"#B0BEC5\",\"#B0BEC5\",\"#B0BEC5\",\"#B0BEC5\",\"#B0BEC5\",\"#B0BEC5\",\"#B0BEC5\",\"#B0BEC5\",\"#B0BEC5\",\"#B0BEC5\",\"#B0BEC5\",\"#B0BEC5\",\"#B0BEC5\",\"#B0BEC5\",\"#B0BEC5\"]]}],\"label\":\"Topic 23\",\"method\":\"update\"},{\"args\":[{\"marker.color\":[[\"#B0BEC5\",\"#B0BEC5\",\"#B0BEC5\",\"#B0BEC5\",\"#B0BEC5\",\"#B0BEC5\",\"#B0BEC5\",\"#B0BEC5\",\"#B0BEC5\",\"#B0BEC5\",\"#B0BEC5\",\"#B0BEC5\",\"#B0BEC5\",\"#B0BEC5\",\"#B0BEC5\",\"#B0BEC5\",\"#B0BEC5\",\"#B0BEC5\",\"#B0BEC5\",\"#B0BEC5\",\"#B0BEC5\",\"#B0BEC5\",\"#B0BEC5\",\"#B0BEC5\",\"red\",\"#B0BEC5\",\"#B0BEC5\",\"#B0BEC5\",\"#B0BEC5\",\"#B0BEC5\",\"#B0BEC5\",\"#B0BEC5\",\"#B0BEC5\",\"#B0BEC5\",\"#B0BEC5\",\"#B0BEC5\",\"#B0BEC5\",\"#B0BEC5\",\"#B0BEC5\",\"#B0BEC5\",\"#B0BEC5\",\"#B0BEC5\",\"#B0BEC5\",\"#B0BEC5\",\"#B0BEC5\",\"#B0BEC5\",\"#B0BEC5\",\"#B0BEC5\"]]}],\"label\":\"Topic 24\",\"method\":\"update\"},{\"args\":[{\"marker.color\":[[\"#B0BEC5\",\"#B0BEC5\",\"#B0BEC5\",\"#B0BEC5\",\"#B0BEC5\",\"#B0BEC5\",\"#B0BEC5\",\"#B0BEC5\",\"#B0BEC5\",\"#B0BEC5\",\"#B0BEC5\",\"#B0BEC5\",\"#B0BEC5\",\"#B0BEC5\",\"#B0BEC5\",\"#B0BEC5\",\"#B0BEC5\",\"#B0BEC5\",\"#B0BEC5\",\"#B0BEC5\",\"#B0BEC5\",\"#B0BEC5\",\"#B0BEC5\",\"#B0BEC5\",\"#B0BEC5\",\"red\",\"#B0BEC5\",\"#B0BEC5\",\"#B0BEC5\",\"#B0BEC5\",\"#B0BEC5\",\"#B0BEC5\",\"#B0BEC5\",\"#B0BEC5\",\"#B0BEC5\",\"#B0BEC5\",\"#B0BEC5\",\"#B0BEC5\",\"#B0BEC5\",\"#B0BEC5\",\"#B0BEC5\",\"#B0BEC5\",\"#B0BEC5\",\"#B0BEC5\",\"#B0BEC5\",\"#B0BEC5\",\"#B0BEC5\",\"#B0BEC5\"]]}],\"label\":\"Topic 25\",\"method\":\"update\"},{\"args\":[{\"marker.color\":[[\"#B0BEC5\",\"#B0BEC5\",\"#B0BEC5\",\"#B0BEC5\",\"#B0BEC5\",\"#B0BEC5\",\"#B0BEC5\",\"#B0BEC5\",\"#B0BEC5\",\"#B0BEC5\",\"#B0BEC5\",\"#B0BEC5\",\"#B0BEC5\",\"#B0BEC5\",\"#B0BEC5\",\"#B0BEC5\",\"#B0BEC5\",\"#B0BEC5\",\"#B0BEC5\",\"#B0BEC5\",\"#B0BEC5\",\"#B0BEC5\",\"#B0BEC5\",\"#B0BEC5\",\"#B0BEC5\",\"#B0BEC5\",\"red\",\"#B0BEC5\",\"#B0BEC5\",\"#B0BEC5\",\"#B0BEC5\",\"#B0BEC5\",\"#B0BEC5\",\"#B0BEC5\",\"#B0BEC5\",\"#B0BEC5\",\"#B0BEC5\",\"#B0BEC5\",\"#B0BEC5\",\"#B0BEC5\",\"#B0BEC5\",\"#B0BEC5\",\"#B0BEC5\",\"#B0BEC5\",\"#B0BEC5\",\"#B0BEC5\",\"#B0BEC5\",\"#B0BEC5\"]]}],\"label\":\"Topic 26\",\"method\":\"update\"},{\"args\":[{\"marker.color\":[[\"#B0BEC5\",\"#B0BEC5\",\"#B0BEC5\",\"#B0BEC5\",\"#B0BEC5\",\"#B0BEC5\",\"#B0BEC5\",\"#B0BEC5\",\"#B0BEC5\",\"#B0BEC5\",\"#B0BEC5\",\"#B0BEC5\",\"#B0BEC5\",\"#B0BEC5\",\"#B0BEC5\",\"#B0BEC5\",\"#B0BEC5\",\"#B0BEC5\",\"#B0BEC5\",\"#B0BEC5\",\"#B0BEC5\",\"#B0BEC5\",\"#B0BEC5\",\"#B0BEC5\",\"#B0BEC5\",\"#B0BEC5\",\"#B0BEC5\",\"red\",\"#B0BEC5\",\"#B0BEC5\",\"#B0BEC5\",\"#B0BEC5\",\"#B0BEC5\",\"#B0BEC5\",\"#B0BEC5\",\"#B0BEC5\",\"#B0BEC5\",\"#B0BEC5\",\"#B0BEC5\",\"#B0BEC5\",\"#B0BEC5\",\"#B0BEC5\",\"#B0BEC5\",\"#B0BEC5\",\"#B0BEC5\",\"#B0BEC5\",\"#B0BEC5\",\"#B0BEC5\"]]}],\"label\":\"Topic 27\",\"method\":\"update\"},{\"args\":[{\"marker.color\":[[\"#B0BEC5\",\"#B0BEC5\",\"#B0BEC5\",\"#B0BEC5\",\"#B0BEC5\",\"#B0BEC5\",\"#B0BEC5\",\"#B0BEC5\",\"#B0BEC5\",\"#B0BEC5\",\"#B0BEC5\",\"#B0BEC5\",\"#B0BEC5\",\"#B0BEC5\",\"#B0BEC5\",\"#B0BEC5\",\"#B0BEC5\",\"#B0BEC5\",\"#B0BEC5\",\"#B0BEC5\",\"#B0BEC5\",\"#B0BEC5\",\"#B0BEC5\",\"#B0BEC5\",\"#B0BEC5\",\"#B0BEC5\",\"#B0BEC5\",\"#B0BEC5\",\"red\",\"#B0BEC5\",\"#B0BEC5\",\"#B0BEC5\",\"#B0BEC5\",\"#B0BEC5\",\"#B0BEC5\",\"#B0BEC5\",\"#B0BEC5\",\"#B0BEC5\",\"#B0BEC5\",\"#B0BEC5\",\"#B0BEC5\",\"#B0BEC5\",\"#B0BEC5\",\"#B0BEC5\",\"#B0BEC5\",\"#B0BEC5\",\"#B0BEC5\",\"#B0BEC5\"]]}],\"label\":\"Topic 28\",\"method\":\"update\"},{\"args\":[{\"marker.color\":[[\"#B0BEC5\",\"#B0BEC5\",\"#B0BEC5\",\"#B0BEC5\",\"#B0BEC5\",\"#B0BEC5\",\"#B0BEC5\",\"#B0BEC5\",\"#B0BEC5\",\"#B0BEC5\",\"#B0BEC5\",\"#B0BEC5\",\"#B0BEC5\",\"#B0BEC5\",\"#B0BEC5\",\"#B0BEC5\",\"#B0BEC5\",\"#B0BEC5\",\"#B0BEC5\",\"#B0BEC5\",\"#B0BEC5\",\"#B0BEC5\",\"#B0BEC5\",\"#B0BEC5\",\"#B0BEC5\",\"#B0BEC5\",\"#B0BEC5\",\"#B0BEC5\",\"#B0BEC5\",\"red\",\"#B0BEC5\",\"#B0BEC5\",\"#B0BEC5\",\"#B0BEC5\",\"#B0BEC5\",\"#B0BEC5\",\"#B0BEC5\",\"#B0BEC5\",\"#B0BEC5\",\"#B0BEC5\",\"#B0BEC5\",\"#B0BEC5\",\"#B0BEC5\",\"#B0BEC5\",\"#B0BEC5\",\"#B0BEC5\",\"#B0BEC5\",\"#B0BEC5\"]]}],\"label\":\"Topic 29\",\"method\":\"update\"},{\"args\":[{\"marker.color\":[[\"#B0BEC5\",\"#B0BEC5\",\"#B0BEC5\",\"#B0BEC5\",\"#B0BEC5\",\"#B0BEC5\",\"#B0BEC5\",\"#B0BEC5\",\"#B0BEC5\",\"#B0BEC5\",\"#B0BEC5\",\"#B0BEC5\",\"#B0BEC5\",\"#B0BEC5\",\"#B0BEC5\",\"#B0BEC5\",\"#B0BEC5\",\"#B0BEC5\",\"#B0BEC5\",\"#B0BEC5\",\"#B0BEC5\",\"#B0BEC5\",\"#B0BEC5\",\"#B0BEC5\",\"#B0BEC5\",\"#B0BEC5\",\"#B0BEC5\",\"#B0BEC5\",\"#B0BEC5\",\"#B0BEC5\",\"red\",\"#B0BEC5\",\"#B0BEC5\",\"#B0BEC5\",\"#B0BEC5\",\"#B0BEC5\",\"#B0BEC5\",\"#B0BEC5\",\"#B0BEC5\",\"#B0BEC5\",\"#B0BEC5\",\"#B0BEC5\",\"#B0BEC5\",\"#B0BEC5\",\"#B0BEC5\",\"#B0BEC5\",\"#B0BEC5\",\"#B0BEC5\"]]}],\"label\":\"Topic 30\",\"method\":\"update\"},{\"args\":[{\"marker.color\":[[\"#B0BEC5\",\"#B0BEC5\",\"#B0BEC5\",\"#B0BEC5\",\"#B0BEC5\",\"#B0BEC5\",\"#B0BEC5\",\"#B0BEC5\",\"#B0BEC5\",\"#B0BEC5\",\"#B0BEC5\",\"#B0BEC5\",\"#B0BEC5\",\"#B0BEC5\",\"#B0BEC5\",\"#B0BEC5\",\"#B0BEC5\",\"#B0BEC5\",\"#B0BEC5\",\"#B0BEC5\",\"#B0BEC5\",\"#B0BEC5\",\"#B0BEC5\",\"#B0BEC5\",\"#B0BEC5\",\"#B0BEC5\",\"#B0BEC5\",\"#B0BEC5\",\"#B0BEC5\",\"#B0BEC5\",\"#B0BEC5\",\"red\",\"#B0BEC5\",\"#B0BEC5\",\"#B0BEC5\",\"#B0BEC5\",\"#B0BEC5\",\"#B0BEC5\",\"#B0BEC5\",\"#B0BEC5\",\"#B0BEC5\",\"#B0BEC5\",\"#B0BEC5\",\"#B0BEC5\",\"#B0BEC5\",\"#B0BEC5\",\"#B0BEC5\",\"#B0BEC5\"]]}],\"label\":\"Topic 31\",\"method\":\"update\"},{\"args\":[{\"marker.color\":[[\"#B0BEC5\",\"#B0BEC5\",\"#B0BEC5\",\"#B0BEC5\",\"#B0BEC5\",\"#B0BEC5\",\"#B0BEC5\",\"#B0BEC5\",\"#B0BEC5\",\"#B0BEC5\",\"#B0BEC5\",\"#B0BEC5\",\"#B0BEC5\",\"#B0BEC5\",\"#B0BEC5\",\"#B0BEC5\",\"#B0BEC5\",\"#B0BEC5\",\"#B0BEC5\",\"#B0BEC5\",\"#B0BEC5\",\"#B0BEC5\",\"#B0BEC5\",\"#B0BEC5\",\"#B0BEC5\",\"#B0BEC5\",\"#B0BEC5\",\"#B0BEC5\",\"#B0BEC5\",\"#B0BEC5\",\"#B0BEC5\",\"#B0BEC5\",\"red\",\"#B0BEC5\",\"#B0BEC5\",\"#B0BEC5\",\"#B0BEC5\",\"#B0BEC5\",\"#B0BEC5\",\"#B0BEC5\",\"#B0BEC5\",\"#B0BEC5\",\"#B0BEC5\",\"#B0BEC5\",\"#B0BEC5\",\"#B0BEC5\",\"#B0BEC5\",\"#B0BEC5\"]]}],\"label\":\"Topic 32\",\"method\":\"update\"},{\"args\":[{\"marker.color\":[[\"#B0BEC5\",\"#B0BEC5\",\"#B0BEC5\",\"#B0BEC5\",\"#B0BEC5\",\"#B0BEC5\",\"#B0BEC5\",\"#B0BEC5\",\"#B0BEC5\",\"#B0BEC5\",\"#B0BEC5\",\"#B0BEC5\",\"#B0BEC5\",\"#B0BEC5\",\"#B0BEC5\",\"#B0BEC5\",\"#B0BEC5\",\"#B0BEC5\",\"#B0BEC5\",\"#B0BEC5\",\"#B0BEC5\",\"#B0BEC5\",\"#B0BEC5\",\"#B0BEC5\",\"#B0BEC5\",\"#B0BEC5\",\"#B0BEC5\",\"#B0BEC5\",\"#B0BEC5\",\"#B0BEC5\",\"#B0BEC5\",\"#B0BEC5\",\"#B0BEC5\",\"red\",\"#B0BEC5\",\"#B0BEC5\",\"#B0BEC5\",\"#B0BEC5\",\"#B0BEC5\",\"#B0BEC5\",\"#B0BEC5\",\"#B0BEC5\",\"#B0BEC5\",\"#B0BEC5\",\"#B0BEC5\",\"#B0BEC5\",\"#B0BEC5\",\"#B0BEC5\"]]}],\"label\":\"Topic 33\",\"method\":\"update\"},{\"args\":[{\"marker.color\":[[\"#B0BEC5\",\"#B0BEC5\",\"#B0BEC5\",\"#B0BEC5\",\"#B0BEC5\",\"#B0BEC5\",\"#B0BEC5\",\"#B0BEC5\",\"#B0BEC5\",\"#B0BEC5\",\"#B0BEC5\",\"#B0BEC5\",\"#B0BEC5\",\"#B0BEC5\",\"#B0BEC5\",\"#B0BEC5\",\"#B0BEC5\",\"#B0BEC5\",\"#B0BEC5\",\"#B0BEC5\",\"#B0BEC5\",\"#B0BEC5\",\"#B0BEC5\",\"#B0BEC5\",\"#B0BEC5\",\"#B0BEC5\",\"#B0BEC5\",\"#B0BEC5\",\"#B0BEC5\",\"#B0BEC5\",\"#B0BEC5\",\"#B0BEC5\",\"#B0BEC5\",\"#B0BEC5\",\"red\",\"#B0BEC5\",\"#B0BEC5\",\"#B0BEC5\",\"#B0BEC5\",\"#B0BEC5\",\"#B0BEC5\",\"#B0BEC5\",\"#B0BEC5\",\"#B0BEC5\",\"#B0BEC5\",\"#B0BEC5\",\"#B0BEC5\",\"#B0BEC5\"]]}],\"label\":\"Topic 34\",\"method\":\"update\"},{\"args\":[{\"marker.color\":[[\"#B0BEC5\",\"#B0BEC5\",\"#B0BEC5\",\"#B0BEC5\",\"#B0BEC5\",\"#B0BEC5\",\"#B0BEC5\",\"#B0BEC5\",\"#B0BEC5\",\"#B0BEC5\",\"#B0BEC5\",\"#B0BEC5\",\"#B0BEC5\",\"#B0BEC5\",\"#B0BEC5\",\"#B0BEC5\",\"#B0BEC5\",\"#B0BEC5\",\"#B0BEC5\",\"#B0BEC5\",\"#B0BEC5\",\"#B0BEC5\",\"#B0BEC5\",\"#B0BEC5\",\"#B0BEC5\",\"#B0BEC5\",\"#B0BEC5\",\"#B0BEC5\",\"#B0BEC5\",\"#B0BEC5\",\"#B0BEC5\",\"#B0BEC5\",\"#B0BEC5\",\"#B0BEC5\",\"#B0BEC5\",\"red\",\"#B0BEC5\",\"#B0BEC5\",\"#B0BEC5\",\"#B0BEC5\",\"#B0BEC5\",\"#B0BEC5\",\"#B0BEC5\",\"#B0BEC5\",\"#B0BEC5\",\"#B0BEC5\",\"#B0BEC5\",\"#B0BEC5\"]]}],\"label\":\"Topic 35\",\"method\":\"update\"},{\"args\":[{\"marker.color\":[[\"#B0BEC5\",\"#B0BEC5\",\"#B0BEC5\",\"#B0BEC5\",\"#B0BEC5\",\"#B0BEC5\",\"#B0BEC5\",\"#B0BEC5\",\"#B0BEC5\",\"#B0BEC5\",\"#B0BEC5\",\"#B0BEC5\",\"#B0BEC5\",\"#B0BEC5\",\"#B0BEC5\",\"#B0BEC5\",\"#B0BEC5\",\"#B0BEC5\",\"#B0BEC5\",\"#B0BEC5\",\"#B0BEC5\",\"#B0BEC5\",\"#B0BEC5\",\"#B0BEC5\",\"#B0BEC5\",\"#B0BEC5\",\"#B0BEC5\",\"#B0BEC5\",\"#B0BEC5\",\"#B0BEC5\",\"#B0BEC5\",\"#B0BEC5\",\"#B0BEC5\",\"#B0BEC5\",\"#B0BEC5\",\"#B0BEC5\",\"red\",\"#B0BEC5\",\"#B0BEC5\",\"#B0BEC5\",\"#B0BEC5\",\"#B0BEC5\",\"#B0BEC5\",\"#B0BEC5\",\"#B0BEC5\",\"#B0BEC5\",\"#B0BEC5\",\"#B0BEC5\"]]}],\"label\":\"Topic 36\",\"method\":\"update\"},{\"args\":[{\"marker.color\":[[\"#B0BEC5\",\"#B0BEC5\",\"#B0BEC5\",\"#B0BEC5\",\"#B0BEC5\",\"#B0BEC5\",\"#B0BEC5\",\"#B0BEC5\",\"#B0BEC5\",\"#B0BEC5\",\"#B0BEC5\",\"#B0BEC5\",\"#B0BEC5\",\"#B0BEC5\",\"#B0BEC5\",\"#B0BEC5\",\"#B0BEC5\",\"#B0BEC5\",\"#B0BEC5\",\"#B0BEC5\",\"#B0BEC5\",\"#B0BEC5\",\"#B0BEC5\",\"#B0BEC5\",\"#B0BEC5\",\"#B0BEC5\",\"#B0BEC5\",\"#B0BEC5\",\"#B0BEC5\",\"#B0BEC5\",\"#B0BEC5\",\"#B0BEC5\",\"#B0BEC5\",\"#B0BEC5\",\"#B0BEC5\",\"#B0BEC5\",\"#B0BEC5\",\"red\",\"#B0BEC5\",\"#B0BEC5\",\"#B0BEC5\",\"#B0BEC5\",\"#B0BEC5\",\"#B0BEC5\",\"#B0BEC5\",\"#B0BEC5\",\"#B0BEC5\",\"#B0BEC5\"]]}],\"label\":\"Topic 37\",\"method\":\"update\"},{\"args\":[{\"marker.color\":[[\"#B0BEC5\",\"#B0BEC5\",\"#B0BEC5\",\"#B0BEC5\",\"#B0BEC5\",\"#B0BEC5\",\"#B0BEC5\",\"#B0BEC5\",\"#B0BEC5\",\"#B0BEC5\",\"#B0BEC5\",\"#B0BEC5\",\"#B0BEC5\",\"#B0BEC5\",\"#B0BEC5\",\"#B0BEC5\",\"#B0BEC5\",\"#B0BEC5\",\"#B0BEC5\",\"#B0BEC5\",\"#B0BEC5\",\"#B0BEC5\",\"#B0BEC5\",\"#B0BEC5\",\"#B0BEC5\",\"#B0BEC5\",\"#B0BEC5\",\"#B0BEC5\",\"#B0BEC5\",\"#B0BEC5\",\"#B0BEC5\",\"#B0BEC5\",\"#B0BEC5\",\"#B0BEC5\",\"#B0BEC5\",\"#B0BEC5\",\"#B0BEC5\",\"#B0BEC5\",\"red\",\"#B0BEC5\",\"#B0BEC5\",\"#B0BEC5\",\"#B0BEC5\",\"#B0BEC5\",\"#B0BEC5\",\"#B0BEC5\",\"#B0BEC5\",\"#B0BEC5\"]]}],\"label\":\"Topic 38\",\"method\":\"update\"},{\"args\":[{\"marker.color\":[[\"#B0BEC5\",\"#B0BEC5\",\"#B0BEC5\",\"#B0BEC5\",\"#B0BEC5\",\"#B0BEC5\",\"#B0BEC5\",\"#B0BEC5\",\"#B0BEC5\",\"#B0BEC5\",\"#B0BEC5\",\"#B0BEC5\",\"#B0BEC5\",\"#B0BEC5\",\"#B0BEC5\",\"#B0BEC5\",\"#B0BEC5\",\"#B0BEC5\",\"#B0BEC5\",\"#B0BEC5\",\"#B0BEC5\",\"#B0BEC5\",\"#B0BEC5\",\"#B0BEC5\",\"#B0BEC5\",\"#B0BEC5\",\"#B0BEC5\",\"#B0BEC5\",\"#B0BEC5\",\"#B0BEC5\",\"#B0BEC5\",\"#B0BEC5\",\"#B0BEC5\",\"#B0BEC5\",\"#B0BEC5\",\"#B0BEC5\",\"#B0BEC5\",\"#B0BEC5\",\"#B0BEC5\",\"red\",\"#B0BEC5\",\"#B0BEC5\",\"#B0BEC5\",\"#B0BEC5\",\"#B0BEC5\",\"#B0BEC5\",\"#B0BEC5\",\"#B0BEC5\"]]}],\"label\":\"Topic 39\",\"method\":\"update\"},{\"args\":[{\"marker.color\":[[\"#B0BEC5\",\"#B0BEC5\",\"#B0BEC5\",\"#B0BEC5\",\"#B0BEC5\",\"#B0BEC5\",\"#B0BEC5\",\"#B0BEC5\",\"#B0BEC5\",\"#B0BEC5\",\"#B0BEC5\",\"#B0BEC5\",\"#B0BEC5\",\"#B0BEC5\",\"#B0BEC5\",\"#B0BEC5\",\"#B0BEC5\",\"#B0BEC5\",\"#B0BEC5\",\"#B0BEC5\",\"#B0BEC5\",\"#B0BEC5\",\"#B0BEC5\",\"#B0BEC5\",\"#B0BEC5\",\"#B0BEC5\",\"#B0BEC5\",\"#B0BEC5\",\"#B0BEC5\",\"#B0BEC5\",\"#B0BEC5\",\"#B0BEC5\",\"#B0BEC5\",\"#B0BEC5\",\"#B0BEC5\",\"#B0BEC5\",\"#B0BEC5\",\"#B0BEC5\",\"#B0BEC5\",\"#B0BEC5\",\"red\",\"#B0BEC5\",\"#B0BEC5\",\"#B0BEC5\",\"#B0BEC5\",\"#B0BEC5\",\"#B0BEC5\",\"#B0BEC5\"]]}],\"label\":\"Topic 40\",\"method\":\"update\"},{\"args\":[{\"marker.color\":[[\"#B0BEC5\",\"#B0BEC5\",\"#B0BEC5\",\"#B0BEC5\",\"#B0BEC5\",\"#B0BEC5\",\"#B0BEC5\",\"#B0BEC5\",\"#B0BEC5\",\"#B0BEC5\",\"#B0BEC5\",\"#B0BEC5\",\"#B0BEC5\",\"#B0BEC5\",\"#B0BEC5\",\"#B0BEC5\",\"#B0BEC5\",\"#B0BEC5\",\"#B0BEC5\",\"#B0BEC5\",\"#B0BEC5\",\"#B0BEC5\",\"#B0BEC5\",\"#B0BEC5\",\"#B0BEC5\",\"#B0BEC5\",\"#B0BEC5\",\"#B0BEC5\",\"#B0BEC5\",\"#B0BEC5\",\"#B0BEC5\",\"#B0BEC5\",\"#B0BEC5\",\"#B0BEC5\",\"#B0BEC5\",\"#B0BEC5\",\"#B0BEC5\",\"#B0BEC5\",\"#B0BEC5\",\"#B0BEC5\",\"#B0BEC5\",\"red\",\"#B0BEC5\",\"#B0BEC5\",\"#B0BEC5\",\"#B0BEC5\",\"#B0BEC5\",\"#B0BEC5\"]]}],\"label\":\"Topic 41\",\"method\":\"update\"},{\"args\":[{\"marker.color\":[[\"#B0BEC5\",\"#B0BEC5\",\"#B0BEC5\",\"#B0BEC5\",\"#B0BEC5\",\"#B0BEC5\",\"#B0BEC5\",\"#B0BEC5\",\"#B0BEC5\",\"#B0BEC5\",\"#B0BEC5\",\"#B0BEC5\",\"#B0BEC5\",\"#B0BEC5\",\"#B0BEC5\",\"#B0BEC5\",\"#B0BEC5\",\"#B0BEC5\",\"#B0BEC5\",\"#B0BEC5\",\"#B0BEC5\",\"#B0BEC5\",\"#B0BEC5\",\"#B0BEC5\",\"#B0BEC5\",\"#B0BEC5\",\"#B0BEC5\",\"#B0BEC5\",\"#B0BEC5\",\"#B0BEC5\",\"#B0BEC5\",\"#B0BEC5\",\"#B0BEC5\",\"#B0BEC5\",\"#B0BEC5\",\"#B0BEC5\",\"#B0BEC5\",\"#B0BEC5\",\"#B0BEC5\",\"#B0BEC5\",\"#B0BEC5\",\"#B0BEC5\",\"red\",\"#B0BEC5\",\"#B0BEC5\",\"#B0BEC5\",\"#B0BEC5\",\"#B0BEC5\"]]}],\"label\":\"Topic 42\",\"method\":\"update\"},{\"args\":[{\"marker.color\":[[\"#B0BEC5\",\"#B0BEC5\",\"#B0BEC5\",\"#B0BEC5\",\"#B0BEC5\",\"#B0BEC5\",\"#B0BEC5\",\"#B0BEC5\",\"#B0BEC5\",\"#B0BEC5\",\"#B0BEC5\",\"#B0BEC5\",\"#B0BEC5\",\"#B0BEC5\",\"#B0BEC5\",\"#B0BEC5\",\"#B0BEC5\",\"#B0BEC5\",\"#B0BEC5\",\"#B0BEC5\",\"#B0BEC5\",\"#B0BEC5\",\"#B0BEC5\",\"#B0BEC5\",\"#B0BEC5\",\"#B0BEC5\",\"#B0BEC5\",\"#B0BEC5\",\"#B0BEC5\",\"#B0BEC5\",\"#B0BEC5\",\"#B0BEC5\",\"#B0BEC5\",\"#B0BEC5\",\"#B0BEC5\",\"#B0BEC5\",\"#B0BEC5\",\"#B0BEC5\",\"#B0BEC5\",\"#B0BEC5\",\"#B0BEC5\",\"#B0BEC5\",\"#B0BEC5\",\"red\",\"#B0BEC5\",\"#B0BEC5\",\"#B0BEC5\",\"#B0BEC5\"]]}],\"label\":\"Topic 43\",\"method\":\"update\"},{\"args\":[{\"marker.color\":[[\"#B0BEC5\",\"#B0BEC5\",\"#B0BEC5\",\"#B0BEC5\",\"#B0BEC5\",\"#B0BEC5\",\"#B0BEC5\",\"#B0BEC5\",\"#B0BEC5\",\"#B0BEC5\",\"#B0BEC5\",\"#B0BEC5\",\"#B0BEC5\",\"#B0BEC5\",\"#B0BEC5\",\"#B0BEC5\",\"#B0BEC5\",\"#B0BEC5\",\"#B0BEC5\",\"#B0BEC5\",\"#B0BEC5\",\"#B0BEC5\",\"#B0BEC5\",\"#B0BEC5\",\"#B0BEC5\",\"#B0BEC5\",\"#B0BEC5\",\"#B0BEC5\",\"#B0BEC5\",\"#B0BEC5\",\"#B0BEC5\",\"#B0BEC5\",\"#B0BEC5\",\"#B0BEC5\",\"#B0BEC5\",\"#B0BEC5\",\"#B0BEC5\",\"#B0BEC5\",\"#B0BEC5\",\"#B0BEC5\",\"#B0BEC5\",\"#B0BEC5\",\"#B0BEC5\",\"#B0BEC5\",\"red\",\"#B0BEC5\",\"#B0BEC5\",\"#B0BEC5\"]]}],\"label\":\"Topic 44\",\"method\":\"update\"},{\"args\":[{\"marker.color\":[[\"#B0BEC5\",\"#B0BEC5\",\"#B0BEC5\",\"#B0BEC5\",\"#B0BEC5\",\"#B0BEC5\",\"#B0BEC5\",\"#B0BEC5\",\"#B0BEC5\",\"#B0BEC5\",\"#B0BEC5\",\"#B0BEC5\",\"#B0BEC5\",\"#B0BEC5\",\"#B0BEC5\",\"#B0BEC5\",\"#B0BEC5\",\"#B0BEC5\",\"#B0BEC5\",\"#B0BEC5\",\"#B0BEC5\",\"#B0BEC5\",\"#B0BEC5\",\"#B0BEC5\",\"#B0BEC5\",\"#B0BEC5\",\"#B0BEC5\",\"#B0BEC5\",\"#B0BEC5\",\"#B0BEC5\",\"#B0BEC5\",\"#B0BEC5\",\"#B0BEC5\",\"#B0BEC5\",\"#B0BEC5\",\"#B0BEC5\",\"#B0BEC5\",\"#B0BEC5\",\"#B0BEC5\",\"#B0BEC5\",\"#B0BEC5\",\"#B0BEC5\",\"#B0BEC5\",\"#B0BEC5\",\"#B0BEC5\",\"red\",\"#B0BEC5\",\"#B0BEC5\"]]}],\"label\":\"Topic 45\",\"method\":\"update\"},{\"args\":[{\"marker.color\":[[\"#B0BEC5\",\"#B0BEC5\",\"#B0BEC5\",\"#B0BEC5\",\"#B0BEC5\",\"#B0BEC5\",\"#B0BEC5\",\"#B0BEC5\",\"#B0BEC5\",\"#B0BEC5\",\"#B0BEC5\",\"#B0BEC5\",\"#B0BEC5\",\"#B0BEC5\",\"#B0BEC5\",\"#B0BEC5\",\"#B0BEC5\",\"#B0BEC5\",\"#B0BEC5\",\"#B0BEC5\",\"#B0BEC5\",\"#B0BEC5\",\"#B0BEC5\",\"#B0BEC5\",\"#B0BEC5\",\"#B0BEC5\",\"#B0BEC5\",\"#B0BEC5\",\"#B0BEC5\",\"#B0BEC5\",\"#B0BEC5\",\"#B0BEC5\",\"#B0BEC5\",\"#B0BEC5\",\"#B0BEC5\",\"#B0BEC5\",\"#B0BEC5\",\"#B0BEC5\",\"#B0BEC5\",\"#B0BEC5\",\"#B0BEC5\",\"#B0BEC5\",\"#B0BEC5\",\"#B0BEC5\",\"#B0BEC5\",\"#B0BEC5\",\"red\",\"#B0BEC5\"]]}],\"label\":\"Topic 46\",\"method\":\"update\"},{\"args\":[{\"marker.color\":[[\"#B0BEC5\",\"#B0BEC5\",\"#B0BEC5\",\"#B0BEC5\",\"#B0BEC5\",\"#B0BEC5\",\"#B0BEC5\",\"#B0BEC5\",\"#B0BEC5\",\"#B0BEC5\",\"#B0BEC5\",\"#B0BEC5\",\"#B0BEC5\",\"#B0BEC5\",\"#B0BEC5\",\"#B0BEC5\",\"#B0BEC5\",\"#B0BEC5\",\"#B0BEC5\",\"#B0BEC5\",\"#B0BEC5\",\"#B0BEC5\",\"#B0BEC5\",\"#B0BEC5\",\"#B0BEC5\",\"#B0BEC5\",\"#B0BEC5\",\"#B0BEC5\",\"#B0BEC5\",\"#B0BEC5\",\"#B0BEC5\",\"#B0BEC5\",\"#B0BEC5\",\"#B0BEC5\",\"#B0BEC5\",\"#B0BEC5\",\"#B0BEC5\",\"#B0BEC5\",\"#B0BEC5\",\"#B0BEC5\",\"#B0BEC5\",\"#B0BEC5\",\"#B0BEC5\",\"#B0BEC5\",\"#B0BEC5\",\"#B0BEC5\",\"#B0BEC5\",\"red\"]]}],\"label\":\"Topic 47\",\"method\":\"update\"}]}],\"shapes\":[{\"line\":{\"color\":\"#CFD8DC\",\"width\":2},\"type\":\"line\",\"x0\":6.884831053018569,\"x1\":6.884831053018569,\"y0\":-6.589880585670471,\"y1\":17.666236925125123},{\"line\":{\"color\":\"#9E9E9E\",\"width\":2},\"type\":\"line\",\"x0\":-2.077130305767059,\"x1\":15.846792411804199,\"y0\":5.538178169727326,\"y1\":5.538178169727326}],\"annotations\":[{\"showarrow\":false,\"text\":\"D1\",\"x\":-2.077130305767059,\"y\":5.538178169727326,\"yshift\":10},{\"showarrow\":false,\"text\":\"D2\",\"x\":6.884831053018569,\"xshift\":10,\"y\":17.666236925125123}]},                        {\"responsive\": true}                    ).then(function(){\n",
              "                            \n",
              "var gd = document.getElementById('7b3d10f5-ece2-42a2-9ffe-e844f8de10bc');\n",
              "var x = new MutationObserver(function (mutations, observer) {{\n",
              "        var display = window.getComputedStyle(gd).display;\n",
              "        if (!display || display === 'none') {{\n",
              "            console.log([gd, 'removed!']);\n",
              "            Plotly.purge(gd);\n",
              "            observer.disconnect();\n",
              "        }}\n",
              "}});\n",
              "\n",
              "// Listen for the removal of the full notebook cells\n",
              "var notebookContainer = gd.closest('#notebook-container');\n",
              "if (notebookContainer) {{\n",
              "    x.observe(notebookContainer, {childList: true});\n",
              "}}\n",
              "\n",
              "// Listen for the clearing of the current output cell\n",
              "var outputEl = gd.closest('.output');\n",
              "if (outputEl) {{\n",
              "    x.observe(outputEl, {childList: true});\n",
              "}}\n",
              "\n",
              "                        })                };                            </script>        </div>\n",
              "</body>\n",
              "</html>"
            ]
          },
          "metadata": {}
        }
      ]
    },
    {
      "cell_type": "code",
      "source": [
        "# You can select any document index to visualize its topic probability distribution\n",
        "document_index = 0  # Adjust based on the specific document you're interested in\n",
        "topic_model.visualize_distribution(probabilities[document_index], min_probability=0.01)"
      ],
      "metadata": {
        "colab": {
          "base_uri": "https://localhost:8080/",
          "height": 617
        },
        "id": "Kb39JvUQ2yu9",
        "outputId": "450c5e33-a52a-4250-f0c8-782fb11e405e"
      },
      "execution_count": 36,
      "outputs": [
        {
          "output_type": "display_data",
          "data": {
            "text/html": [
              "<html>\n",
              "<head><meta charset=\"utf-8\" /></head>\n",
              "<body>\n",
              "    <div>            <script src=\"https://cdnjs.cloudflare.com/ajax/libs/mathjax/2.7.5/MathJax.js?config=TeX-AMS-MML_SVG\"></script><script type=\"text/javascript\">if (window.MathJax && window.MathJax.Hub && window.MathJax.Hub.Config) {window.MathJax.Hub.Config({SVG: {font: \"STIX-Web\"}});}</script>                <script type=\"text/javascript\">window.PlotlyConfig = {MathJaxConfig: 'local'};</script>\n",
              "        <script charset=\"utf-8\" src=\"https://cdn.plot.ly/plotly-2.24.1.min.js\"></script>                <div id=\"2669e846-9464-42c3-bd82-525e339a5c2c\" class=\"plotly-graph-div\" style=\"height:600px; width:800px;\"></div>            <script type=\"text/javascript\">                                    window.PLOTLYENV=window.PLOTLYENV || {};                                    if (document.getElementById(\"2669e846-9464-42c3-bd82-525e339a5c2c\")) {                    Plotly.newPlot(                        \"2669e846-9464-42c3-bd82-525e339a5c2c\",                        [{\"marker\":{\"color\":\"#C8D2D7\",\"line\":{\"color\":\"#6E8484\",\"width\":1}},\"orientation\":\"h\",\"x\":[0.04665316107561683,0.04446510670278119,0.014165678480409661,0.010903227811368155,0.011326046051714446,0.01114450029820422,0.01650635353419102,0.013843897068822195,0.020792598605707757,0.010093304073088092,0.015028975336730416,0.011854422568003908,0.015050205686970899,0.016492579044775593,0.011133359745914295,0.0857522364580327,0.01783302871731615,0.011230837458319274],\"y\":[\"\\u003cb\\u003eTopic 0\\u003c\\u002fb\\u003e: real_climate_change_it_i...\",\"\\u003cb\\u003eTopic 1\\u003c\\u002fb\\u003e: trump_he_to_climate_chan...\",\"\\u003cb\\u003eTopic 2\\u003c\\u002fb\\u003e: global_warming_hot_fuck_...\",\"\\u003cb\\u003eTopic 3\\u003c\\u002fb\\u003e: obama_executive_order_is...\",\"\\u003cb\\u003eTopic 5\\u003c\\u002fb\\u003e: carbon_money_tax_the_it\",\"\\u003cb\\u003eTopic 7\\u003c\\u002fb\\u003e: amp_turnbull_malcolm_aus...\",\"\\u003cb\\u003eTopic 9\\u003c\\u002fb\\u003e: conservatives_liberals_r...\",\"\\u003cb\\u003eTopic 12\\u003c\\u002fb\\u003e: gore_al_fraud_margin_hi...\",\"\\u003cb\\u003eTopic 13\\u003c\\u002fb\\u003e: fiction_made_fact_man_f...\",\"\\u003cb\\u003eTopic 15\\u003c\\u002fb\\u003e: study_case_scenarios_gl...\",\"\\u003cb\\u003eTopic 22\\u003c\\u002fb\\u003e: elect_president_have_mr...\",\"\\u003cb\\u003eTopic 23\\u003c\\u002fb\\u003e: hillary_clinton_her_she...\",\"\\u003cb\\u003eTopic 34\\u003c\\u002fb\\u003e: manipulated_data_duped_...\",\"\\u003cb\\u003eTopic 35\\u003c\\u002fb\\u003e: scientists_about_have_r...\",\"\\u003cb\\u003eTopic 42\\u003c\\u002fb\\u003e: story_schwartz_starts_b...\",\"\\u003cb\\u003eTopic 43\\u003c\\u002fb\\u003e: channel_founder_cnn_col...\",\"\\u003cb\\u003eTopic 44\\u003c\\u002fb\\u003e: scam_before_jarrett_man...\",\"\\u003cb\\u003eTopic 47\\u003c\\u002fb\\u003e: paris_accord_deal_bloom...\"],\"type\":\"bar\"}],                        {\"template\":{\"data\":{\"barpolar\":[{\"marker\":{\"line\":{\"color\":\"white\",\"width\":0.5},\"pattern\":{\"fillmode\":\"overlay\",\"size\":10,\"solidity\":0.2}},\"type\":\"barpolar\"}],\"bar\":[{\"error_x\":{\"color\":\"rgb(36,36,36)\"},\"error_y\":{\"color\":\"rgb(36,36,36)\"},\"marker\":{\"line\":{\"color\":\"white\",\"width\":0.5},\"pattern\":{\"fillmode\":\"overlay\",\"size\":10,\"solidity\":0.2}},\"type\":\"bar\"}],\"carpet\":[{\"aaxis\":{\"endlinecolor\":\"rgb(36,36,36)\",\"gridcolor\":\"white\",\"linecolor\":\"white\",\"minorgridcolor\":\"white\",\"startlinecolor\":\"rgb(36,36,36)\"},\"baxis\":{\"endlinecolor\":\"rgb(36,36,36)\",\"gridcolor\":\"white\",\"linecolor\":\"white\",\"minorgridcolor\":\"white\",\"startlinecolor\":\"rgb(36,36,36)\"},\"type\":\"carpet\"}],\"choropleth\":[{\"colorbar\":{\"outlinewidth\":1,\"tickcolor\":\"rgb(36,36,36)\",\"ticks\":\"outside\"},\"type\":\"choropleth\"}],\"contourcarpet\":[{\"colorbar\":{\"outlinewidth\":1,\"tickcolor\":\"rgb(36,36,36)\",\"ticks\":\"outside\"},\"type\":\"contourcarpet\"}],\"contour\":[{\"colorbar\":{\"outlinewidth\":1,\"tickcolor\":\"rgb(36,36,36)\",\"ticks\":\"outside\"},\"colorscale\":[[0.0,\"#440154\"],[0.1111111111111111,\"#482878\"],[0.2222222222222222,\"#3e4989\"],[0.3333333333333333,\"#31688e\"],[0.4444444444444444,\"#26828e\"],[0.5555555555555556,\"#1f9e89\"],[0.6666666666666666,\"#35b779\"],[0.7777777777777778,\"#6ece58\"],[0.8888888888888888,\"#b5de2b\"],[1.0,\"#fde725\"]],\"type\":\"contour\"}],\"heatmapgl\":[{\"colorbar\":{\"outlinewidth\":1,\"tickcolor\":\"rgb(36,36,36)\",\"ticks\":\"outside\"},\"colorscale\":[[0.0,\"#440154\"],[0.1111111111111111,\"#482878\"],[0.2222222222222222,\"#3e4989\"],[0.3333333333333333,\"#31688e\"],[0.4444444444444444,\"#26828e\"],[0.5555555555555556,\"#1f9e89\"],[0.6666666666666666,\"#35b779\"],[0.7777777777777778,\"#6ece58\"],[0.8888888888888888,\"#b5de2b\"],[1.0,\"#fde725\"]],\"type\":\"heatmapgl\"}],\"heatmap\":[{\"colorbar\":{\"outlinewidth\":1,\"tickcolor\":\"rgb(36,36,36)\",\"ticks\":\"outside\"},\"colorscale\":[[0.0,\"#440154\"],[0.1111111111111111,\"#482878\"],[0.2222222222222222,\"#3e4989\"],[0.3333333333333333,\"#31688e\"],[0.4444444444444444,\"#26828e\"],[0.5555555555555556,\"#1f9e89\"],[0.6666666666666666,\"#35b779\"],[0.7777777777777778,\"#6ece58\"],[0.8888888888888888,\"#b5de2b\"],[1.0,\"#fde725\"]],\"type\":\"heatmap\"}],\"histogram2dcontour\":[{\"colorbar\":{\"outlinewidth\":1,\"tickcolor\":\"rgb(36,36,36)\",\"ticks\":\"outside\"},\"colorscale\":[[0.0,\"#440154\"],[0.1111111111111111,\"#482878\"],[0.2222222222222222,\"#3e4989\"],[0.3333333333333333,\"#31688e\"],[0.4444444444444444,\"#26828e\"],[0.5555555555555556,\"#1f9e89\"],[0.6666666666666666,\"#35b779\"],[0.7777777777777778,\"#6ece58\"],[0.8888888888888888,\"#b5de2b\"],[1.0,\"#fde725\"]],\"type\":\"histogram2dcontour\"}],\"histogram2d\":[{\"colorbar\":{\"outlinewidth\":1,\"tickcolor\":\"rgb(36,36,36)\",\"ticks\":\"outside\"},\"colorscale\":[[0.0,\"#440154\"],[0.1111111111111111,\"#482878\"],[0.2222222222222222,\"#3e4989\"],[0.3333333333333333,\"#31688e\"],[0.4444444444444444,\"#26828e\"],[0.5555555555555556,\"#1f9e89\"],[0.6666666666666666,\"#35b779\"],[0.7777777777777778,\"#6ece58\"],[0.8888888888888888,\"#b5de2b\"],[1.0,\"#fde725\"]],\"type\":\"histogram2d\"}],\"histogram\":[{\"marker\":{\"line\":{\"color\":\"white\",\"width\":0.6}},\"type\":\"histogram\"}],\"mesh3d\":[{\"colorbar\":{\"outlinewidth\":1,\"tickcolor\":\"rgb(36,36,36)\",\"ticks\":\"outside\"},\"type\":\"mesh3d\"}],\"parcoords\":[{\"line\":{\"colorbar\":{\"outlinewidth\":1,\"tickcolor\":\"rgb(36,36,36)\",\"ticks\":\"outside\"}},\"type\":\"parcoords\"}],\"pie\":[{\"automargin\":true,\"type\":\"pie\"}],\"scatter3d\":[{\"line\":{\"colorbar\":{\"outlinewidth\":1,\"tickcolor\":\"rgb(36,36,36)\",\"ticks\":\"outside\"}},\"marker\":{\"colorbar\":{\"outlinewidth\":1,\"tickcolor\":\"rgb(36,36,36)\",\"ticks\":\"outside\"}},\"type\":\"scatter3d\"}],\"scattercarpet\":[{\"marker\":{\"colorbar\":{\"outlinewidth\":1,\"tickcolor\":\"rgb(36,36,36)\",\"ticks\":\"outside\"}},\"type\":\"scattercarpet\"}],\"scattergeo\":[{\"marker\":{\"colorbar\":{\"outlinewidth\":1,\"tickcolor\":\"rgb(36,36,36)\",\"ticks\":\"outside\"}},\"type\":\"scattergeo\"}],\"scattergl\":[{\"marker\":{\"colorbar\":{\"outlinewidth\":1,\"tickcolor\":\"rgb(36,36,36)\",\"ticks\":\"outside\"}},\"type\":\"scattergl\"}],\"scattermapbox\":[{\"marker\":{\"colorbar\":{\"outlinewidth\":1,\"tickcolor\":\"rgb(36,36,36)\",\"ticks\":\"outside\"}},\"type\":\"scattermapbox\"}],\"scatterpolargl\":[{\"marker\":{\"colorbar\":{\"outlinewidth\":1,\"tickcolor\":\"rgb(36,36,36)\",\"ticks\":\"outside\"}},\"type\":\"scatterpolargl\"}],\"scatterpolar\":[{\"marker\":{\"colorbar\":{\"outlinewidth\":1,\"tickcolor\":\"rgb(36,36,36)\",\"ticks\":\"outside\"}},\"type\":\"scatterpolar\"}],\"scatter\":[{\"fillpattern\":{\"fillmode\":\"overlay\",\"size\":10,\"solidity\":0.2},\"type\":\"scatter\"}],\"scatterternary\":[{\"marker\":{\"colorbar\":{\"outlinewidth\":1,\"tickcolor\":\"rgb(36,36,36)\",\"ticks\":\"outside\"}},\"type\":\"scatterternary\"}],\"surface\":[{\"colorbar\":{\"outlinewidth\":1,\"tickcolor\":\"rgb(36,36,36)\",\"ticks\":\"outside\"},\"colorscale\":[[0.0,\"#440154\"],[0.1111111111111111,\"#482878\"],[0.2222222222222222,\"#3e4989\"],[0.3333333333333333,\"#31688e\"],[0.4444444444444444,\"#26828e\"],[0.5555555555555556,\"#1f9e89\"],[0.6666666666666666,\"#35b779\"],[0.7777777777777778,\"#6ece58\"],[0.8888888888888888,\"#b5de2b\"],[1.0,\"#fde725\"]],\"type\":\"surface\"}],\"table\":[{\"cells\":{\"fill\":{\"color\":\"rgb(237,237,237)\"},\"line\":{\"color\":\"white\"}},\"header\":{\"fill\":{\"color\":\"rgb(217,217,217)\"},\"line\":{\"color\":\"white\"}},\"type\":\"table\"}]},\"layout\":{\"annotationdefaults\":{\"arrowhead\":0,\"arrowwidth\":1},\"autotypenumbers\":\"strict\",\"coloraxis\":{\"colorbar\":{\"outlinewidth\":1,\"tickcolor\":\"rgb(36,36,36)\",\"ticks\":\"outside\"}},\"colorscale\":{\"diverging\":[[0.0,\"rgb(103,0,31)\"],[0.1,\"rgb(178,24,43)\"],[0.2,\"rgb(214,96,77)\"],[0.3,\"rgb(244,165,130)\"],[0.4,\"rgb(253,219,199)\"],[0.5,\"rgb(247,247,247)\"],[0.6,\"rgb(209,229,240)\"],[0.7,\"rgb(146,197,222)\"],[0.8,\"rgb(67,147,195)\"],[0.9,\"rgb(33,102,172)\"],[1.0,\"rgb(5,48,97)\"]],\"sequential\":[[0.0,\"#440154\"],[0.1111111111111111,\"#482878\"],[0.2222222222222222,\"#3e4989\"],[0.3333333333333333,\"#31688e\"],[0.4444444444444444,\"#26828e\"],[0.5555555555555556,\"#1f9e89\"],[0.6666666666666666,\"#35b779\"],[0.7777777777777778,\"#6ece58\"],[0.8888888888888888,\"#b5de2b\"],[1.0,\"#fde725\"]],\"sequentialminus\":[[0.0,\"#440154\"],[0.1111111111111111,\"#482878\"],[0.2222222222222222,\"#3e4989\"],[0.3333333333333333,\"#31688e\"],[0.4444444444444444,\"#26828e\"],[0.5555555555555556,\"#1f9e89\"],[0.6666666666666666,\"#35b779\"],[0.7777777777777778,\"#6ece58\"],[0.8888888888888888,\"#b5de2b\"],[1.0,\"#fde725\"]]},\"colorway\":[\"#1F77B4\",\"#FF7F0E\",\"#2CA02C\",\"#D62728\",\"#9467BD\",\"#8C564B\",\"#E377C2\",\"#7F7F7F\",\"#BCBD22\",\"#17BECF\"],\"font\":{\"color\":\"rgb(36,36,36)\"},\"geo\":{\"bgcolor\":\"white\",\"lakecolor\":\"white\",\"landcolor\":\"white\",\"showlakes\":true,\"showland\":true,\"subunitcolor\":\"white\"},\"hoverlabel\":{\"align\":\"left\"},\"hovermode\":\"closest\",\"mapbox\":{\"style\":\"light\"},\"paper_bgcolor\":\"white\",\"plot_bgcolor\":\"white\",\"polar\":{\"angularaxis\":{\"gridcolor\":\"rgb(232,232,232)\",\"linecolor\":\"rgb(36,36,36)\",\"showgrid\":false,\"showline\":true,\"ticks\":\"outside\"},\"bgcolor\":\"white\",\"radialaxis\":{\"gridcolor\":\"rgb(232,232,232)\",\"linecolor\":\"rgb(36,36,36)\",\"showgrid\":false,\"showline\":true,\"ticks\":\"outside\"}},\"scene\":{\"xaxis\":{\"backgroundcolor\":\"white\",\"gridcolor\":\"rgb(232,232,232)\",\"gridwidth\":2,\"linecolor\":\"rgb(36,36,36)\",\"showbackground\":true,\"showgrid\":false,\"showline\":true,\"ticks\":\"outside\",\"zeroline\":false,\"zerolinecolor\":\"rgb(36,36,36)\"},\"yaxis\":{\"backgroundcolor\":\"white\",\"gridcolor\":\"rgb(232,232,232)\",\"gridwidth\":2,\"linecolor\":\"rgb(36,36,36)\",\"showbackground\":true,\"showgrid\":false,\"showline\":true,\"ticks\":\"outside\",\"zeroline\":false,\"zerolinecolor\":\"rgb(36,36,36)\"},\"zaxis\":{\"backgroundcolor\":\"white\",\"gridcolor\":\"rgb(232,232,232)\",\"gridwidth\":2,\"linecolor\":\"rgb(36,36,36)\",\"showbackground\":true,\"showgrid\":false,\"showline\":true,\"ticks\":\"outside\",\"zeroline\":false,\"zerolinecolor\":\"rgb(36,36,36)\"}},\"shapedefaults\":{\"fillcolor\":\"black\",\"line\":{\"width\":0},\"opacity\":0.3},\"ternary\":{\"aaxis\":{\"gridcolor\":\"rgb(232,232,232)\",\"linecolor\":\"rgb(36,36,36)\",\"showgrid\":false,\"showline\":true,\"ticks\":\"outside\"},\"baxis\":{\"gridcolor\":\"rgb(232,232,232)\",\"linecolor\":\"rgb(36,36,36)\",\"showgrid\":false,\"showline\":true,\"ticks\":\"outside\"},\"bgcolor\":\"white\",\"caxis\":{\"gridcolor\":\"rgb(232,232,232)\",\"linecolor\":\"rgb(36,36,36)\",\"showgrid\":false,\"showline\":true,\"ticks\":\"outside\"}},\"title\":{\"x\":0.05},\"xaxis\":{\"automargin\":true,\"gridcolor\":\"rgb(232,232,232)\",\"linecolor\":\"rgb(36,36,36)\",\"showgrid\":false,\"showline\":true,\"ticks\":\"outside\",\"title\":{\"standoff\":15},\"zeroline\":false,\"zerolinecolor\":\"rgb(36,36,36)\"},\"yaxis\":{\"automargin\":true,\"gridcolor\":\"rgb(232,232,232)\",\"linecolor\":\"rgb(36,36,36)\",\"showgrid\":false,\"showline\":true,\"ticks\":\"outside\",\"title\":{\"standoff\":15},\"zeroline\":false,\"zerolinecolor\":\"rgb(36,36,36)\"}}},\"title\":{\"font\":{\"size\":22,\"color\":\"Black\"},\"text\":\"\\u003cb\\u003eTopic Probability Distribution\\u003c\\u002fb\\u003e\",\"y\":0.95,\"x\":0.5,\"xanchor\":\"center\",\"yanchor\":\"top\"},\"hoverlabel\":{\"font\":{\"size\":16,\"family\":\"Rockwell\"},\"bgcolor\":\"white\"},\"xaxis\":{\"title\":{\"text\":\"Probability\"}},\"width\":800,\"height\":600},                        {\"responsive\": true}                    ).then(function(){\n",
              "                            \n",
              "var gd = document.getElementById('2669e846-9464-42c3-bd82-525e339a5c2c');\n",
              "var x = new MutationObserver(function (mutations, observer) {{\n",
              "        var display = window.getComputedStyle(gd).display;\n",
              "        if (!display || display === 'none') {{\n",
              "            console.log([gd, 'removed!']);\n",
              "            Plotly.purge(gd);\n",
              "            observer.disconnect();\n",
              "        }}\n",
              "}});\n",
              "\n",
              "// Listen for the removal of the full notebook cells\n",
              "var notebookContainer = gd.closest('#notebook-container');\n",
              "if (notebookContainer) {{\n",
              "    x.observe(notebookContainer, {childList: true});\n",
              "}}\n",
              "\n",
              "// Listen for the clearing of the current output cell\n",
              "var outputEl = gd.closest('.output');\n",
              "if (outputEl) {{\n",
              "    x.observe(outputEl, {childList: true});\n",
              "}}\n",
              "\n",
              "                        })                };                            </script>        </div>\n",
              "</body>\n",
              "</html>"
            ]
          },
          "metadata": {}
        }
      ]
    },
    {
      "cell_type": "code",
      "source": [
        "# Reduce the number of topics\n",
        "topic_model.update_topics(balanced_data['message'].tolist(), topics, n_gram_range=(1, 2))\n",
        "\n",
        "# Visualize the hierarchical reduction of topics\n",
        "hierarchical_fig = topic_model.visualize_hierarchy()\n",
        "hierarchical_fig.show()"
      ],
      "metadata": {
        "colab": {
          "base_uri": "https://localhost:8080/",
          "height": 937
        },
        "id": "ey20PkYw28D4",
        "outputId": "5cd9ff14-b4ae-4d02-9f1f-a48752fdb3da"
      },
      "execution_count": 37,
      "outputs": [
        {
          "output_type": "display_data",
          "data": {
            "text/html": [
              "<html>\n",
              "<head><meta charset=\"utf-8\" /></head>\n",
              "<body>\n",
              "    <div>            <script src=\"https://cdnjs.cloudflare.com/ajax/libs/mathjax/2.7.5/MathJax.js?config=TeX-AMS-MML_SVG\"></script><script type=\"text/javascript\">if (window.MathJax && window.MathJax.Hub && window.MathJax.Hub.Config) {window.MathJax.Hub.Config({SVG: {font: \"STIX-Web\"}});}</script>                <script type=\"text/javascript\">window.PlotlyConfig = {MathJaxConfig: 'local'};</script>\n",
              "        <script charset=\"utf-8\" src=\"https://cdn.plot.ly/plotly-2.24.1.min.js\"></script>                <div id=\"1db6d2d7-e251-441f-9103-5079504dde30\" class=\"plotly-graph-div\" style=\"height:920px; width:1000px;\"></div>            <script type=\"text/javascript\">                                    window.PLOTLYENV=window.PLOTLYENV || {};                                    if (document.getElementById(\"1db6d2d7-e251-441f-9103-5079504dde30\")) {                    Plotly.newPlot(                        \"1db6d2d7-e251-441f-9103-5079504dde30\",                        [{\"hoverinfo\":\"text\",\"marker\":{\"color\":\"rgb(61,153,112)\"},\"mode\":\"lines\",\"x\":[0.0,0.9313275518176785,0.9313275518176785,0.0],\"xaxis\":\"x\",\"y\":[-35.0,-35.0,-45.0,-45.0],\"yaxis\":\"y\",\"type\":\"scatter\"},{\"hoverinfo\":\"text\",\"marker\":{\"color\":\"rgb(61,153,112)\"},\"mode\":\"lines\",\"x\":[0.0,0.9471834552606793,0.9471834552606793,0.9313275518176785],\"xaxis\":\"x\",\"y\":[-25.0,-25.0,-40.0,-40.0],\"yaxis\":\"y\",\"type\":\"scatter\"},{\"hoverinfo\":\"text\",\"marker\":{\"color\":\"rgb(61,153,112)\"},\"mode\":\"lines\",\"x\":[0.0,0.9085395688054222,0.9085395688054222,0.0],\"xaxis\":\"x\",\"y\":[-55.0,-55.0,-65.0,-65.0],\"yaxis\":\"y\",\"type\":\"scatter\"},{\"hoverinfo\":\"text\",\"marker\":{\"color\":\"rgb(61,153,112)\"},\"mode\":\"lines\",\"x\":[0.9471834552606793,0.9645277992327214,0.9645277992327214,0.9085395688054222],\"xaxis\":\"x\",\"y\":[-32.5,-32.5,-60.0,-60.0],\"yaxis\":\"y\",\"type\":\"scatter\"},{\"hoverinfo\":\"text\",\"marker\":{\"color\":\"rgb(61,153,112)\"},\"mode\":\"lines\",\"x\":[0.0,0.9709757745490042,0.9709757745490042,0.9645277992327214],\"xaxis\":\"x\",\"y\":[-15.0,-15.0,-46.25,-46.25],\"yaxis\":\"y\",\"type\":\"scatter\"},{\"hoverinfo\":\"text\",\"marker\":{\"color\":\"rgb(61,153,112)\"},\"mode\":\"lines\",\"x\":[0.9709757745490042,0.980527763011282,0.980527763011282,0.0],\"xaxis\":\"x\",\"y\":[-30.625,-30.625,-75.0,-75.0],\"yaxis\":\"y\",\"type\":\"scatter\"},{\"hoverinfo\":\"text\",\"marker\":{\"color\":\"rgb(61,153,112)\"},\"mode\":\"lines\",\"x\":[0.0,0.9967734107346615,0.9967734107346615,0.980527763011282],\"xaxis\":\"x\",\"y\":[-5.0,-5.0,-52.8125,-52.8125],\"yaxis\":\"y\",\"type\":\"scatter\"},{\"hoverinfo\":\"text\",\"marker\":{\"color\":\"rgb(255,65,54)\"},\"mode\":\"lines\",\"x\":[0.0,0.8966271684442614,0.8966271684442614,0.0],\"xaxis\":\"x\",\"y\":[-95.0,-95.0,-105.0,-105.0],\"yaxis\":\"y\",\"type\":\"scatter\"},{\"hoverinfo\":\"text\",\"marker\":{\"color\":\"rgb(255,65,54)\"},\"mode\":\"lines\",\"x\":[0.0,0.913226568206094,0.913226568206094,0.8966271684442614],\"xaxis\":\"x\",\"y\":[-85.0,-85.0,-100.0,-100.0],\"yaxis\":\"y\",\"type\":\"scatter\"},{\"hoverinfo\":\"text\",\"marker\":{\"color\":\"rgb(0,116,217)\"},\"mode\":\"lines\",\"x\":[0.9967734107346615,1.0115974768921545,1.0115974768921545,0.913226568206094],\"xaxis\":\"x\",\"y\":[-28.90625,-28.90625,-92.5,-92.5],\"yaxis\":\"y\",\"type\":\"scatter\"},{\"hoverinfo\":\"text\",\"marker\":{\"color\":\"rgb(35,205,205)\"},\"mode\":\"lines\",\"x\":[0.0,0.7265697911404794,0.7265697911404794,0.0],\"xaxis\":\"x\",\"y\":[-125.0,-125.0,-135.0,-135.0],\"yaxis\":\"y\",\"type\":\"scatter\"},{\"hoverinfo\":\"text\",\"marker\":{\"color\":\"rgb(35,205,205)\"},\"mode\":\"lines\",\"x\":[0.0,0.8541692407497377,0.8541692407497377,0.7265697911404794],\"xaxis\":\"x\",\"y\":[-115.0,-115.0,-130.0,-130.0],\"yaxis\":\"y\",\"type\":\"scatter\"},{\"hoverinfo\":\"text\",\"marker\":{\"color\":\"rgb(35,205,205)\"},\"mode\":\"lines\",\"x\":[0.8541692407497377,0.8701957516492406,0.8701957516492406,0.0],\"xaxis\":\"x\",\"y\":[-122.5,-122.5,-145.0,-145.0],\"yaxis\":\"y\",\"type\":\"scatter\"},{\"hoverinfo\":\"text\",\"marker\":{\"color\":\"rgb(35,205,205)\"},\"mode\":\"lines\",\"x\":[0.8701957516492406,0.9186489363430982,0.9186489363430982,0.0],\"xaxis\":\"x\",\"y\":[-133.75,-133.75,-155.0,-155.0],\"yaxis\":\"y\",\"type\":\"scatter\"},{\"hoverinfo\":\"text\",\"marker\":{\"color\":\"rgb(0,116,217)\"},\"mode\":\"lines\",\"x\":[1.0115974768921545,1.0337562196952816,1.0337562196952816,0.9186489363430982],\"xaxis\":\"x\",\"y\":[-60.703125,-60.703125,-144.375,-144.375],\"yaxis\":\"y\",\"type\":\"scatter\"},{\"hoverinfo\":\"text\",\"marker\":{\"color\":\"rgb(133,20,75)\"},\"mode\":\"lines\",\"x\":[0.0,0.765172322687421,0.765172322687421,0.0],\"xaxis\":\"x\",\"y\":[-165.0,-165.0,-175.0,-175.0],\"yaxis\":\"y\",\"type\":\"scatter\"},{\"hoverinfo\":\"text\",\"marker\":{\"color\":\"rgb(255,220,0)\"},\"mode\":\"lines\",\"x\":[0.0,0.8347866369596456,0.8347866369596456,0.0],\"xaxis\":\"x\",\"y\":[-185.0,-185.0,-195.0,-195.0],\"yaxis\":\"y\",\"type\":\"scatter\"},{\"hoverinfo\":\"text\",\"marker\":{\"color\":\"rgb(0,116,217)\"},\"mode\":\"lines\",\"x\":[0.765172322687421,1.0259739304025193,1.0259739304025193,0.8347866369596456],\"xaxis\":\"x\",\"y\":[-170.0,-170.0,-190.0,-190.0],\"yaxis\":\"y\",\"type\":\"scatter\"},{\"hoverinfo\":\"text\",\"marker\":{\"color\":\"rgb(40,35,35)\"},\"mode\":\"lines\",\"x\":[0.0,0.9186120515676282,0.9186120515676282,0.0],\"xaxis\":\"x\",\"y\":[-225.0,-225.0,-235.0,-235.0],\"yaxis\":\"y\",\"type\":\"scatter\"},{\"hoverinfo\":\"text\",\"marker\":{\"color\":\"rgb(40,35,35)\"},\"mode\":\"lines\",\"x\":[0.0,0.9388559202620299,0.9388559202620299,0.9186120515676282],\"xaxis\":\"x\",\"y\":[-215.0,-215.0,-230.0,-230.0],\"yaxis\":\"y\",\"type\":\"scatter\"},{\"hoverinfo\":\"text\",\"marker\":{\"color\":\"rgb(40,35,35)\"},\"mode\":\"lines\",\"x\":[0.0,0.9848678241830469,0.9848678241830469,0.9388559202620299],\"xaxis\":\"x\",\"y\":[-205.0,-205.0,-222.5,-222.5],\"yaxis\":\"y\",\"type\":\"scatter\"},{\"hoverinfo\":\"text\",\"marker\":{\"color\":\"rgb(61,153,112)\"},\"mode\":\"lines\",\"x\":[0.0,0.937439642482903,0.937439642482903,0.0],\"xaxis\":\"x\",\"y\":[-245.0,-245.0,-255.0,-255.0],\"yaxis\":\"y\",\"type\":\"scatter\"},{\"hoverinfo\":\"text\",\"marker\":{\"color\":\"rgb(61,153,112)\"},\"mode\":\"lines\",\"x\":[0.0,0.904709891380757,0.904709891380757,0.0],\"xaxis\":\"x\",\"y\":[-265.0,-265.0,-275.0,-275.0],\"yaxis\":\"y\",\"type\":\"scatter\"},{\"hoverinfo\":\"text\",\"marker\":{\"color\":\"rgb(61,153,112)\"},\"mode\":\"lines\",\"x\":[0.904709891380757,0.9413329078706333,0.9413329078706333,0.0],\"xaxis\":\"x\",\"y\":[-270.0,-270.0,-285.0,-285.0],\"yaxis\":\"y\",\"type\":\"scatter\"},{\"hoverinfo\":\"text\",\"marker\":{\"color\":\"rgb(61,153,112)\"},\"mode\":\"lines\",\"x\":[0.937439642482903,0.9525335048794358,0.9525335048794358,0.9413329078706333],\"xaxis\":\"x\",\"y\":[-250.0,-250.0,-277.5,-277.5],\"yaxis\":\"y\",\"type\":\"scatter\"},{\"hoverinfo\":\"text\",\"marker\":{\"color\":\"rgb(0,116,217)\"},\"mode\":\"lines\",\"x\":[0.9848678241830469,1.0022566882719481,1.0022566882719481,0.9525335048794358],\"xaxis\":\"x\",\"y\":[-213.75,-213.75,-263.75,-263.75],\"yaxis\":\"y\",\"type\":\"scatter\"},{\"hoverinfo\":\"text\",\"marker\":{\"color\":\"rgb(255,65,54)\"},\"mode\":\"lines\",\"x\":[0.0,0.9201545975015957,0.9201545975015957,0.0],\"xaxis\":\"x\",\"y\":[-295.0,-295.0,-305.0,-305.0],\"yaxis\":\"y\",\"type\":\"scatter\"},{\"hoverinfo\":\"text\",\"marker\":{\"color\":\"rgb(255,65,54)\"},\"mode\":\"lines\",\"x\":[0.9201545975015957,0.9462831265204698,0.9462831265204698,0.0],\"xaxis\":\"x\",\"y\":[-300.0,-300.0,-315.0,-315.0],\"yaxis\":\"y\",\"type\":\"scatter\"},{\"hoverinfo\":\"text\",\"marker\":{\"color\":\"rgb(255,65,54)\"},\"mode\":\"lines\",\"x\":[0.9462831265204698,0.9680612714697573,0.9680612714697573,0.0],\"xaxis\":\"x\",\"y\":[-307.5,-307.5,-325.0,-325.0],\"yaxis\":\"y\",\"type\":\"scatter\"},{\"hoverinfo\":\"text\",\"marker\":{\"color\":\"rgb(0,116,217)\"},\"mode\":\"lines\",\"x\":[1.0022566882719481,1.0075730822209281,1.0075730822209281,0.9680612714697573],\"xaxis\":\"x\",\"y\":[-238.75,-238.75,-316.25,-316.25],\"yaxis\":\"y\",\"type\":\"scatter\"},{\"hoverinfo\":\"text\",\"marker\":{\"color\":\"rgb(35,205,205)\"},\"mode\":\"lines\",\"x\":[0.0,0.6669738861051927,0.6669738861051927,0.0],\"xaxis\":\"x\",\"y\":[-375.0,-375.0,-385.0,-385.0],\"yaxis\":\"y\",\"type\":\"scatter\"},{\"hoverinfo\":\"text\",\"marker\":{\"color\":\"rgb(35,205,205)\"},\"mode\":\"lines\",\"x\":[0.0,0.7760986132723449,0.7760986132723449,0.6669738861051927],\"xaxis\":\"x\",\"y\":[-365.0,-365.0,-380.0,-380.0],\"yaxis\":\"y\",\"type\":\"scatter\"},{\"hoverinfo\":\"text\",\"marker\":{\"color\":\"rgb(35,205,205)\"},\"mode\":\"lines\",\"x\":[0.7760986132723449,0.8403886677064197,0.8403886677064197,0.0],\"xaxis\":\"x\",\"y\":[-372.5,-372.5,-395.0,-395.0],\"yaxis\":\"y\",\"type\":\"scatter\"},{\"hoverinfo\":\"text\",\"marker\":{\"color\":\"rgb(35,205,205)\"},\"mode\":\"lines\",\"x\":[0.0,0.8722436032009181,0.8722436032009181,0.8403886677064197],\"xaxis\":\"x\",\"y\":[-355.0,-355.0,-383.75,-383.75],\"yaxis\":\"y\",\"type\":\"scatter\"},{\"hoverinfo\":\"text\",\"marker\":{\"color\":\"rgb(35,205,205)\"},\"mode\":\"lines\",\"x\":[0.0,0.886491102347192,0.886491102347192,0.8722436032009181],\"xaxis\":\"x\",\"y\":[-345.0,-345.0,-369.375,-369.375],\"yaxis\":\"y\",\"type\":\"scatter\"},{\"hoverinfo\":\"text\",\"marker\":{\"color\":\"rgb(35,205,205)\"},\"mode\":\"lines\",\"x\":[0.886491102347192,0.919498063469803,0.919498063469803,0.0],\"xaxis\":\"x\",\"y\":[-357.1875,-357.1875,-405.0,-405.0],\"yaxis\":\"y\",\"type\":\"scatter\"},{\"hoverinfo\":\"text\",\"marker\":{\"color\":\"rgb(35,205,205)\"},\"mode\":\"lines\",\"x\":[0.0,0.9298879408353199,0.9298879408353199,0.919498063469803],\"xaxis\":\"x\",\"y\":[-335.0,-335.0,-381.09375,-381.09375],\"yaxis\":\"y\",\"type\":\"scatter\"},{\"hoverinfo\":\"text\",\"marker\":{\"color\":\"rgb(35,205,205)\"},\"mode\":\"lines\",\"x\":[0.0,0.9173743111349016,0.9173743111349016,0.0],\"xaxis\":\"x\",\"y\":[-415.0,-415.0,-425.0,-425.0],\"yaxis\":\"y\",\"type\":\"scatter\"},{\"hoverinfo\":\"text\",\"marker\":{\"color\":\"rgb(35,205,205)\"},\"mode\":\"lines\",\"x\":[0.0,0.8960846234078489,0.8960846234078489,0.0],\"xaxis\":\"x\",\"y\":[-435.0,-435.0,-445.0,-445.0],\"yaxis\":\"y\",\"type\":\"scatter\"},{\"hoverinfo\":\"text\",\"marker\":{\"color\":\"rgb(35,205,205)\"},\"mode\":\"lines\",\"x\":[0.8960846234078489,0.9280359213534815,0.9280359213534815,0.0],\"xaxis\":\"x\",\"y\":[-440.0,-440.0,-455.0,-455.0],\"yaxis\":\"y\",\"type\":\"scatter\"},{\"hoverinfo\":\"text\",\"marker\":{\"color\":\"rgb(35,205,205)\"},\"mode\":\"lines\",\"x\":[0.9173743111349016,0.9466712871748753,0.9466712871748753,0.9280359213534815],\"xaxis\":\"x\",\"y\":[-420.0,-420.0,-447.5,-447.5],\"yaxis\":\"y\",\"type\":\"scatter\"},{\"hoverinfo\":\"text\",\"marker\":{\"color\":\"rgb(35,205,205)\"},\"mode\":\"lines\",\"x\":[0.9298879408353199,0.977310339555465,0.977310339555465,0.9466712871748753],\"xaxis\":\"x\",\"y\":[-358.046875,-358.046875,-433.75,-433.75],\"yaxis\":\"y\",\"type\":\"scatter\"},{\"hoverinfo\":\"text\",\"marker\":{\"color\":\"rgb(0,116,217)\"},\"mode\":\"lines\",\"x\":[1.0075730822209281,1.0405503046388727,1.0405503046388727,0.977310339555465],\"xaxis\":\"x\",\"y\":[-277.5,-277.5,-395.8984375,-395.8984375],\"yaxis\":\"y\",\"type\":\"scatter\"},{\"hoverinfo\":\"text\",\"marker\":{\"color\":\"rgb(61,153,112)\"},\"mode\":\"lines\",\"x\":[0.0,0.8489236521502732,0.8489236521502732,0.0],\"xaxis\":\"x\",\"y\":[-465.0,-465.0,-475.0,-475.0],\"yaxis\":\"y\",\"type\":\"scatter\"},{\"hoverinfo\":\"text\",\"marker\":{\"color\":\"rgb(0,116,217)\"},\"mode\":\"lines\",\"x\":[1.0405503046388727,1.0659395194056829,1.0659395194056829,0.8489236521502732],\"xaxis\":\"x\",\"y\":[-336.69921875,-336.69921875,-470.0,-470.0],\"yaxis\":\"y\",\"type\":\"scatter\"},{\"hoverinfo\":\"text\",\"marker\":{\"color\":\"rgb(0,116,217)\"},\"mode\":\"lines\",\"x\":[1.0259739304025193,1.1283026377432013,1.1283026377432013,1.0659395194056829],\"xaxis\":\"x\",\"y\":[-180.0,-180.0,-403.349609375,-403.349609375],\"yaxis\":\"y\",\"type\":\"scatter\"},{\"hoverinfo\":\"text\",\"marker\":{\"color\":\"rgb(0,116,217)\"},\"mode\":\"lines\",\"x\":[1.0337562196952816,1.2511230219879899,1.2511230219879899,1.1283026377432013],\"xaxis\":\"x\",\"y\":[-102.5390625,-102.5390625,-291.6748046875,-291.6748046875],\"yaxis\":\"y\",\"type\":\"scatter\"}],                        {\"autosize\":false,\"height\":920,\"hovermode\":\"closest\",\"showlegend\":false,\"width\":1000,\"xaxis\":{\"mirror\":\"allticks\",\"rangemode\":\"tozero\",\"showgrid\":false,\"showline\":true,\"showticklabels\":true,\"ticks\":\"outside\",\"type\":\"linear\",\"zeroline\":false},\"yaxis\":{\"mirror\":\"allticks\",\"rangemode\":\"tozero\",\"showgrid\":false,\"showline\":true,\"showticklabels\":true,\"tickmode\":\"array\",\"ticks\":\"outside\",\"ticktext\":[\"26_ko_rss_enna\",\"43_weather channel_channel_...\",\"44_scam_warming scam_warmin...\",\"12_gore_al gore_al\",\"4_pruitt_scott pruitt_scott\",\"13_made global_fiction_man ...\",\"34_data_manipulated_warming...\",\"39_penguin_club penguin_club\",\"27_sea_sea level_oceans\",\"20_arctic_the arctic_ice\",\"36_antarctica_ice_antarctic\",\"15_study_global_global warm...\",\"2_global_global warming_war...\",\"8_it_rt it_outside\",\"10_warming_global warming_g...\",\"41_the global_nuclear weapo...\",\"31_paris_countries_agreement\",\"47_paris_paris climate_the ...\",\"30_china_rare move_move china\",\"19_chinese_hoax_china\",\"45_bears_polar bears_polar\",\"46_extinct due_wildlife_ani...\",\"21_food security_and food_f...\",\"37_eating_meat_consumption\",\"24_india_modi_pm\",\"14_pope_pope francis_francis\",\"11_oil_companies_exxon\",\"25_cities_city_states\",\"32_kids_children_court\",\"42_story_judith schwartz_wa...\",\"35_scientists_research on_h...\",\"38_about_information about_...\",\"40_reef_great barrier_barrier\",\"23_hillary_clinton_her\",\"9_conservatives_liberals_re...\",\"7_amp_turnbull_rt\",\"5_carbon_money_the\",\"0_climate_change_climate ch...\",\"1_trump_rt trump_to\",\"3_obama_executive_executive...\",\"6_dicaprio_leonardo dicapri...\",\"18_california_brown_that ca...\",\"29_hurricanes_hurricane_hur...\",\"17_terrorism_islam_islamic\",\"28_religion_god_religious\",\"16_women_gender_self\",\"22_elect_elect who_have pre...\",\"33_she_your husband_because...\"],\"tickvals\":[-5.0,-15.0,-25.0,-35.0,-45.0,-55.0,-65.0,-75.0,-85.0,-95.0,-105.0,-115.0,-125.0,-135.0,-145.0,-155.0,-165.0,-175.0,-185.0,-195.0,-205.0,-215.0,-225.0,-235.0,-245.0,-255.0,-265.0,-275.0,-285.0,-295.0,-305.0,-315.0,-325.0,-335.0,-345.0,-355.0,-365.0,-375.0,-385.0,-395.0,-405.0,-415.0,-425.0,-435.0,-445.0,-455.0,-465.0,-475.0],\"type\":\"linear\",\"zeroline\":false,\"range\":[-480.0,0.0]},\"template\":{\"data\":{\"barpolar\":[{\"marker\":{\"line\":{\"color\":\"white\",\"width\":0.5},\"pattern\":{\"fillmode\":\"overlay\",\"size\":10,\"solidity\":0.2}},\"type\":\"barpolar\"}],\"bar\":[{\"error_x\":{\"color\":\"#2a3f5f\"},\"error_y\":{\"color\":\"#2a3f5f\"},\"marker\":{\"line\":{\"color\":\"white\",\"width\":0.5},\"pattern\":{\"fillmode\":\"overlay\",\"size\":10,\"solidity\":0.2}},\"type\":\"bar\"}],\"carpet\":[{\"aaxis\":{\"endlinecolor\":\"#2a3f5f\",\"gridcolor\":\"#C8D4E3\",\"linecolor\":\"#C8D4E3\",\"minorgridcolor\":\"#C8D4E3\",\"startlinecolor\":\"#2a3f5f\"},\"baxis\":{\"endlinecolor\":\"#2a3f5f\",\"gridcolor\":\"#C8D4E3\",\"linecolor\":\"#C8D4E3\",\"minorgridcolor\":\"#C8D4E3\",\"startlinecolor\":\"#2a3f5f\"},\"type\":\"carpet\"}],\"choropleth\":[{\"colorbar\":{\"outlinewidth\":0,\"ticks\":\"\"},\"type\":\"choropleth\"}],\"contourcarpet\":[{\"colorbar\":{\"outlinewidth\":0,\"ticks\":\"\"},\"type\":\"contourcarpet\"}],\"contour\":[{\"colorbar\":{\"outlinewidth\":0,\"ticks\":\"\"},\"colorscale\":[[0.0,\"#0d0887\"],[0.1111111111111111,\"#46039f\"],[0.2222222222222222,\"#7201a8\"],[0.3333333333333333,\"#9c179e\"],[0.4444444444444444,\"#bd3786\"],[0.5555555555555556,\"#d8576b\"],[0.6666666666666666,\"#ed7953\"],[0.7777777777777778,\"#fb9f3a\"],[0.8888888888888888,\"#fdca26\"],[1.0,\"#f0f921\"]],\"type\":\"contour\"}],\"heatmapgl\":[{\"colorbar\":{\"outlinewidth\":0,\"ticks\":\"\"},\"colorscale\":[[0.0,\"#0d0887\"],[0.1111111111111111,\"#46039f\"],[0.2222222222222222,\"#7201a8\"],[0.3333333333333333,\"#9c179e\"],[0.4444444444444444,\"#bd3786\"],[0.5555555555555556,\"#d8576b\"],[0.6666666666666666,\"#ed7953\"],[0.7777777777777778,\"#fb9f3a\"],[0.8888888888888888,\"#fdca26\"],[1.0,\"#f0f921\"]],\"type\":\"heatmapgl\"}],\"heatmap\":[{\"colorbar\":{\"outlinewidth\":0,\"ticks\":\"\"},\"colorscale\":[[0.0,\"#0d0887\"],[0.1111111111111111,\"#46039f\"],[0.2222222222222222,\"#7201a8\"],[0.3333333333333333,\"#9c179e\"],[0.4444444444444444,\"#bd3786\"],[0.5555555555555556,\"#d8576b\"],[0.6666666666666666,\"#ed7953\"],[0.7777777777777778,\"#fb9f3a\"],[0.8888888888888888,\"#fdca26\"],[1.0,\"#f0f921\"]],\"type\":\"heatmap\"}],\"histogram2dcontour\":[{\"colorbar\":{\"outlinewidth\":0,\"ticks\":\"\"},\"colorscale\":[[0.0,\"#0d0887\"],[0.1111111111111111,\"#46039f\"],[0.2222222222222222,\"#7201a8\"],[0.3333333333333333,\"#9c179e\"],[0.4444444444444444,\"#bd3786\"],[0.5555555555555556,\"#d8576b\"],[0.6666666666666666,\"#ed7953\"],[0.7777777777777778,\"#fb9f3a\"],[0.8888888888888888,\"#fdca26\"],[1.0,\"#f0f921\"]],\"type\":\"histogram2dcontour\"}],\"histogram2d\":[{\"colorbar\":{\"outlinewidth\":0,\"ticks\":\"\"},\"colorscale\":[[0.0,\"#0d0887\"],[0.1111111111111111,\"#46039f\"],[0.2222222222222222,\"#7201a8\"],[0.3333333333333333,\"#9c179e\"],[0.4444444444444444,\"#bd3786\"],[0.5555555555555556,\"#d8576b\"],[0.6666666666666666,\"#ed7953\"],[0.7777777777777778,\"#fb9f3a\"],[0.8888888888888888,\"#fdca26\"],[1.0,\"#f0f921\"]],\"type\":\"histogram2d\"}],\"histogram\":[{\"marker\":{\"pattern\":{\"fillmode\":\"overlay\",\"size\":10,\"solidity\":0.2}},\"type\":\"histogram\"}],\"mesh3d\":[{\"colorbar\":{\"outlinewidth\":0,\"ticks\":\"\"},\"type\":\"mesh3d\"}],\"parcoords\":[{\"line\":{\"colorbar\":{\"outlinewidth\":0,\"ticks\":\"\"}},\"type\":\"parcoords\"}],\"pie\":[{\"automargin\":true,\"type\":\"pie\"}],\"scatter3d\":[{\"line\":{\"colorbar\":{\"outlinewidth\":0,\"ticks\":\"\"}},\"marker\":{\"colorbar\":{\"outlinewidth\":0,\"ticks\":\"\"}},\"type\":\"scatter3d\"}],\"scattercarpet\":[{\"marker\":{\"colorbar\":{\"outlinewidth\":0,\"ticks\":\"\"}},\"type\":\"scattercarpet\"}],\"scattergeo\":[{\"marker\":{\"colorbar\":{\"outlinewidth\":0,\"ticks\":\"\"}},\"type\":\"scattergeo\"}],\"scattergl\":[{\"marker\":{\"colorbar\":{\"outlinewidth\":0,\"ticks\":\"\"}},\"type\":\"scattergl\"}],\"scattermapbox\":[{\"marker\":{\"colorbar\":{\"outlinewidth\":0,\"ticks\":\"\"}},\"type\":\"scattermapbox\"}],\"scatterpolargl\":[{\"marker\":{\"colorbar\":{\"outlinewidth\":0,\"ticks\":\"\"}},\"type\":\"scatterpolargl\"}],\"scatterpolar\":[{\"marker\":{\"colorbar\":{\"outlinewidth\":0,\"ticks\":\"\"}},\"type\":\"scatterpolar\"}],\"scatter\":[{\"fillpattern\":{\"fillmode\":\"overlay\",\"size\":10,\"solidity\":0.2},\"type\":\"scatter\"}],\"scatterternary\":[{\"marker\":{\"colorbar\":{\"outlinewidth\":0,\"ticks\":\"\"}},\"type\":\"scatterternary\"}],\"surface\":[{\"colorbar\":{\"outlinewidth\":0,\"ticks\":\"\"},\"colorscale\":[[0.0,\"#0d0887\"],[0.1111111111111111,\"#46039f\"],[0.2222222222222222,\"#7201a8\"],[0.3333333333333333,\"#9c179e\"],[0.4444444444444444,\"#bd3786\"],[0.5555555555555556,\"#d8576b\"],[0.6666666666666666,\"#ed7953\"],[0.7777777777777778,\"#fb9f3a\"],[0.8888888888888888,\"#fdca26\"],[1.0,\"#f0f921\"]],\"type\":\"surface\"}],\"table\":[{\"cells\":{\"fill\":{\"color\":\"#EBF0F8\"},\"line\":{\"color\":\"white\"}},\"header\":{\"fill\":{\"color\":\"#C8D4E3\"},\"line\":{\"color\":\"white\"}},\"type\":\"table\"}]},\"layout\":{\"annotationdefaults\":{\"arrowcolor\":\"#2a3f5f\",\"arrowhead\":0,\"arrowwidth\":1},\"autotypenumbers\":\"strict\",\"coloraxis\":{\"colorbar\":{\"outlinewidth\":0,\"ticks\":\"\"}},\"colorscale\":{\"diverging\":[[0,\"#8e0152\"],[0.1,\"#c51b7d\"],[0.2,\"#de77ae\"],[0.3,\"#f1b6da\"],[0.4,\"#fde0ef\"],[0.5,\"#f7f7f7\"],[0.6,\"#e6f5d0\"],[0.7,\"#b8e186\"],[0.8,\"#7fbc41\"],[0.9,\"#4d9221\"],[1,\"#276419\"]],\"sequential\":[[0.0,\"#0d0887\"],[0.1111111111111111,\"#46039f\"],[0.2222222222222222,\"#7201a8\"],[0.3333333333333333,\"#9c179e\"],[0.4444444444444444,\"#bd3786\"],[0.5555555555555556,\"#d8576b\"],[0.6666666666666666,\"#ed7953\"],[0.7777777777777778,\"#fb9f3a\"],[0.8888888888888888,\"#fdca26\"],[1.0,\"#f0f921\"]],\"sequentialminus\":[[0.0,\"#0d0887\"],[0.1111111111111111,\"#46039f\"],[0.2222222222222222,\"#7201a8\"],[0.3333333333333333,\"#9c179e\"],[0.4444444444444444,\"#bd3786\"],[0.5555555555555556,\"#d8576b\"],[0.6666666666666666,\"#ed7953\"],[0.7777777777777778,\"#fb9f3a\"],[0.8888888888888888,\"#fdca26\"],[1.0,\"#f0f921\"]]},\"colorway\":[\"#636efa\",\"#EF553B\",\"#00cc96\",\"#ab63fa\",\"#FFA15A\",\"#19d3f3\",\"#FF6692\",\"#B6E880\",\"#FF97FF\",\"#FECB52\"],\"font\":{\"color\":\"#2a3f5f\"},\"geo\":{\"bgcolor\":\"white\",\"lakecolor\":\"white\",\"landcolor\":\"white\",\"showlakes\":true,\"showland\":true,\"subunitcolor\":\"#C8D4E3\"},\"hoverlabel\":{\"align\":\"left\"},\"hovermode\":\"closest\",\"mapbox\":{\"style\":\"light\"},\"paper_bgcolor\":\"white\",\"plot_bgcolor\":\"white\",\"polar\":{\"angularaxis\":{\"gridcolor\":\"#EBF0F8\",\"linecolor\":\"#EBF0F8\",\"ticks\":\"\"},\"bgcolor\":\"white\",\"radialaxis\":{\"gridcolor\":\"#EBF0F8\",\"linecolor\":\"#EBF0F8\",\"ticks\":\"\"}},\"scene\":{\"xaxis\":{\"backgroundcolor\":\"white\",\"gridcolor\":\"#DFE8F3\",\"gridwidth\":2,\"linecolor\":\"#EBF0F8\",\"showbackground\":true,\"ticks\":\"\",\"zerolinecolor\":\"#EBF0F8\"},\"yaxis\":{\"backgroundcolor\":\"white\",\"gridcolor\":\"#DFE8F3\",\"gridwidth\":2,\"linecolor\":\"#EBF0F8\",\"showbackground\":true,\"ticks\":\"\",\"zerolinecolor\":\"#EBF0F8\"},\"zaxis\":{\"backgroundcolor\":\"white\",\"gridcolor\":\"#DFE8F3\",\"gridwidth\":2,\"linecolor\":\"#EBF0F8\",\"showbackground\":true,\"ticks\":\"\",\"zerolinecolor\":\"#EBF0F8\"}},\"shapedefaults\":{\"line\":{\"color\":\"#2a3f5f\"}},\"ternary\":{\"aaxis\":{\"gridcolor\":\"#DFE8F3\",\"linecolor\":\"#A2B1C6\",\"ticks\":\"\"},\"baxis\":{\"gridcolor\":\"#DFE8F3\",\"linecolor\":\"#A2B1C6\",\"ticks\":\"\"},\"bgcolor\":\"white\",\"caxis\":{\"gridcolor\":\"#DFE8F3\",\"linecolor\":\"#A2B1C6\",\"ticks\":\"\"}},\"title\":{\"x\":0.05},\"xaxis\":{\"automargin\":true,\"gridcolor\":\"#EBF0F8\",\"linecolor\":\"#EBF0F8\",\"ticks\":\"\",\"title\":{\"standoff\":15},\"zerolinecolor\":\"#EBF0F8\",\"zerolinewidth\":2},\"yaxis\":{\"automargin\":true,\"gridcolor\":\"#EBF0F8\",\"linecolor\":\"#EBF0F8\",\"ticks\":\"\",\"title\":{\"standoff\":15},\"zerolinecolor\":\"#EBF0F8\",\"zerolinewidth\":2}}},\"title\":{\"font\":{\"size\":22,\"color\":\"Black\"},\"text\":\"\\u003cb\\u003eHierarchical Clustering\\u003c\\u002fb\\u003e\",\"x\":0.5,\"xanchor\":\"center\",\"yanchor\":\"top\"},\"hoverlabel\":{\"font\":{\"size\":16,\"family\":\"Rockwell\"},\"bgcolor\":\"white\"},\"plot_bgcolor\":\"#ECEFF1\"},                        {\"responsive\": true}                    ).then(function(){\n",
              "                            \n",
              "var gd = document.getElementById('1db6d2d7-e251-441f-9103-5079504dde30');\n",
              "var x = new MutationObserver(function (mutations, observer) {{\n",
              "        var display = window.getComputedStyle(gd).display;\n",
              "        if (!display || display === 'none') {{\n",
              "            console.log([gd, 'removed!']);\n",
              "            Plotly.purge(gd);\n",
              "            observer.disconnect();\n",
              "        }}\n",
              "}});\n",
              "\n",
              "// Listen for the removal of the full notebook cells\n",
              "var notebookContainer = gd.closest('#notebook-container');\n",
              "if (notebookContainer) {{\n",
              "    x.observe(notebookContainer, {childList: true});\n",
              "}}\n",
              "\n",
              "// Listen for the clearing of the current output cell\n",
              "var outputEl = gd.closest('.output');\n",
              "if (outputEl) {{\n",
              "    x.observe(outputEl, {childList: true});\n",
              "}}\n",
              "\n",
              "                        })                };                            </script>        </div>\n",
              "</body>\n",
              "</html>"
            ]
          },
          "metadata": {}
        }
      ]
    },
    {
      "cell_type": "code",
      "source": [
        "# Visualize the similarity between topics\n",
        "similarity_fig = topic_model.visualize_heatmap()\n",
        "similarity_fig.show()"
      ],
      "metadata": {
        "colab": {
          "base_uri": "https://localhost:8080/",
          "height": 817
        },
        "id": "7dPIsHfI3iS6",
        "outputId": "70c365fb-47ff-4a28-d780-86786e570b0d"
      },
      "execution_count": 38,
      "outputs": [
        {
          "output_type": "display_data",
          "data": {
            "text/html": [
              "<html>\n",
              "<head><meta charset=\"utf-8\" /></head>\n",
              "<body>\n",
              "    <div>            <script src=\"https://cdnjs.cloudflare.com/ajax/libs/mathjax/2.7.5/MathJax.js?config=TeX-AMS-MML_SVG\"></script><script type=\"text/javascript\">if (window.MathJax && window.MathJax.Hub && window.MathJax.Hub.Config) {window.MathJax.Hub.Config({SVG: {font: \"STIX-Web\"}});}</script>                <script type=\"text/javascript\">window.PlotlyConfig = {MathJaxConfig: 'local'};</script>\n",
              "        <script charset=\"utf-8\" src=\"https://cdn.plot.ly/plotly-2.24.1.min.js\"></script>                <div id=\"78bc3263-6005-4216-b989-c59fe43a5631\" class=\"plotly-graph-div\" style=\"height:800px; width:800px;\"></div>            <script type=\"text/javascript\">                                    window.PLOTLYENV=window.PLOTLYENV || {};                                    if (document.getElementById(\"78bc3263-6005-4216-b989-c59fe43a5631\")) {                    Plotly.newPlot(                        \"78bc3263-6005-4216-b989-c59fe43a5631\",                        [{\"coloraxis\":\"coloraxis\",\"name\":\"0\",\"x\":[\"0_climate_change_climate ch...\",\"1_trump_rt trump_to\",\"2_global_global warming_war...\",\"3_obama_executive_executive...\",\"4_pruitt_scott pruitt_scott\",\"5_carbon_money_the\",\"6_dicaprio_leonardo dicapri...\",\"7_amp_turnbull_rt\",\"8_it_rt it_outside\",\"9_conservatives_liberals_re...\",\"10_warming_global warming_g...\",\"11_oil_companies_exxon\",\"12_gore_al gore_al\",\"13_made global_fiction_man ...\",\"14_pope_pope francis_francis\",\"15_study_global_global warm...\",\"16_women_gender_self\",\"17_terrorism_islam_islamic\",\"18_california_brown_that ca...\",\"19_chinese_hoax_china\",\"20_arctic_the arctic_ice\",\"21_food security_and food_f...\",\"22_elect_elect who_have pre...\",\"23_hillary_clinton_her\",\"24_india_modi_pm\",\"25_cities_city_states\",\"26_ko_rss_enna\",\"27_sea_sea level_oceans\",\"28_religion_god_religious\",\"29_hurricanes_hurricane_hur...\",\"30_china_rare move_move china\",\"31_paris_countries_agreement\",\"32_kids_children_court\",\"33_she_your husband_because...\",\"34_data_manipulated_warming...\",\"35_scientists_research on_h...\",\"36_antarctica_ice_antarctic\",\"37_eating_meat_consumption\",\"38_about_information about_...\",\"39_penguin_club penguin_club\",\"40_reef_great barrier_barrier\",\"41_the global_nuclear weapo...\",\"42_story_judith schwartz_wa...\",\"43_weather channel_channel_...\",\"44_scam_warming scam_warmin...\",\"45_bears_polar bears_polar\",\"46_extinct due_wildlife_ani...\",\"47_paris_paris climate_the ...\"],\"y\":[\"0_climate_change_climate ch...\",\"1_trump_rt trump_to\",\"2_global_global warming_war...\",\"3_obama_executive_executive...\",\"4_pruitt_scott pruitt_scott\",\"5_carbon_money_the\",\"6_dicaprio_leonardo dicapri...\",\"7_amp_turnbull_rt\",\"8_it_rt it_outside\",\"9_conservatives_liberals_re...\",\"10_warming_global warming_g...\",\"11_oil_companies_exxon\",\"12_gore_al gore_al\",\"13_made global_fiction_man ...\",\"14_pope_pope francis_francis\",\"15_study_global_global warm...\",\"16_women_gender_self\",\"17_terrorism_islam_islamic\",\"18_california_brown_that ca...\",\"19_chinese_hoax_china\",\"20_arctic_the arctic_ice\",\"21_food security_and food_f...\",\"22_elect_elect who_have pre...\",\"23_hillary_clinton_her\",\"24_india_modi_pm\",\"25_cities_city_states\",\"26_ko_rss_enna\",\"27_sea_sea level_oceans\",\"28_religion_god_religious\",\"29_hurricanes_hurricane_hur...\",\"30_china_rare move_move china\",\"31_paris_countries_agreement\",\"32_kids_children_court\",\"33_she_your husband_because...\",\"34_data_manipulated_warming...\",\"35_scientists_research on_h...\",\"36_antarctica_ice_antarctic\",\"37_eating_meat_consumption\",\"38_about_information about_...\",\"39_penguin_club penguin_club\",\"40_reef_great barrier_barrier\",\"41_the global_nuclear weapo...\",\"42_story_judith schwartz_wa...\",\"43_weather channel_channel_...\",\"44_scam_warming scam_warmin...\",\"45_bears_polar bears_polar\",\"46_extinct due_wildlife_ani...\",\"47_paris_paris climate_the ...\"],\"z\":[[0.9999999999999992,0.8296944876333368,0.7804345956618931,0.6825056964797974,0.5687081873545534,0.8866764476952942,0.5774150988908184,0.8715044780678332,0.7316381811861331,0.7096776942386571,0.6514373078800408,0.5114107514981282,0.5374753071139448,0.7370601870258697,0.39293524973832,0.6937533860036699,0.6068086421136504,0.5653625660290188,0.599817009806364,0.5704940400614329,0.5361266075975017,0.5408881578207602,0.5935363933584562,0.570995872918478,0.5633247455330528,0.6269079363112696,0.6921233986976761,0.6224715068939972,0.6303408950446772,0.5904631981404282,0.6182714879871739,0.5787523164486585,0.5906089561647272,0.6294717182886312,0.6056727977587849,0.4922177895619774,0.49194919903626705,0.6869709974738752,0.6996494452979188,0.6450610125558024,0.5600120434777125,0.6339910756962548,0.5840593948070795,0.5350144182284468,0.6938367273519133,0.5034550384629052,0.6272373911000548,0.6005581166103086],[0.8296944876333368,1.0000000000000007,0.683837769222733,0.8332909521310337,0.5854824366182523,0.7885004427722508,0.6030570532551979,0.8200485935981158,0.6374623667456059,0.7691455147777517,0.6045719426748103,0.5578000501325816,0.5963141626586465,0.653615332210755,0.5141398759431465,0.62865508842267,0.5561327520322172,0.5697152322559017,0.5928022072096503,0.6387451875353206,0.4950539244872548,0.5107703473530294,0.7342255762956895,0.7210473874172033,0.5541712207235583,0.5795169277374029,0.6587204573043397,0.5929022005371345,0.6400108353573588,0.5703019675198843,0.6748522505269408,0.6073268349106133,0.5913324935965116,0.6436480703518099,0.5865933739803098,0.47406765847836246,0.45927975606293275,0.6358654016253914,0.6409434638446061,0.5785176556920932,0.5048808880948904,0.5910869223987434,0.5750825909011062,0.5700191963743911,0.6064081519565475,0.5020991953590868,0.5741756640983708,0.6410720262592423],[0.7804345956618931,0.683837769222733,1.0000000000000007,0.5869896269599053,0.5715622364340897,0.7619127333763805,0.4953829959177393,0.7412855225489884,0.8497647688440728,0.6462238188900225,0.8342219942054714,0.5176903416932274,0.5675682909574854,0.7899751851346748,0.4172769118439109,0.8425069725025961,0.5256160304381228,0.4718010530524985,0.5378425755415295,0.4895907289718269,0.6569033741646237,0.5649378346224213,0.4873539569205909,0.47707316181684545,0.46143094797015993,0.540373415729853,0.7014672004334428,0.5982306197466821,0.5904172603586345,0.5924271584355462,0.5231623534007784,0.5479461800317462,0.4876308137339188,0.5323581839699802,0.5828878449023861,0.5046026133368766,0.6014097169723057,0.6158026615337799,0.6418327207557457,0.6284128764141699,0.5400608686001996,0.6136906218552916,0.5190942019568779,0.5237755492679638,0.7624394062545076,0.5813657062382267,0.5726252439108485,0.5179140271552619],[0.6825056964797974,0.8332909521310337,0.5869896269599053,1.0000000000000002,0.5732134243882563,0.6954377387970182,0.5583858418299684,0.7202938845884043,0.5379663317566413,0.7156134860990199,0.5654156588892646,0.5425059089156394,0.6559898899375491,0.5687019232148844,0.5120969908564152,0.5594952862092856,0.5259694001581501,0.5342661068007984,0.5772158273664523,0.5610564248170352,0.4454269455705085,0.4899877714202701,0.785442042620438,0.6967312096455623,0.5233506592082179,0.5100282380820735,0.581910875007148,0.5284988710746401,0.5708023031459406,0.5079589392286964,0.6224874687519281,0.5616940711526529,0.5437463875414491,0.5622509097152267,0.5637391850073887,0.4444526026241438,0.46545694441105995,0.5732844295448798,0.5477075425474278,0.5033359491231646,0.4378627402787018,0.5296564009256273,0.5325713593439366,0.5543445340566607,0.5288130766680781,0.46802844487082224,0.5265139321363776,0.58722210842849],[0.5687081873545534,0.5854824366182523,0.5715622364340897,0.5732134243882563,0.9999999999999989,0.6331301928153311,0.4984263005299849,0.6084413522955217,0.5307416904037663,0.5601397829967939,0.5618136924031905,0.543378620319599,0.5414355904222888,0.5563870199416475,0.4701631600537767,0.5243602781547587,0.43561556607007096,0.40457181300303413,0.5189505561379314,0.4448225803848445,0.4835416311476026,0.44780017147210166,0.5143173597844314,0.48571237266840295,0.40474977725996664,0.44253335877173583,0.6037943732613494,0.4878476982467999,0.4745954640778842,0.48923750863928794,0.475709470532683,0.4929153119559162,0.4693675447954986,0.4671789921405256,0.491596953680899,0.43105492520846417,0.5315806106395842,0.5490720691782767,0.4801303925580168,0.5707967185183576,0.4857218447670003,0.5006557574374015,0.46967889757429515,0.5161677378928734,0.5137279492321843,0.5332892762352085,0.5198797026339217,0.4912468374958733],[0.8866764476952942,0.7885004427722508,0.7619127333763805,0.6954377387970182,0.6331301928153311,1.0000000000000007,0.5702414755242443,0.8314376399684584,0.7097940259427474,0.7083223876766807,0.6839224584333713,0.5740273245256692,0.5519210617652904,0.7365152886012363,0.4388446052077193,0.6932989070508664,0.6136682618998157,0.5666394923984345,0.6093607495544395,0.5716589594344262,0.5156466362129051,0.6172729752145043,0.6017438518899058,0.6068354203176605,0.5428760821051242,0.6315826450503433,0.6920507535418753,0.6322933123124688,0.6429156973650076,0.5737724144467804,0.5935598418694676,0.5841449739173928,0.6109103874745543,0.6372973123287663,0.5940733153557,0.52669660557659,0.4980188725066613,0.7560017898537851,0.6483176486318467,0.6048107200883744,0.5768058882528213,0.65066529359942,0.5460562988407481,0.525942973740829,0.6704907149301658,0.5213879257135604,0.6408154645389271,0.6128012749972191],[0.5774150988908184,0.6030570532551979,0.4953829959177393,0.5583858418299684,0.4984263005299849,0.5702414755242443,1.0000000000000007,0.5840344996914808,0.4923122806413399,0.45689468555611895,0.5827454852871352,0.4682941831767952,0.4844646450884963,0.5979497142183021,0.5306669664324549,0.5108943491164987,0.4984575279565588,0.4265759932793806,0.4905316268793885,0.5111219140845052,0.36250091248194144,0.3881390033780534,0.5349067755965784,0.4828953764388054,0.43542407420701296,0.4678547659761659,0.5779063270848892,0.5445739257577868,0.5180582353926656,0.4413086117576414,0.5312833959380302,0.505705107676049,0.5040501635616873,0.5282276669102443,0.49025298566675474,0.47905732570042414,0.4170309158762436,0.538103906246679,0.5419171678287598,0.5746885471455893,0.48851161513896985,0.5213422908636809,0.606389630931905,0.5601222859622569,0.4534968472481754,0.4552122618926734,0.5281871130795761,0.49930666231624776],[0.8715044780678332,0.8200485935981158,0.7412855225489884,0.7202938845884043,0.6084413522955217,0.8314376399684584,0.5840344996914808,0.9999999999999996,0.6713066443747515,0.7159057325167595,0.6498668872238416,0.5323579093529351,0.5935340290323823,0.7032707304399287,0.46377895333478575,0.6884264055677926,0.5982040169763403,0.5805808945254665,0.6537318069747837,0.5721822233269371,0.549316956500215,0.5315301741928162,0.6324306149131845,0.6107432668387719,0.6305251427863231,0.6309816275036164,0.6984907410658378,0.6431019314465274,0.6366723680893871,0.6168438323851022,0.6157182359873561,0.5794398232267682,0.6021379347174264,0.6227564074543434,0.6033588686067022,0.49143184526645883,0.5448481142740141,0.6511720582400863,0.7009859423183525,0.6389064775531766,0.565178470582324,0.619687635833496,0.6380813992684662,0.600087185991402,0.6670118714507768,0.5266060306043554,0.6256306219545392,0.5907022966517104],[0.7316381811861331,0.6374623667456059,0.8497647688440728,0.5379663317566413,0.5307416904037663,0.7097940259427474,0.4923122806413399,0.6713066443747515,1.0000000000000002,0.5556982555770844,0.70959433000379,0.49753712829807784,0.4772979171367046,0.6638729704241139,0.3824118038013523,0.7203638412942535,0.49263957351974136,0.43262289888747046,0.5562665001226549,0.461089942751571,0.6255671163379969,0.5356229339809228,0.4294712430468157,0.4612166317348598,0.46367131770874565,0.5254155500917536,0.6654009655636443,0.5646476159206423,0.5351775904590232,0.5534166146900577,0.5370083708268643,0.5229442770225446,0.4869834276119216,0.5582651333473577,0.4626668005345677,0.42969892232311296,0.6147838851307437,0.5939253561456364,0.5923666409409681,0.6153365648909318,0.5443384476345537,0.5422135679632674,0.5032220812392946,0.5180991550684038,0.6428034183191531,0.539293325181508,0.5467538079285145,0.517520917722005],[0.7096776942386571,0.7691455147777517,0.6462238188900225,0.7156134860990199,0.5601397829967939,0.7083223876766807,0.45689468555611895,0.7159057325167595,0.5556982555770844,0.9999999999999998,0.6038260685591361,0.5527483373220441,0.5576607132191167,0.6028801811997578,0.4445197471277181,0.5921116865505888,0.6146278969444118,0.6206967770762706,0.6094511434663838,0.6024665221228432,0.49733989111750954,0.5059552807487092,0.6369120928150409,0.6507151229314199,0.5378972197593825,0.5518907271900961,0.5966925915069757,0.5388505304311507,0.6630056659266139,0.5174334613250324,0.5743268897928697,0.541434303863379,0.5685328615238517,0.5314453395967131,0.5506168159936664,0.4921089992645441,0.44138375796015833,0.5694334150219663,0.5702000007748118,0.5532439852197025,0.48573771730380744,0.5552551723300582,0.5161490579903686,0.5125202107315883,0.574167831881436,0.5211969033128494,0.5181332522493968,0.5509872185442286],[0.6514373078800408,0.6045719426748103,0.8342219942054714,0.5654156588892646,0.5618136924031905,0.6839224584333713,0.5827454852871352,0.6498668872238416,0.70959433000379,0.6038260685591361,0.9999999999999999,0.5018924492707866,0.5586319170286087,0.7518455539730364,0.4739817804052549,0.7723525092856461,0.5292521777637721,0.49627310207930037,0.4924157338622747,0.5115940066592537,0.5801225231141341,0.5313002385497609,0.4949564249957095,0.4969055414563226,0.44059534119634314,0.49964935244053915,0.6522859637543084,0.5964794740407021,0.619190246790247,0.5486364142999588,0.5140617735618026,0.5318582287304717,0.4380448589815013,0.521441173859391,0.5844477790218209,0.6446894686476689,0.5516234842982884,0.5582227295308674,0.6019633185908967,0.5981537722553404,0.5269724233714086,0.628963557850859,0.5751200615126709,0.5441074451320629,0.6714834486947103,0.5498622158069001,0.5560009349567255,0.47714711450719355],[0.5114107514981282,0.5578000501325816,0.5176903416932274,0.5425059089156394,0.543378620319599,0.5740273245256692,0.4682941831767952,0.5323579093529351,0.49753712829807784,0.5527483373220441,0.5018924492707866,0.9999999999999996,0.4876488544978965,0.586573167603231,0.45129992592334517,0.5078478505261946,0.4751572147229139,0.46677831626510663,0.5264246044934389,0.5116213117701841,0.4499916770987715,0.5049381855134165,0.4991823799827056,0.48938378890737544,0.5102565302546143,0.6280514451966588,0.5489011001017031,0.50983847135664,0.49070192911047256,0.4680034078595867,0.5717234739073219,0.5409781885664543,0.456022459616161,0.40538382040080573,0.48511965882783664,0.40586324861598444,0.3927119652099873,0.5087059394830897,0.44957336437573164,0.47957261967340653,0.48323456208052806,0.5148079860907384,0.44610121873440095,0.5101879253839123,0.5373101883302653,0.49545114697646625,0.42165297869833845,0.5436315030005191],[0.5374753071139448,0.5963141626586465,0.5675682909574854,0.6559898899375491,0.5414355904222888,0.5519210617652904,0.4844646450884963,0.5935340290323823,0.4772979171367046,0.5576607132191167,0.5586319170286087,0.4876488544978965,1.0000000000000002,0.5542426920233021,0.46714763444482293,0.5154913242400166,0.39960276657736743,0.487463709485746,0.4610633993656551,0.40853733773072615,0.4264523394199863,0.38048743937268253,0.593134150900532,0.5408499257869861,0.34589281198918265,0.41905952732709695,0.5251943179244412,0.4596680347470346,0.4849291391138786,0.49633549369477054,0.40000009622302374,0.395884591869314,0.3887459056469411,0.4264364828594878,0.5110482588840187,0.41308662137135665,0.39178964318285997,0.46171708438938447,0.43596170601850764,0.4236697739625476,0.37797164343910516,0.442373825106769,0.4200532390643372,0.5178991988130471,0.5047711219049517,0.48284024776161705,0.49342780719868634,0.4237356402412225],[0.7370601870258697,0.653615332210755,0.7899751851346748,0.5687019232148844,0.5563870199416475,0.7365152886012363,0.5979497142183021,0.7032707304399287,0.6638729704241139,0.6028801811997578,0.7518455539730364,0.586573167603231,0.5542426920233021,1.0,0.4385002575298633,0.7562344353699396,0.6196907749147554,0.5167409465856668,0.5522002805997372,0.6250723551848045,0.5557221924214125,0.5715442035714475,0.5572267496415766,0.48880225454698933,0.5004527800943762,0.5853024547644035,0.6291104969406012,0.6072667956823141,0.6574256255164574,0.5220951580029943,0.5587055029703059,0.5405584677191752,0.5315870876111766,0.5616463489566197,0.6644502928282505,0.5258680899552972,0.5295137154928898,0.6345850504258141,0.6845585249825503,0.6148794168341777,0.5621070768177281,0.6434780513188307,0.6249194575341025,0.5329227088661276,0.7104665606282032,0.5271523198695551,0.5825562169294651,0.5032747544885552],[0.39293524973832,0.5141398759431465,0.4172769118439109,0.5120969908564152,0.4701631600537767,0.4388446052077193,0.5306669664324549,0.46377895333478575,0.3824118038013523,0.4445197471277181,0.4739817804052549,0.45129992592334517,0.46714763444482293,0.4385002575298633,1.0000000000000004,0.3969822992042261,0.33810730644471426,0.4251547596150602,0.3838420972852988,0.41384869995253304,0.37117601936172673,0.3251684979182139,0.5138832266429357,0.4536721329919762,0.3607594985761119,0.41200173257617967,0.44817639984489355,0.3899213451288605,0.5360600104278705,0.4255414558641089,0.43675087012544866,0.5205734368317313,0.32648684810522594,0.35367157505386315,0.3877503544359587,0.4024262950032216,0.4089761626167976,0.38668161496839937,0.32441010880647203,0.47908980851729105,0.3857832265893405,0.379362074699557,0.38456807587735303,0.5147046790163807,0.34290725833296515,0.4125265936171612,0.4062155003588819,0.510582060798022],[0.6937533860036699,0.62865508842267,0.8425069725025961,0.5594952862092856,0.5243602781547587,0.6932989070508664,0.5108943491164987,0.6884264055677926,0.7203638412942535,0.5921116865505888,0.7723525092856461,0.5078478505261946,0.5154913242400166,0.7562344353699396,0.3969822992042261,0.9999999999999997,0.5230936663899363,0.5127372701705528,0.5108303885662355,0.5028552957356968,0.5616022645982363,0.5413737550104808,0.4891863304984009,0.4908378146416733,0.44624263345767906,0.5460586322057612,0.6463599588562722,0.567155148118487,0.6003469992780124,0.5568264059396864,0.5681217441406905,0.5260583324606047,0.5540669400638509,0.520676153391726,0.5836968724348681,0.5204842666596389,0.5457821332110631,0.5915163112930162,0.6895013908429568,0.5993711529268059,0.5340410697619332,0.6581185876564775,0.6125266152850228,0.43564655958385623,0.7240010702656562,0.49541462217510696,0.575736078318159,0.4996368214419087],[0.6068086421136504,0.5561327520322172,0.5256160304381228,0.5259694001581501,0.43561556607007096,0.6136682618998157,0.4984575279565588,0.5982040169763403,0.49263957351974136,0.6146278969444118,0.5292521777637721,0.4751572147229139,0.39960276657736743,0.6196907749147554,0.33810730644471426,0.5230936663899363,1.0000000000000009,0.5206169252919929,0.5127340756920223,0.5216708015383311,0.43464357885187976,0.4927967336956251,0.4791462741489486,0.600980206550433,0.48149169366967554,0.4998863983450975,0.5560878960687686,0.5399955882918818,0.5513412429323128,0.44053788538722066,0.4627422001789522,0.4743916745941242,0.4991402013335887,0.6141862053528531,0.49994744052541196,0.4918677691648561,0.3906499695757009,0.5680935021622876,0.5550520827282122,0.5252068010651605,0.43879466193090755,0.5292196802914803,0.5298792641616514,0.43073949803406564,0.4484408492233041,0.4558669435045082,0.4793377285461203,0.4377445881502947],[0.5653625660290188,0.5697152322559017,0.4718010530524985,0.5342661068007984,0.40457181300303413,0.5666394923984345,0.4265759932793806,0.5805808945254665,0.43262289888747046,0.6206967770762706,0.49627310207930037,0.46677831626510663,0.487463709485746,0.5167409465856668,0.4251547596150602,0.5127372701705528,0.5206169252919929,0.9999999999999999,0.4524851882844224,0.5338750167829598,0.35560318108823974,0.5235774350297293,0.46470776219372195,0.5402083923534299,0.493158226424887,0.5029531204192514,0.5303765623966192,0.5301949233313629,0.6701850393973302,0.47595736414976686,0.5288715471613579,0.41866805956044034,0.518747182644302,0.49356535283104386,0.5062761215075072,0.3288102945096854,0.3153337106316112,0.5669938601777443,0.5108330021712385,0.48435880287360106,0.438408562427799,0.6482384751599761,0.505295228906412,0.4310075974046643,0.47984851669470413,0.3582335743102877,0.5131851110970864,0.3938599853099012],[0.599817009806364,0.5928022072096503,0.5378425755415295,0.5772158273664523,0.5189505561379314,0.6093607495544395,0.4905316268793885,0.6537318069747837,0.5562665001226549,0.6094511434663838,0.4924157338622747,0.5264246044934389,0.4610633993656551,0.5522002805997372,0.3838420972852988,0.5108303885662355,0.5127340756920223,0.4524851882844224,1.0000000000000009,0.5367852125943946,0.47116197977362934,0.44711937795799434,0.5292905779925324,0.5191826781095185,0.49551697482354407,0.6566481197636741,0.6126152643473509,0.5512469082404873,0.5205496833777754,0.5319135373194422,0.5756428950279598,0.5247759976893197,0.5169767374139786,0.5080252780839531,0.4608728388624278,0.4041674262035035,0.46006637882620244,0.524618255401673,0.5165074582456635,0.5314225782357654,0.5448373096717198,0.5020036638211174,0.5840990917336142,0.5588853495574516,0.4937079288650413,0.4747327422912929,0.4887032864093648,0.5600141918797107],[0.5704940400614329,0.6387451875353206,0.4895907289718269,0.5610564248170352,0.4448225803848445,0.5716589594344262,0.5111219140845052,0.5721822233269371,0.461089942751571,0.6024665221228432,0.5115940066592537,0.5116213117701841,0.40853733773072615,0.6250723551848045,0.41384869995253304,0.5028552957356968,0.5216708015383311,0.5338750167829598,0.5367852125943946,0.9999999999999992,0.43556295072484685,0.4075578321433165,0.5450935136580638,0.5490462392057363,0.5470495842369334,0.4873836741435339,0.5664489195406273,0.533465702666553,0.5689159876656606,0.40178157412284504,0.7121821874471669,0.5056412768297418,0.4731018241708694,0.5309263857730349,0.5350643314291836,0.413669371561067,0.4666397113540633,0.49874568888748333,0.4956584655359169,0.5235924522865533,0.47672701283188856,0.5391727666882042,0.550677642327127,0.4843199149594172,0.5278432193843268,0.4434776456313997,0.4993597356071511,0.47996673003821644],[0.5361266075975017,0.4950539244872548,0.6569033741646237,0.4454269455705085,0.4835416311476026,0.5156466362129051,0.36250091248194144,0.549316956500215,0.6255671163379969,0.49733989111750954,0.5801225231141341,0.4499916770987715,0.4264523394199863,0.5557221924214125,0.37117601936172673,0.5616022645982363,0.43464357885187976,0.35560318108823974,0.47116197977362934,0.43556295072484685,0.9999999999999996,0.4352620190601911,0.364971967587418,0.370841351060133,0.367347757203679,0.42499744772487663,0.5624144933524183,0.5928125374012634,0.427969553693437,0.5017879557088009,0.44818153588968673,0.4847317024528627,0.3462493775657693,0.3599897144020788,0.41590084683779227,0.38867478695313706,0.7885489227093246,0.44923246479307677,0.4752174563801943,0.5238650457101501,0.43759176489445234,0.48274762485823697,0.4296454529457404,0.38473282886147975,0.5316759987754668,0.6458417627782544,0.47751458461907204,0.4528809824463013],[0.5408881578207602,0.5107703473530294,0.5649378346224213,0.4899877714202701,0.44780017147210166,0.6172729752145043,0.3881390033780534,0.5315301741928162,0.5356229339809228,0.5059552807487092,0.5313002385497609,0.5049381855134165,0.38048743937268253,0.5715442035714475,0.3251684979182139,0.5413737550104808,0.4927967336956251,0.5235774350297293,0.44711937795799434,0.4075578321433165,0.4352620190601911,1.0000000000000007,0.4067778183111224,0.4092661866579186,0.41233804764812176,0.503251326753098,0.5264989664789563,0.47555969638535217,0.5404581889204765,0.4253266691186438,0.45386202322971564,0.42053324750923665,0.48518834812203554,0.3757713139832005,0.44215448685856035,0.45010015463689435,0.38749572328915793,0.7716736207291277,0.4861093568704076,0.4148640676152634,0.47118088885657167,0.5643932763464573,0.42597198806902253,0.4148375819365585,0.5322675112378459,0.4351470104286098,0.5635504912592956,0.35976170342846037],[0.5935363933584562,0.7342255762956895,0.4873539569205909,0.785442042620438,0.5143173597844314,0.6017438518899058,0.5349067755965784,0.6324306149131845,0.4294712430468157,0.6369120928150409,0.4949564249957095,0.4991823799827056,0.593134150900532,0.5572267496415766,0.5138832266429357,0.4891863304984009,0.4791462741489486,0.46470776219372195,0.5292905779925324,0.5450935136580638,0.364971967587418,0.4067778183111224,1.0000000000000004,0.6630211136005459,0.48131069973890994,0.4955911000626054,0.5273557903236052,0.4662310519542858,0.5405624224799531,0.4471160789447052,0.5842691308282131,0.46743613659341765,0.5263725472962304,0.5308476742193133,0.535402222416186,0.43952835882136976,0.37578684324339545,0.5106585563400708,0.5064831685576539,0.47132030748617604,0.38148665699051254,0.4893572513824363,0.5422782080962769,0.4688015763478522,0.5042518299134731,0.4363860398179233,0.47932691090214885,0.4756111301748008],[0.570995872918478,0.7210473874172033,0.47707316181684545,0.6967312096455623,0.48571237266840295,0.6068354203176605,0.4828953764388054,0.6107432668387719,0.4612166317348598,0.6507151229314199,0.4969055414563226,0.48938378890737544,0.5408499257869861,0.48880225454698933,0.4536721329919762,0.4908378146416733,0.600980206550433,0.5402083923534299,0.5191826781095185,0.5490462392057363,0.370841351060133,0.4092661866579186,0.6630211136005459,1.0,0.45177055473865274,0.4463165969529862,0.5416301196398117,0.5056257335706823,0.555338996210735,0.44932803978651903,0.5378477182097547,0.46468264077560983,0.49115285104723655,0.7088382004882829,0.48955327944152194,0.3848223307026396,0.33474249731931766,0.5358846416168633,0.473089978899306,0.4821463079909737,0.4701457754372585,0.5033114800227271,0.5364834064904936,0.4708403281788959,0.4694135277817469,0.4365701343948852,0.4812241215025576,0.4902330262085611],[0.5633247455330528,0.5541712207235583,0.46143094797015993,0.5233506592082179,0.40474977725996664,0.5428760821051242,0.43542407420701296,0.6305251427863231,0.46367131770874565,0.5378972197593825,0.44059534119634314,0.5102565302546143,0.34589281198918265,0.5004527800943762,0.3607594985761119,0.44624263345767906,0.48149169366967554,0.493158226424887,0.49551697482354407,0.5470495842369334,0.367347757203679,0.41233804764812176,0.48131069973890994,0.45177055473865274,1.0000000000000004,0.5391322566332704,0.5912445047288034,0.48890618222381677,0.5053206760500895,0.38968627561529656,0.5723738671594445,0.5124378817687356,0.4460042529586514,0.4317767584922972,0.4254667134517074,0.30893953262160617,0.3771143586556355,0.45473957260946135,0.494119652324597,0.4772273667689394,0.397806493828454,0.4496441605430468,0.43829647775877445,0.41517505997361487,0.45273370825632236,0.3723090535378245,0.46289953044064847,0.4840664707095791],[0.6269079363112696,0.5795169277374029,0.540373415729853,0.5100282380820735,0.44253335877173583,0.6315826450503433,0.4678547659761659,0.6309816275036164,0.5254155500917536,0.5518907271900961,0.49964935244053915,0.6280514451966588,0.41905952732709695,0.5853024547644035,0.41200173257617967,0.5460586322057612,0.4998863983450975,0.5029531204192514,0.6566481197636741,0.4873836741435339,0.42499744772487663,0.503251326753098,0.4955911000626054,0.4463165969529862,0.5391322566332704,0.9999999999999998,0.6032734877685422,0.5337861448004922,0.5081010813521648,0.5596534380806255,0.6123792806109654,0.6280604737636871,0.5213731981773823,0.42743439525075533,0.5009382230786172,0.39438213151892815,0.4121084850919572,0.5162900282781283,0.5199356378284098,0.5036976937719388,0.48241397133697994,0.5361255581794295,0.47635664416236634,0.4762624146911444,0.48178965311563254,0.3898926843974542,0.4848024583636629,0.6079987687044667],[0.6921233986976761,0.6587204573043397,0.7014672004334428,0.581910875007148,0.6037943732613494,0.6920507535418753,0.5779063270848892,0.6984907410658378,0.6654009655636443,0.5966925915069757,0.6522859637543084,0.5489011001017031,0.5251943179244412,0.6291104969406012,0.44817639984489355,0.6463599588562722,0.5560878960687686,0.5303765623966192,0.6126152643473509,0.5664489195406273,0.5624144933524183,0.5264989664789563,0.5273557903236052,0.5416301196398117,0.5912445047288034,0.6032734877685422,1.0000000000000002,0.6407914795567801,0.5717778315140277,0.5676872432458551,0.574189748920822,0.5527803586921654,0.534737561349372,0.5880195205745936,0.5601116668694368,0.44164880537991064,0.5149937466131136,0.6105106945517053,0.5914575412240053,0.6335658301835451,0.5181991460893879,0.6119853837481286,0.5799071104451625,0.5607428242921639,0.6063541714406938,0.5459687518028513,0.5559730690757336,0.5861436325052793],[0.6224715068939972,0.5929022005371345,0.5982306197466821,0.5284988710746401,0.4878476982467999,0.6322933123124688,0.5445739257577868,0.6431019314465274,0.5646476159206423,0.5388505304311507,0.5964794740407021,0.50983847135664,0.4596680347470346,0.6072667956823141,0.3899213451288605,0.567155148118487,0.5399955882918818,0.5301949233313629,0.5512469082404873,0.533465702666553,0.5928125374012634,0.47555969638535217,0.4662310519542858,0.5056257335706823,0.48890618222381677,0.5337861448004922,0.6407914795567801,0.9999999999999996,0.5636223145565499,0.5541892285916399,0.5532434312277744,0.4922103953531034,0.4945104412952676,0.49885756572591905,0.4934496173753241,0.39875386387633743,0.5507499910410412,0.5484422623962623,0.5405205638085369,0.5885312407042194,0.6139150513681144,0.5949346413472923,0.5315826451152929,0.46904768698681487,0.5535590186744603,0.45624934584856164,0.5814278486529337,0.45485228078133777],[0.6303408950446772,0.6400108353573588,0.5904172603586345,0.5708023031459406,0.4745954640778842,0.6429156973650076,0.5180582353926656,0.6366723680893871,0.5351775904590232,0.6630056659266139,0.619190246790247,0.49070192911047256,0.4849291391138786,0.6574256255164574,0.5360600104278705,0.6003469992780124,0.5513412429323128,0.6701850393973302,0.5205496833777754,0.5689159876656606,0.427969553693437,0.5404581889204765,0.5405624224799531,0.555338996210735,0.5053206760500895,0.5081010813521648,0.5717778315140277,0.5636223145565499,0.9999999999999994,0.5063902874668955,0.5240273161770409,0.4653660611320893,0.5534646692536995,0.5852246780752342,0.49909806034530196,0.4905309275100587,0.4115617847794515,0.6027426826555045,0.554948309822214,0.5636118094181254,0.4571242177477611,0.6215430247793613,0.5866217546082908,0.5047348508630687,0.5396236009958393,0.49713094721712525,0.5215053009882938,0.4392429814173302],[0.5904631981404282,0.5703019675198843,0.5924271584355462,0.5079589392286964,0.48923750863928794,0.5737724144467804,0.4413086117576414,0.6168438323851022,0.5534166146900577,0.5174334613250324,0.5486364142999588,0.4680034078595867,0.49633549369477054,0.5220951580029943,0.4255414558641089,0.5568264059396864,0.44053788538722066,0.47595736414976686,0.5319135373194422,0.40178157412284504,0.5017879557088009,0.4253266691186438,0.4471160789447052,0.44932803978651903,0.38968627561529656,0.5596534380806255,0.5676872432458551,0.5541892285916399,0.5063902874668955,0.9999999999999998,0.4370569551568594,0.4173051454863755,0.428625570012455,0.44159955250598765,0.4311541598437008,0.4121341980793027,0.4814193917465676,0.4972062766622246,0.5207687198912628,0.5043688354021493,0.4278979309680703,0.48675839566764545,0.48523929397912946,0.5519423432196722,0.5181437052817462,0.4914149862492556,0.5152393841866936,0.41912196820443154],[0.6182714879871739,0.6748522505269408,0.5231623534007784,0.6224874687519281,0.475709470532683,0.5935598418694676,0.5312833959380302,0.6157182359873561,0.5370083708268643,0.5743268897928697,0.5140617735618026,0.5717234739073219,0.40000009622302374,0.5587055029703059,0.43675087012544866,0.5681217441406905,0.4627422001789522,0.5288715471613579,0.5756428950279598,0.7121821874471669,0.44818153588968673,0.45386202322971564,0.5842691308282131,0.5378477182097547,0.5723738671594445,0.6123792806109654,0.574189748920822,0.5532434312277744,0.5240273161770409,0.4370569551568594,0.9999999999999998,0.5786742298892411,0.507580187401346,0.5179086627372776,0.5263695948321139,0.3349950507901819,0.5084843198666974,0.5158588285841684,0.5556132971958793,0.5774122032445687,0.5283352542943811,0.6027961959994367,0.5553612824536784,0.41624296766325747,0.52508221441673,0.4583080452207541,0.5648869191504646,0.5696658913200116],[0.5787523164486585,0.6073268349106133,0.5479461800317462,0.5616940711526529,0.4929153119559162,0.5841449739173928,0.505705107676049,0.5794398232267682,0.5229442770225446,0.541434303863379,0.5318582287304717,0.5409781885664543,0.395884591869314,0.5405584677191752,0.5205734368317313,0.5260583324606047,0.4743916745941242,0.41866805956044034,0.5247759976893197,0.5056412768297418,0.4847317024528627,0.42053324750923665,0.46743613659341765,0.46468264077560983,0.5124378817687356,0.6280604737636871,0.5527803586921654,0.4922103953531034,0.4653660611320893,0.4173051454863755,0.5786742298892411,0.9999999999999998,0.431969556718602,0.39581879701535244,0.4914866128104688,0.39852834259772235,0.5023200724493841,0.44437411833379975,0.48020940414419533,0.48232128487448567,0.45854035062416326,0.5054912382223866,0.4714472400604594,0.4553851516853642,0.4712842638805405,0.3955366427696522,0.4514779062769378,0.8874825478509328],[0.5906089561647272,0.5913324935965116,0.4876308137339188,0.5437463875414491,0.4693675447954986,0.6109103874745543,0.5040501635616873,0.6021379347174264,0.4869834276119216,0.5685328615238517,0.4380448589815013,0.456022459616161,0.3887459056469411,0.5315870876111766,0.32648684810522594,0.5540669400638509,0.4991402013335887,0.518747182644302,0.5169767374139786,0.4731018241708694,0.3462493775657693,0.48518834812203554,0.5263725472962304,0.49115285104723655,0.4460042529586514,0.5213731981773823,0.534737561349372,0.4945104412952676,0.5534646692536995,0.428625570012455,0.507580187401346,0.431969556718602,1.0000000000000004,0.5108696549516084,0.5045168290562284,0.3873516968603156,0.36776554100031567,0.5513272225318484,0.5203356175251439,0.5272582676227905,0.43830346039704277,0.5696033420049244,0.5354255765382006,0.37996379623771775,0.4919976078504156,0.4515520963475133,0.4987456675719191,0.4298812092785679],[0.6294717182886312,0.6436480703518099,0.5323581839699802,0.5622509097152267,0.4671789921405256,0.6372973123287663,0.5282276669102443,0.6227564074543434,0.5582651333473577,0.5314453395967131,0.521441173859391,0.40538382040080573,0.4264364828594878,0.5616463489566197,0.35367157505386315,0.520676153391726,0.6141862053528531,0.49356535283104386,0.5080252780839531,0.5309263857730349,0.3599897144020788,0.3757713139832005,0.5308476742193133,0.7088382004882829,0.4317767584922972,0.42743439525075533,0.5880195205745936,0.49885756572591905,0.5852246780752342,0.44159955250598765,0.5179086627372776,0.39581879701535244,0.5108696549516084,0.9999999999999998,0.45574601419655614,0.3704174190116575,0.3713124652701699,0.5860756263451196,0.5370854898349288,0.5579996095120154,0.4634924042158417,0.5457651451371424,0.5930456385230809,0.4568728237306534,0.4772163227024821,0.41745239942870016,0.4720167954626978,0.4197723040340151],[0.6056727977587849,0.5865933739803098,0.5828878449023861,0.5637391850073887,0.491596953680899,0.5940733153557,0.49025298566675474,0.6033588686067022,0.4626668005345677,0.5506168159936664,0.5844477790218209,0.48511965882783664,0.5110482588840187,0.6644502928282505,0.3877503544359587,0.5836968724348681,0.49994744052541196,0.5062761215075072,0.4608728388624278,0.5350643314291836,0.41590084683779227,0.44215448685856035,0.535402222416186,0.48955327944152194,0.4254667134517074,0.5009382230786172,0.5601116668694368,0.4934496173753241,0.49909806034530196,0.4311541598437008,0.5263695948321139,0.4914866128104688,0.5045168290562284,0.45574601419655614,1.0000000000000009,0.4663795377335732,0.41548637814165557,0.4791252190377848,0.5776792537252181,0.46544649547855993,0.42478347394247334,0.5274711347580757,0.5139205837194459,0.46887574964953344,0.5702348922747675,0.40998768325708534,0.486149961502538,0.44069000160730887],[0.4922177895619774,0.47406765847836246,0.5046026133368766,0.4444526026241438,0.43105492520846417,0.52669660557659,0.47905732570042414,0.49143184526645883,0.42969892232311296,0.4921089992645441,0.6446894686476689,0.40586324861598444,0.41308662137135665,0.5258680899552972,0.4024262950032216,0.5204842666596389,0.4918677691648561,0.3288102945096854,0.4041674262035035,0.413669371561067,0.38867478695313706,0.45010015463689435,0.43952835882136976,0.3848223307026396,0.30893953262160617,0.39438213151892815,0.44164880537991064,0.39875386387633743,0.4905309275100587,0.4121341980793027,0.3349950507901819,0.39852834259772235,0.3873516968603156,0.3704174190116575,0.4663795377335732,1.0000000000000007,0.41529793849247265,0.43303520328562867,0.528786679571789,0.37653162614779845,0.367810821453027,0.45746069165345676,0.4388389771897079,0.46435047647742794,0.414700095719626,0.42769802278444696,0.48283706258620135,0.33963175301548726],[0.49194919903626705,0.45927975606293275,0.6014097169723057,0.46545694441105995,0.5315806106395842,0.4980188725066613,0.4170309158762436,0.5448481142740141,0.6147838851307437,0.44138375796015833,0.5516234842982884,0.3927119652099873,0.39178964318285997,0.5295137154928898,0.4089761626167976,0.5457821332110631,0.3906499695757009,0.3153337106316112,0.46006637882620244,0.4666397113540633,0.7885489227093246,0.38749572328915793,0.37578684324339545,0.33474249731931766,0.3771143586556355,0.4121084850919572,0.5149937466131136,0.5507499910410412,0.4115617847794515,0.4814193917465676,0.5084843198666974,0.5023200724493841,0.36776554100031567,0.3713124652701699,0.41548637814165557,0.41529793849247265,0.9999999999999993,0.4435509719501774,0.46566416982207903,0.5396022505037017,0.45475579794827886,0.455180232252111,0.4235556480174165,0.37386249528083126,0.5056033352709989,0.5434932658250037,0.4432453915890402,0.4785301669123753],[0.6869709974738752,0.6358654016253914,0.6158026615337799,0.5732844295448798,0.5490720691782767,0.7560017898537851,0.538103906246679,0.6511720582400863,0.5939253561456364,0.5694334150219663,0.5582227295308674,0.5087059394830897,0.46171708438938447,0.6345850504258141,0.38668161496839937,0.5915163112930162,0.5680935021622876,0.5669938601777443,0.524618255401673,0.49874568888748333,0.44923246479307677,0.7716736207291277,0.5106585563400708,0.5358846416168633,0.45473957260946135,0.5162900282781283,0.6105106945517053,0.5484422623962623,0.6027426826555045,0.4972062766622246,0.5158588285841684,0.44437411833379975,0.5513272225318484,0.5860756263451196,0.4791252190377848,0.43303520328562867,0.4435509719501774,0.9999999999999996,0.5767986453268231,0.5734005734690543,0.5159536167811603,0.6220683790240229,0.519308287826209,0.4339965738612139,0.5418802288114899,0.48041135374345034,0.6090323188117414,0.44568175372111546],[0.6996494452979188,0.6409434638446061,0.6418327207557457,0.5477075425474278,0.4801303925580168,0.6483176486318467,0.5419171678287598,0.7009859423183525,0.5923666409409681,0.5702000007748118,0.6019633185908967,0.44957336437573164,0.43596170601850764,0.6845585249825503,0.32441010880647203,0.6895013908429568,0.5550520827282122,0.5108330021712385,0.5165074582456635,0.4956584655359169,0.4752174563801943,0.4861093568704076,0.5064831685576539,0.473089978899306,0.494119652324597,0.5199356378284098,0.5914575412240053,0.5405205638085369,0.554948309822214,0.5207687198912628,0.5556132971958793,0.48020940414419533,0.5203356175251439,0.5370854898349288,0.5776792537252181,0.528786679571789,0.46566416982207903,0.5767986453268231,1.0000000000000009,0.5753477567734752,0.5152064885026316,0.6148517095268404,0.6448045319324297,0.5013366598449716,0.598771273757447,0.4429847189173611,0.5571946144643567,0.47658014423047435],[0.6450610125558024,0.5785176556920932,0.6284128764141699,0.5033359491231646,0.5707967185183576,0.6048107200883744,0.5746885471455893,0.6389064775531766,0.6153365648909318,0.5532439852197025,0.5981537722553404,0.47957261967340653,0.4236697739625476,0.6148794168341777,0.47908980851729105,0.5993711529268059,0.5252068010651605,0.48435880287360106,0.5314225782357654,0.5235924522865533,0.5238650457101501,0.4148640676152634,0.47132030748617604,0.4821463079909737,0.4772273667689394,0.5036976937719388,0.6335658301835451,0.5885312407042194,0.5636118094181254,0.5043688354021493,0.5774122032445687,0.48232128487448567,0.5272582676227905,0.5579996095120154,0.46544649547855993,0.37653162614779845,0.5396022505037017,0.5734005734690543,0.5753477567734752,1.0000000000000002,0.5396193947855972,0.5551299433379957,0.5439482379955705,0.5251061829504428,0.5521989189737203,0.5574060328714638,0.5625085609096673,0.49337109187604683],[0.5600120434777125,0.5048808880948904,0.5400608686001996,0.4378627402787018,0.4857218447670003,0.5768058882528213,0.48851161513896985,0.565178470582324,0.5443384476345537,0.48573771730380744,0.5269724233714086,0.48323456208052806,0.37797164343910516,0.5621070768177281,0.3857832265893405,0.5340410697619332,0.43879466193090755,0.438408562427799,0.5448373096717198,0.47672701283188856,0.43759176489445234,0.47118088885657167,0.38148665699051254,0.4701457754372585,0.397806493828454,0.48241397133697994,0.5181991460893879,0.6139150513681144,0.4571242177477611,0.4278979309680703,0.5283352542943811,0.45854035062416326,0.43830346039704277,0.4634924042158417,0.42478347394247334,0.367810821453027,0.45475579794827886,0.5159536167811603,0.5152064885026316,0.5396193947855972,1.0000000000000004,0.5368390487452912,0.4733364750716388,0.45103855045721325,0.4862994080787159,0.4306121213296012,0.5854278118289812,0.4665269225994953],[0.6339910756962548,0.5910869223987434,0.6136906218552916,0.5296564009256273,0.5006557574374015,0.65066529359942,0.5213422908636809,0.619687635833496,0.5422135679632674,0.5552551723300582,0.628963557850859,0.5148079860907384,0.442373825106769,0.6434780513188307,0.379362074699557,0.6581185876564775,0.5292196802914803,0.6482384751599761,0.5020036638211174,0.5391727666882042,0.48274762485823697,0.5643932763464573,0.4893572513824363,0.5033114800227271,0.4496441605430468,0.5361255581794295,0.6119853837481286,0.5949346413472923,0.6215430247793613,0.48675839566764545,0.6027961959994367,0.5054912382223866,0.5696033420049244,0.5457651451371424,0.5274711347580757,0.45746069165345676,0.455180232252111,0.6220683790240229,0.6148517095268404,0.5551299433379957,0.5368390487452912,1.0,0.5572875749931702,0.4044406156826935,0.5339149799042079,0.5297055079447619,0.5388998233985235,0.4445915963546315],[0.5840593948070795,0.5750825909011062,0.5190942019568779,0.5325713593439366,0.46967889757429515,0.5460562988407481,0.606389630931905,0.6380813992684662,0.5032220812392946,0.5161490579903686,0.5751200615126709,0.44610121873440095,0.4200532390643372,0.6249194575341025,0.38456807587735303,0.6125266152850228,0.5298792641616514,0.505295228906412,0.5840990917336142,0.550677642327127,0.4296454529457404,0.42597198806902253,0.5422782080962769,0.5364834064904936,0.43829647775877445,0.47635664416236634,0.5799071104451625,0.5315826451152929,0.5866217546082908,0.48523929397912946,0.5553612824536784,0.4714472400604594,0.5354255765382006,0.5930456385230809,0.5139205837194459,0.4388389771897079,0.4235556480174165,0.519308287826209,0.6448045319324297,0.5439482379955705,0.4733364750716388,0.5572875749931702,1.0000000000000009,0.5592092561805777,0.5418859259965506,0.43577917513531284,0.49912198007629965,0.46787760651622934],[0.5350144182284468,0.5700191963743911,0.5237755492679638,0.5543445340566607,0.5161677378928734,0.525942973740829,0.5601222859622569,0.600087185991402,0.5180991550684038,0.5125202107315883,0.5441074451320629,0.5101879253839123,0.5178991988130471,0.5329227088661276,0.5147046790163807,0.43564655958385623,0.43073949803406564,0.4310075974046643,0.5588853495574516,0.4843199149594172,0.38473282886147975,0.4148375819365585,0.4688015763478522,0.4708403281788959,0.41517505997361487,0.4762624146911444,0.5607428242921639,0.46904768698681487,0.5047348508630687,0.5519423432196722,0.41624296766325747,0.4553851516853642,0.37996379623771775,0.4568728237306534,0.46887574964953344,0.46435047647742794,0.37386249528083126,0.4339965738612139,0.5013366598449716,0.5251061829504428,0.45103855045721325,0.4044406156826935,0.5592092561805777,0.9999999999999992,0.5116281765393003,0.4102016351811809,0.4096474976223981,0.46376383148647293],[0.6938367273519133,0.6064081519565475,0.7624394062545076,0.5288130766680781,0.5137279492321843,0.6704907149301658,0.4534968472481754,0.6670118714507768,0.6428034183191531,0.574167831881436,0.6714834486947103,0.5373101883302653,0.5047711219049517,0.7104665606282032,0.34290725833296515,0.7240010702656562,0.4484408492233041,0.47984851669470413,0.4937079288650413,0.5278432193843268,0.5316759987754668,0.5322675112378459,0.5042518299134731,0.4694135277817469,0.45273370825632236,0.48178965311563254,0.6063541714406938,0.5535590186744603,0.5396236009958393,0.5181437052817462,0.52508221441673,0.4712842638805405,0.4919976078504156,0.4772163227024821,0.5702348922747675,0.414700095719626,0.5056033352709989,0.5418802288114899,0.598771273757447,0.5521989189737203,0.4862994080787159,0.5339149799042079,0.5418859259965506,0.5116281765393003,1.0000000000000002,0.46975249623916004,0.5242459696420586,0.47940718530115195],[0.5034550384629052,0.5020991953590868,0.5813657062382267,0.46802844487082224,0.5332892762352085,0.5213879257135604,0.4552122618926734,0.5266060306043554,0.539293325181508,0.5211969033128494,0.5498622158069001,0.49545114697646625,0.48284024776161705,0.5271523198695551,0.4125265936171612,0.49541462217510696,0.4558669435045082,0.3582335743102877,0.4747327422912929,0.4434776456313997,0.6458417627782544,0.4351470104286098,0.4363860398179233,0.4365701343948852,0.3723090535378245,0.3898926843974542,0.5459687518028513,0.45624934584856164,0.49713094721712525,0.4914149862492556,0.4583080452207541,0.3955366427696522,0.4515520963475133,0.41745239942870016,0.40998768325708534,0.42769802278444696,0.5434932658250037,0.48041135374345034,0.4429847189173611,0.5574060328714638,0.4306121213296012,0.5297055079447619,0.43577917513531284,0.4102016351811809,0.46975249623916004,1.0,0.5459801402262222,0.38259804473528725],[0.6272373911000548,0.5741756640983708,0.5726252439108485,0.5265139321363776,0.5198797026339217,0.6408154645389271,0.5281871130795761,0.6256306219545392,0.5467538079285145,0.5181332522493968,0.5560009349567255,0.42165297869833845,0.49342780719868634,0.5825562169294651,0.4062155003588819,0.575736078318159,0.4793377285461203,0.5131851110970864,0.4887032864093648,0.4993597356071511,0.47751458461907204,0.5635504912592956,0.47932691090214885,0.4812241215025576,0.46289953044064847,0.4848024583636629,0.5559730690757336,0.5814278486529337,0.5215053009882938,0.5152393841866936,0.5648869191504646,0.4514779062769378,0.4987456675719191,0.4720167954626978,0.486149961502538,0.48283706258620135,0.4432453915890402,0.6090323188117414,0.5571946144643567,0.5625085609096673,0.5854278118289812,0.5388998233985235,0.49912198007629965,0.4096474976223981,0.5242459696420586,0.5459801402262222,0.9999999999999994,0.4195498748402801],[0.6005581166103086,0.6410720262592423,0.5179140271552619,0.58722210842849,0.4912468374958733,0.6128012749972191,0.49930666231624776,0.5907022966517104,0.517520917722005,0.5509872185442286,0.47714711450719355,0.5436315030005191,0.4237356402412225,0.5032747544885552,0.510582060798022,0.4996368214419087,0.4377445881502947,0.3938599853099012,0.5600141918797107,0.47996673003821644,0.4528809824463013,0.35976170342846037,0.4756111301748008,0.4902330262085611,0.4840664707095791,0.6079987687044667,0.5861436325052793,0.45485228078133777,0.4392429814173302,0.41912196820443154,0.5696658913200116,0.8874825478509328,0.4298812092785679,0.4197723040340151,0.44069000160730887,0.33963175301548726,0.4785301669123753,0.44568175372111546,0.47658014423047435,0.49337109187604683,0.4665269225994953,0.4445915963546315,0.46787760651622934,0.46376383148647293,0.47940718530115195,0.38259804473528725,0.4195498748402801,0.9999999999999996]],\"type\":\"heatmap\",\"xaxis\":\"x\",\"yaxis\":\"y\",\"hovertemplate\":\"x: %{x}\\u003cbr\\u003ey: %{y}\\u003cbr\\u003eSimilarity Score: %{z}\\u003cextra\\u003e\\u003c\\u002fextra\\u003e\"}],                        {\"template\":{\"data\":{\"histogram2dcontour\":[{\"type\":\"histogram2dcontour\",\"colorbar\":{\"outlinewidth\":0,\"ticks\":\"\"},\"colorscale\":[[0.0,\"#0d0887\"],[0.1111111111111111,\"#46039f\"],[0.2222222222222222,\"#7201a8\"],[0.3333333333333333,\"#9c179e\"],[0.4444444444444444,\"#bd3786\"],[0.5555555555555556,\"#d8576b\"],[0.6666666666666666,\"#ed7953\"],[0.7777777777777778,\"#fb9f3a\"],[0.8888888888888888,\"#fdca26\"],[1.0,\"#f0f921\"]]}],\"choropleth\":[{\"type\":\"choropleth\",\"colorbar\":{\"outlinewidth\":0,\"ticks\":\"\"}}],\"histogram2d\":[{\"type\":\"histogram2d\",\"colorbar\":{\"outlinewidth\":0,\"ticks\":\"\"},\"colorscale\":[[0.0,\"#0d0887\"],[0.1111111111111111,\"#46039f\"],[0.2222222222222222,\"#7201a8\"],[0.3333333333333333,\"#9c179e\"],[0.4444444444444444,\"#bd3786\"],[0.5555555555555556,\"#d8576b\"],[0.6666666666666666,\"#ed7953\"],[0.7777777777777778,\"#fb9f3a\"],[0.8888888888888888,\"#fdca26\"],[1.0,\"#f0f921\"]]}],\"heatmap\":[{\"type\":\"heatmap\",\"colorbar\":{\"outlinewidth\":0,\"ticks\":\"\"},\"colorscale\":[[0.0,\"#0d0887\"],[0.1111111111111111,\"#46039f\"],[0.2222222222222222,\"#7201a8\"],[0.3333333333333333,\"#9c179e\"],[0.4444444444444444,\"#bd3786\"],[0.5555555555555556,\"#d8576b\"],[0.6666666666666666,\"#ed7953\"],[0.7777777777777778,\"#fb9f3a\"],[0.8888888888888888,\"#fdca26\"],[1.0,\"#f0f921\"]]}],\"heatmapgl\":[{\"type\":\"heatmapgl\",\"colorbar\":{\"outlinewidth\":0,\"ticks\":\"\"},\"colorscale\":[[0.0,\"#0d0887\"],[0.1111111111111111,\"#46039f\"],[0.2222222222222222,\"#7201a8\"],[0.3333333333333333,\"#9c179e\"],[0.4444444444444444,\"#bd3786\"],[0.5555555555555556,\"#d8576b\"],[0.6666666666666666,\"#ed7953\"],[0.7777777777777778,\"#fb9f3a\"],[0.8888888888888888,\"#fdca26\"],[1.0,\"#f0f921\"]]}],\"contourcarpet\":[{\"type\":\"contourcarpet\",\"colorbar\":{\"outlinewidth\":0,\"ticks\":\"\"}}],\"contour\":[{\"type\":\"contour\",\"colorbar\":{\"outlinewidth\":0,\"ticks\":\"\"},\"colorscale\":[[0.0,\"#0d0887\"],[0.1111111111111111,\"#46039f\"],[0.2222222222222222,\"#7201a8\"],[0.3333333333333333,\"#9c179e\"],[0.4444444444444444,\"#bd3786\"],[0.5555555555555556,\"#d8576b\"],[0.6666666666666666,\"#ed7953\"],[0.7777777777777778,\"#fb9f3a\"],[0.8888888888888888,\"#fdca26\"],[1.0,\"#f0f921\"]]}],\"surface\":[{\"type\":\"surface\",\"colorbar\":{\"outlinewidth\":0,\"ticks\":\"\"},\"colorscale\":[[0.0,\"#0d0887\"],[0.1111111111111111,\"#46039f\"],[0.2222222222222222,\"#7201a8\"],[0.3333333333333333,\"#9c179e\"],[0.4444444444444444,\"#bd3786\"],[0.5555555555555556,\"#d8576b\"],[0.6666666666666666,\"#ed7953\"],[0.7777777777777778,\"#fb9f3a\"],[0.8888888888888888,\"#fdca26\"],[1.0,\"#f0f921\"]]}],\"mesh3d\":[{\"type\":\"mesh3d\",\"colorbar\":{\"outlinewidth\":0,\"ticks\":\"\"}}],\"scatter\":[{\"fillpattern\":{\"fillmode\":\"overlay\",\"size\":10,\"solidity\":0.2},\"type\":\"scatter\"}],\"parcoords\":[{\"type\":\"parcoords\",\"line\":{\"colorbar\":{\"outlinewidth\":0,\"ticks\":\"\"}}}],\"scatterpolargl\":[{\"type\":\"scatterpolargl\",\"marker\":{\"colorbar\":{\"outlinewidth\":0,\"ticks\":\"\"}}}],\"bar\":[{\"error_x\":{\"color\":\"#2a3f5f\"},\"error_y\":{\"color\":\"#2a3f5f\"},\"marker\":{\"line\":{\"color\":\"#E5ECF6\",\"width\":0.5},\"pattern\":{\"fillmode\":\"overlay\",\"size\":10,\"solidity\":0.2}},\"type\":\"bar\"}],\"scattergeo\":[{\"type\":\"scattergeo\",\"marker\":{\"colorbar\":{\"outlinewidth\":0,\"ticks\":\"\"}}}],\"scatterpolar\":[{\"type\":\"scatterpolar\",\"marker\":{\"colorbar\":{\"outlinewidth\":0,\"ticks\":\"\"}}}],\"histogram\":[{\"marker\":{\"pattern\":{\"fillmode\":\"overlay\",\"size\":10,\"solidity\":0.2}},\"type\":\"histogram\"}],\"scattergl\":[{\"type\":\"scattergl\",\"marker\":{\"colorbar\":{\"outlinewidth\":0,\"ticks\":\"\"}}}],\"scatter3d\":[{\"type\":\"scatter3d\",\"line\":{\"colorbar\":{\"outlinewidth\":0,\"ticks\":\"\"}},\"marker\":{\"colorbar\":{\"outlinewidth\":0,\"ticks\":\"\"}}}],\"scattermapbox\":[{\"type\":\"scattermapbox\",\"marker\":{\"colorbar\":{\"outlinewidth\":0,\"ticks\":\"\"}}}],\"scatterternary\":[{\"type\":\"scatterternary\",\"marker\":{\"colorbar\":{\"outlinewidth\":0,\"ticks\":\"\"}}}],\"scattercarpet\":[{\"type\":\"scattercarpet\",\"marker\":{\"colorbar\":{\"outlinewidth\":0,\"ticks\":\"\"}}}],\"carpet\":[{\"aaxis\":{\"endlinecolor\":\"#2a3f5f\",\"gridcolor\":\"white\",\"linecolor\":\"white\",\"minorgridcolor\":\"white\",\"startlinecolor\":\"#2a3f5f\"},\"baxis\":{\"endlinecolor\":\"#2a3f5f\",\"gridcolor\":\"white\",\"linecolor\":\"white\",\"minorgridcolor\":\"white\",\"startlinecolor\":\"#2a3f5f\"},\"type\":\"carpet\"}],\"table\":[{\"cells\":{\"fill\":{\"color\":\"#EBF0F8\"},\"line\":{\"color\":\"white\"}},\"header\":{\"fill\":{\"color\":\"#C8D4E3\"},\"line\":{\"color\":\"white\"}},\"type\":\"table\"}],\"barpolar\":[{\"marker\":{\"line\":{\"color\":\"#E5ECF6\",\"width\":0.5},\"pattern\":{\"fillmode\":\"overlay\",\"size\":10,\"solidity\":0.2}},\"type\":\"barpolar\"}],\"pie\":[{\"automargin\":true,\"type\":\"pie\"}]},\"layout\":{\"autotypenumbers\":\"strict\",\"colorway\":[\"#636efa\",\"#EF553B\",\"#00cc96\",\"#ab63fa\",\"#FFA15A\",\"#19d3f3\",\"#FF6692\",\"#B6E880\",\"#FF97FF\",\"#FECB52\"],\"font\":{\"color\":\"#2a3f5f\"},\"hovermode\":\"closest\",\"hoverlabel\":{\"align\":\"left\"},\"paper_bgcolor\":\"white\",\"plot_bgcolor\":\"#E5ECF6\",\"polar\":{\"bgcolor\":\"#E5ECF6\",\"angularaxis\":{\"gridcolor\":\"white\",\"linecolor\":\"white\",\"ticks\":\"\"},\"radialaxis\":{\"gridcolor\":\"white\",\"linecolor\":\"white\",\"ticks\":\"\"}},\"ternary\":{\"bgcolor\":\"#E5ECF6\",\"aaxis\":{\"gridcolor\":\"white\",\"linecolor\":\"white\",\"ticks\":\"\"},\"baxis\":{\"gridcolor\":\"white\",\"linecolor\":\"white\",\"ticks\":\"\"},\"caxis\":{\"gridcolor\":\"white\",\"linecolor\":\"white\",\"ticks\":\"\"}},\"coloraxis\":{\"colorbar\":{\"outlinewidth\":0,\"ticks\":\"\"}},\"colorscale\":{\"sequential\":[[0.0,\"#0d0887\"],[0.1111111111111111,\"#46039f\"],[0.2222222222222222,\"#7201a8\"],[0.3333333333333333,\"#9c179e\"],[0.4444444444444444,\"#bd3786\"],[0.5555555555555556,\"#d8576b\"],[0.6666666666666666,\"#ed7953\"],[0.7777777777777778,\"#fb9f3a\"],[0.8888888888888888,\"#fdca26\"],[1.0,\"#f0f921\"]],\"sequentialminus\":[[0.0,\"#0d0887\"],[0.1111111111111111,\"#46039f\"],[0.2222222222222222,\"#7201a8\"],[0.3333333333333333,\"#9c179e\"],[0.4444444444444444,\"#bd3786\"],[0.5555555555555556,\"#d8576b\"],[0.6666666666666666,\"#ed7953\"],[0.7777777777777778,\"#fb9f3a\"],[0.8888888888888888,\"#fdca26\"],[1.0,\"#f0f921\"]],\"diverging\":[[0,\"#8e0152\"],[0.1,\"#c51b7d\"],[0.2,\"#de77ae\"],[0.3,\"#f1b6da\"],[0.4,\"#fde0ef\"],[0.5,\"#f7f7f7\"],[0.6,\"#e6f5d0\"],[0.7,\"#b8e186\"],[0.8,\"#7fbc41\"],[0.9,\"#4d9221\"],[1,\"#276419\"]]},\"xaxis\":{\"gridcolor\":\"white\",\"linecolor\":\"white\",\"ticks\":\"\",\"title\":{\"standoff\":15},\"zerolinecolor\":\"white\",\"automargin\":true,\"zerolinewidth\":2},\"yaxis\":{\"gridcolor\":\"white\",\"linecolor\":\"white\",\"ticks\":\"\",\"title\":{\"standoff\":15},\"zerolinecolor\":\"white\",\"automargin\":true,\"zerolinewidth\":2},\"scene\":{\"xaxis\":{\"backgroundcolor\":\"#E5ECF6\",\"gridcolor\":\"white\",\"linecolor\":\"white\",\"showbackground\":true,\"ticks\":\"\",\"zerolinecolor\":\"white\",\"gridwidth\":2},\"yaxis\":{\"backgroundcolor\":\"#E5ECF6\",\"gridcolor\":\"white\",\"linecolor\":\"white\",\"showbackground\":true,\"ticks\":\"\",\"zerolinecolor\":\"white\",\"gridwidth\":2},\"zaxis\":{\"backgroundcolor\":\"#E5ECF6\",\"gridcolor\":\"white\",\"linecolor\":\"white\",\"showbackground\":true,\"ticks\":\"\",\"zerolinecolor\":\"white\",\"gridwidth\":2}},\"shapedefaults\":{\"line\":{\"color\":\"#2a3f5f\"}},\"annotationdefaults\":{\"arrowcolor\":\"#2a3f5f\",\"arrowhead\":0,\"arrowwidth\":1},\"geo\":{\"bgcolor\":\"white\",\"landcolor\":\"#E5ECF6\",\"subunitcolor\":\"white\",\"showland\":true,\"showlakes\":true,\"lakecolor\":\"white\"},\"title\":{\"x\":0.05},\"mapbox\":{\"style\":\"light\"}}},\"xaxis\":{\"anchor\":\"y\",\"domain\":[0.0,1.0],\"scaleanchor\":\"y\",\"constrain\":\"domain\"},\"yaxis\":{\"anchor\":\"x\",\"domain\":[0.0,1.0],\"autorange\":\"reversed\",\"constrain\":\"domain\"},\"coloraxis\":{\"colorbar\":{\"title\":{\"text\":\"Similarity Score\"}},\"colorscale\":[[0.0,\"rgb(247,252,240)\"],[0.125,\"rgb(224,243,219)\"],[0.25,\"rgb(204,235,197)\"],[0.375,\"rgb(168,221,181)\"],[0.5,\"rgb(123,204,196)\"],[0.625,\"rgb(78,179,211)\"],[0.75,\"rgb(43,140,190)\"],[0.875,\"rgb(8,104,172)\"],[1.0,\"rgb(8,64,129)\"]]},\"margin\":{\"t\":60},\"title\":{\"font\":{\"size\":22,\"color\":\"Black\"},\"text\":\"\\u003cb\\u003eSimilarity Matrix\\u003c\\u002fb\\u003e\",\"y\":0.95,\"x\":0.55,\"xanchor\":\"center\",\"yanchor\":\"top\"},\"hoverlabel\":{\"font\":{\"size\":16,\"family\":\"Rockwell\"},\"bgcolor\":\"white\"},\"width\":800,\"height\":800,\"showlegend\":true,\"legend\":{\"title\":{\"text\":\"Trend\"}}},                        {\"responsive\": true}                    ).then(function(){\n",
              "                            \n",
              "var gd = document.getElementById('78bc3263-6005-4216-b989-c59fe43a5631');\n",
              "var x = new MutationObserver(function (mutations, observer) {{\n",
              "        var display = window.getComputedStyle(gd).display;\n",
              "        if (!display || display === 'none') {{\n",
              "            console.log([gd, 'removed!']);\n",
              "            Plotly.purge(gd);\n",
              "            observer.disconnect();\n",
              "        }}\n",
              "}});\n",
              "\n",
              "// Listen for the removal of the full notebook cells\n",
              "var notebookContainer = gd.closest('#notebook-container');\n",
              "if (notebookContainer) {{\n",
              "    x.observe(notebookContainer, {childList: true});\n",
              "}}\n",
              "\n",
              "// Listen for the clearing of the current output cell\n",
              "var outputEl = gd.closest('.output');\n",
              "if (outputEl) {{\n",
              "    x.observe(outputEl, {childList: true});\n",
              "}}\n",
              "\n",
              "                        })                };                            </script>        </div>\n",
              "</body>\n",
              "</html>"
            ]
          },
          "metadata": {}
        }
      ]
    }
  ]
}